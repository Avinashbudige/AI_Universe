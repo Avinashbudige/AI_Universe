{
 "cells": [
  {
   "cell_type": "markdown",
   "metadata": {},
   "source": []
  },
  {
   "cell_type": "code",
   "execution_count": 1,
   "metadata": {},
   "outputs": [
    {
     "name": "stderr",
     "output_type": "stream",
     "text": [
      "ERROR: Could not open requirements file: [Errno 2] No such file or directory: 'requirement'\n",
      "\n",
      "[notice] A new release of pip is available: 24.0 -> 24.2\n",
      "[notice] To update, run: python.exe -m pip install --upgrade pip\n"
     ]
    }
   ],
   "source": [
    "! pip install -r requirement"
   ]
  },
  {
   "cell_type": "markdown",
   "metadata": {},
   "source": [
    "# library"
   ]
  },
  {
   "cell_type": "code",
   "execution_count": 2,
   "metadata": {},
   "outputs": [],
   "source": [
    "import tensorflow as tf\n",
    "import pandas as pd\n",
    "import matplotlib.pyplot as plt\n",
    "import os\n",
    "import numpy as np\n",
    "import cv2\n",
    "import PIL\n",
    "from tensorflow.keras.callbacks import ModelCheckpoint\n"
   ]
  },
  {
   "cell_type": "markdown",
   "metadata": {},
   "source": [
    "# creating a pandas dataframe"
   ]
  },
  {
   "cell_type": "markdown",
   "metadata": {},
   "source": [
    "Contains the filepath, labels, "
   ]
  },
  {
   "cell_type": "code",
   "execution_count": 3,
   "metadata": {},
   "outputs": [
    {
     "name": "stdout",
     "output_type": "stream",
     "text": [
      "The file data: ['0050f38b3.png', '0183fdf68.png', '0260cffa8.png', '05eedce4d.png', '075d004bc.png', '078eae073.png', '082314602.png', '0ace21089.png', '0b228a6b8.png', '0b3e7a7a9.png', '0bb75ded8.png', '0be707615.png', '0c67c3fc3.png', '0d1a9985f.png', '0d28c429b.png', '0d4f74f4a.png', '0dad57e7f.png', '0e91f92a1.png', '0fe440ed5.png', '1276dffba.png', '129c51855.png', '13a7f553a.png', '14719a83e.png', '1576ce9fd.png', '163c13912.png', '163e571a6.png', '16c69a6d8.png', '173cec485.png', '1a125880e.png', '1af1eddd3.png', '1d39b8f30.png', '1e49633e0.png', '20b2cbaed.png', '20d4fab57.png', '2269e0a1e.png', '228d8ad5c.png', '22be204a3.png', '25daae389.png', '260c4eed3.png', '26103af9c.png', '279ac215b.png', '28a707630.png', '2aa60045d.png', '2ed589264.png', '2ee4dad8c.png', '2f0ae1b34.png', '2f6bc240a.png', '3002e5d9d.png', '31958c132.png', '31f2766cb.png', '32d97b170.png', '332f68a21.png', '34a672a63.png', '355cad34c.png', '37d85d833.png', '39e9bf4c7.png', '3a8c485bc.png', '3b7266ac3.png', '3b7d1fe82.png', '3dc08a0f7.png', '3de7650a2.png', '3e9ef1999.png', '3f268bcf8.png', '3fb361e79.png', '3ff68fa8a.png', '40bf7be90.png', '418808d19.png', '42336b187.png', '429a48df1.png', '42af989bc.png', '448a59eac.png', '455546801.png', '461feacba.png', '470608aba.png', '48141d6a7.png', '495cebacf.png', '498269666.png', '4a3b96198.png', '4a7e7eba8.png', '4cd2a07dd.png', '4cf922aea.png', '4e1cb1e27.png', '4f0dcbcc3.png', '4f48eb987.png', '5212d8564.png', '5296a06e6.png', '53ab7a3da.png', '54b2dac6e.png', '54c6dbde4.png', '550dfcb36.png', '594485a0c.png', '595e77ddf.png', '5a1295fb4.png', '5a8b75712.png', '5c405ae2d.png', '5d358beb9.png', '5db29d0b5.png', '5e21fa6f1.png', '5e4d1ee0d.png', '5e65dbdd7.png', '6104de96e.png', '6172f64fd.png', '6182bd48c.png', '675a6956e.png', '686132594.png', '69ad6773e.png', '6a19547c5.png', '6aabdeb45.png', '6afa7c717.png', '6b9ebf8cc.png', '6e027ec7d.png', '6e193f1bb.png', '7050b0b8a.png', '70bfa70ff.png', '71f6e3227.png', '72fd52505.png', '75ef53b3b.png', '765a69082.png', '775735fb9.png', '77629b9e3.png', '7b71d3e65.png', '7b72b398d.png', '7e1bf9449.png', '7f37cd4e4.png', '7f84c8699.png', '7fa6dbe11.png', '8029e3396.png', '807f9b257.png', '82e0d98d2.png', '840a7ed59.png', '84e43f2ff.png', '850a09a6b.png', '86dfe670c.png', '87dd8ebac.png', '88fceea2f.png', '891c720f8.png', '898ecfa78.png', '89f06ca64.png', '8dd397cd9.png', '9052e3e7f.png', '90ea1e327.png', '91a175741.png', '92e5fcce4.png', '93f68d1a9.png', '9443199bb.png', '957b8523c.png', '963dbc831.png', '97cbef805.png', '983663c56.png', '9959fb099.png', '9b1c42272.png', '9e2bfa93d.png', '9e99f6a34.png', 'a03bc7b24.png', 'a0405de4d.png', 'a08892355.png', 'a0baf5f7b.png', 'a1cb5a321.png', 'a20b64ac6.png', 'a26cb8017.png', 'a37d61200.png', 'a47cfeec4.png', 'a53088ca0.png', 'a5f23b59f.png', 'a6f939a8b.png', 'a7d2b005e.png', 'a87fd277c.png', 'a8ab1ff26.png', 'a8cdae28a.png', 'a8de8a80a.png', 'aa5bb06a1.png', 'ab479d343.png', 'ab787fb46.png', 'abe0f4751.png', 'ac47ebc4d.png', 'ac56bd408.png', 'adc5443dc.png', 'ade525bad.png', 'ae8f69724.png', 'af1b91028.png', 'af3e2c6da.png', 'afaade548.png', 'b024eeb75.png', 'b26a7a6ed.png', 'b4b8b1507.png', 'b504c071f.png', 'b561b3bc2.png', 'b790f7be5.png', 'b937353c0.png', 'b9dfffe2a.png', 'b9e36fa79.png', 'bab8eb04a.png', 'bac2710a2.png', 'bc68a27f9.png', 'befaed3e4.png', 'bf5662989.png', 'c025e2886.png', 'c0cbaa32c.png', 'c11422bb2.png', 'c1a625098.png', 'c1ab59648.png', 'c39541d9a.png', 'c3b38d028.png', 'c66bab8b6.png', 'c8884407d.png', 'c999c3095.png', 'c9f6ffa0c.png', 'cbeb36bc6.png', 'cc90c662f.png', 'cd8031a0c.png', 'cfbe062b3.png', 'd090d6b25.png', 'd0ad9c78b.png', 'd112c9c28.png', 'd3c72d4c3.png', 'd3e69adad.png', 'd3ff1a639.png', 'd441eeda3.png', 'd6036a0f4.png', 'd622ca3d2.png', 'd8afd58f3.png', 'da4f48653.png', 'da5082ce2.png', 'daa7d4620.png', 'db337c4e7.png', 'dca86daba.png', 'dcbd3fa08.png', 'dd091a2a9.png', 'dde665ea5.png', 'df2e6e002.png', 'e0380dff9.png', 'e2b2a20b2.png', 'e47987eab.png', 'e4af651a3.png', 'e5a6e8ebc.png', 'e5f50d22a.png', 'e62aa6d6e.png', 'e67dbce63.png', 'e7d7e6351.png', 'ea498dd9c.png', 'ea85eb4a1.png', 'eac39cfa8.png', 'ebd2350df.png', 'ecd14321d.png', 'ed0bc2794.png', 'ed17d766b.png', 'ed4b42936.png', 'ed540beb6.png', 'f007dfa26.png', 'f0a7c51a2.png', 'f20bf670a.png', 'f39ddbe0a.png', 'f423f84da.png', 'f47390401.png', 'f4b7ddbce.png', 'f5ca3d442.png', 'f7f671785.png', 'f82d13d23.png', 'f84089a55.png', 'fab809601.png', 'fb487c5a4.png', 'fc1001932.png', 'fef14b865.png']\n",
      "The file data: ['022179d65.png', '02c95e601.png', '04098447d.png', '04142acb9.png', '0537577cd.png', '084a9cb18.png', '08fcc43a7.png', '09f038ce4.png', '0a7e1ca41.png', '0b2fba287.png', '0b3167af8.png', '0c4a435c7.png', '0cf0581b1.png', '0d5f555a3.png', '0dba71eba.png', '0e1627696.png', '0e51b1876.png', '0edcd02cd.png', '0f951d51e.png', '0fa930fa9.png', '100f53f2a.png', '10b7d4de4.png', '10d884885.png', '11185184a.png', '12c18399b.png', '137c4e78e.png', '137d1ed87.png', '13d67633c.png', '143f07e0d.png', '145635854.png', '157ade042.png', '1639ed813.png', '167202290.png', '168982d9c.png', '16d4e0dd3.png', '1716acd53.png', '17199b5a7.png', '17fa6cd9c.png', '1876d091f.png', '1a92d7c2a.png', '1aae936b7.png', '1b31ec656.png', '1b534df5b.png', '1b8281227.png', '1d9676402.png', '1da9ac0ba.png', '1dfeec485.png', '1e808df13.png', '1f6df012f.png', '1fb63feb5.png', '1fe41c75c.png', '200589bf2.png', '207c8f749.png', '2097eebd0.png', '20b955bc3.png', '23bf27e1f.png', '25cab77ab.png', '270209308.png', '299c79409.png', '2d9af457e.png', '2f75f171e.png', '2fd604008.png', '303cfad91.png', '307dcba5f.png', '30a669574.png', '3217ef372.png', '32fc83278.png', '34842c4a1.png', '34ada5879.png', '34dab243e.png', '350a133fe.png', '35e06a98d.png', '363fbba0d.png', '36fad6f5d.png', '385a498a1.png', '3981b625f.png', '3ac96f88f.png', '3b2ae0151.png', '3b8b3e7be.png', '3ba14a843.png', '3c75e7d79.png', '3d32fbf63.png', '3d957e19d.png', '3e2cf6dc3.png', '3e3cb2246.png', '40ae56209.png', '410598462.png', '412966c74.png', '420c6475c.png', '42203bff1.png', '42868a82d.png', '43b607981.png', '447c52f72.png', '4537042f3.png', '476068dcb.png', '47c2398c9.png', '48ca70ed5.png', '49a8c3409.png', '4bbc8083f.png', '4c19db861.png', '4cf7fd2d0.png', '4e0cef11d.png', '4e4234576.png', '503bc583a.png', '512f3e717.png', '51b461a5e.png', '523c4c9dd.png', '526a7944e.png', '5283b8c96.png', '55d410aca.png', '562ff38ac.png', '566cd15f1.png', '57b972eb5.png', '5841a3656.png', '5883bf7ce.png', '5a6794cb7.png', '5b8301d7f.png', '5c75eae98.png', '5ca18ec83.png', '5d820b1cb.png', '5db43df54.png', '5e2a94fb3.png', '5e5644439.png', '5ecc28145.png', '5f331f09c.png', '60d99c56c.png', '6266112a8.png', '638267ce4.png', '63a15c42c.png', '63a3d8fa0.png', '6535bc073.png', '654bb174e.png', '65ea4e47c.png', '66815e7fd.png', '66e9a00b7.png', '671b2d4eb.png', '67af4b8ca.png', '67e37de9b.png', '692e2c6f0.png', '69734d263.png', '69ee68f42.png', '6a0d339e2.png', '6a23010e3.png', '6a3339ef1.png', '6a773e6f5.png', '6a84bdf5f.png', '6aae02cb3.png', '6b0964b5e.png', '6c64e78b5.png', '6ccccc87f.png', '6d8b4041a.png', '6dd8febb5.png', '6e31a4a1b.png', '6e891673a.png', '6ea9a8d71.png', '6ed6398a3.png', '6fa73fdf6.png', '6fb06e7ea.png', '704e5bf0a.png', '7066f950c.png', '71472bf20.png', '7249f8ad5.png', '72f587775.png', '730875fd4.png', '73ddcfa90.png', '7427b0007.png', '74dc2a5ae.png', '75ae3b231.png', '75dcfc459.png', '75e838f3e.png', '7603e9dc8.png', '781470a54.png', '78a4d13c5.png', '78c15e337.png', '78fc2ef58.png', '79e819019.png', '7a766307c.png', '7b28fc70e.png', '7b4d1832b.png', '7be37a159.png', '7cfc5943e.png', '7d16f8f00.png', '7ed1aa0b2.png', '7f251fb9d.png', '7f6d9ef11.png', '8194b5c6a.png', '8194f9c87.png', '819cf3a32.png', '81be6d02f.png', '82b303659.png', '83ac9fba2.png', '84281dd7c.png', '846db9b8a.png', '84e4249ae.png', '85637dbdc.png', '85f558e39.png', '8705afe70.png', '87168f1c7.png', '88c2c6f8a.png', '88c5a0b11.png', '88c8cbb35.png', '89b586174.png', '89b84d6e9.png', '8b35222d0.png', '8b3f0fba7.png', '8c9c6b343.png', '8cc7a03c6.png', '8d16914a3.png', '8dd1dbca2.png', '8de73f114.png', '8df0f80e9.png', '8f4d248bd.png', '903fff84f.png', '90981bf00.png', '90faa7ccd.png', '92184e2d6.png', '921ef57b0.png', '92209cbd5.png', '946b7baea.png', '94af3e45a.png', '95d959662.png', '961517fac.png', '97907da1a.png', '982f40990.png', '99a661104.png', '99f80eb00.png', '9a3903864.png', '9ae330eda.png', '9b419387b.png', '9c55fa55a.png', '9cdf5eb74.png', '9d7f4d92c.png', '9df7399d3.png', '9f24b0c83.png', '9ffcb543c.png', 'a04a7dda2.png', 'a1f862ba9.png', 'a30113dfc.png', 'a48a9b71d.png', 'a501dcf4b.png', 'a51f29e7d.png', 'a5470a35a.png', 'a631f152b.png', 'a6e31acae.png', 'a7a3c2a2f.png', 'a7f1b995f.png', 'a880d32f3.png', 'a89ee4eb7.png', 'a8e7520de.png', 'a96c1356b.png', 'abb06eb1e.png', 'abe5f09d9.png', 'ad5acca39.png', 'adc0ca647.png', 'ae00ed5e0.png', 'ae5116f62.png', 'ae66022e7.png', 'ae813adcd.png', 'afba2f2ad.png', 'b10562f56.png', 'b10fcd298.png', 'b182916bb.png', 'b1b089347.png', 'b207ff8b2.png', 'b3b28cf8e.png', 'b50f12de9.png', 'b525a32bc.png', 'b53281833.png', 'b5b065c02.png', 'b7b28f840.png', 'b8421d027.png', 'b87ad78b7.png', 'ba2cfd858.png', 'ba2e2326d.png', 'bac8b25d8.png', 'bacbdf153.png', 'bdc8e6025.png', 'bde26ebbb.png', 'be27e52a5.png', 'bec896ebd.png', 'bef36ff4f.png', 'bfab71be4.png', 'c07c67078.png', 'c0aac7fc2.png', 'c0ae1e074.png', 'c0e365810.png', 'c19bc586d.png', 'c1b1e4f9d.png', 'c291766ce.png', 'c2a1c8163.png', 'c397b8d1a.png', 'c39fea9e3.png', 'c45aa7507.png', 'c5cca5955.png', 'c61d3ee3c.png', 'c6368b901.png', 'c7ac56c83.png', 'c836af21e.png', 'c842c829b.png', 'c8b44af53.png', 'c911db696.png', 'c9601d3ab.png', 'c97f86135.png', 'c9a504525.png', 'ca1aaeb27.png', 'ca8f0f871.png', 'caa43063c.png', 'cb142c018.png', 'cdbf55495.png', 'ce5473300.png', 'cf04964e6.png', 'd04eff450.png', 'd0641b545.png', 'd1b362c43.png', 'd2f07f3af.png', 'd31803377.png', 'd3228543a.png', 'd37702684.png', 'd5798e4cd.png', 'd5b30d4d2.png', 'd5f629eb0.png', 'd633facf4.png', 'd733b32d8.png', 'd8690d738.png', 'd8bd75282.png', 'd8da05d11.png', 'd903a2a6d.png', 'd9d4e0305.png', 'd9de67550.png', 'da2aa8585.png', 'db96c0bab.png', 'dc20df305.png', 'dccc5c0a7.png', 'dd021836c.png', 'ddb90e66a.png', 'ddcc7d9bf.png', 'ddf0958d2.png', 'de0e95661.png', 'de1dc1b00.png', 'de2cf9517.png', 'df586ac63.png', 'df7d711a9.png', 'dfb3d9a79.png', 'e23998a9b.png', 'e260cb2db.png', 'e262e89e9.png', 'e28fd1de4.png', 'e5868b452.png', 'e5d2875b4.png', 'e6918f541.png', 'e71a5f489.png', 'e795c53c9.png', 'e80aaab6b.png', 'e84b5ba79.png', 'ea0751e51.png', 'ea31723d5.png', 'ead0df392.png', 'eb9d116cf.png', 'ec205ced8.png', 'ec48facfa.png', 'ec615729c.png', 'ec84cacfe.png', 'ed260e354.png', 'eda5cd97f.png', 'ee111c2ae.png', 'ee4a02bf9.png', 'eeee1a97b.png', 'eeee9e96c.png', 'efdd9e2ea.png', 'f0a9c3b66.png', 'f0ced8a62.png', 'f11e74453.png', 'f193af8d4.png', 'f1f9ab9b0.png', 'f340a3378.png', 'f39a873f8.png', 'f5672ef15.png', 'f5eec02cf.png', 'f67425c37.png', 'f7edd4688.png', 'f81c60e7b.png', 'f9a6d5127.png', 'fc0a2a9b8.png', 'fc3e15a2e.png', 'fc584691c.png', 'fca3c13ca.png', 'fd3e62689.png', 'fd5021432.png', 'fe98d5e24.png', 'ffe349114.png']\n",
      "The file data: ['005b4a3e3.png', '00aa8d5a4.png', '00df90ed6.png', '01605ed73.png', '03bee43c0.png', '0515bc601.png', '0522ec53b.png', '06f447848.png', '0756fd41e.png', '07ac7bc07.png', '0920492fd.png', '09da4f213.png', '0a1e622bc.png', '0a33283c7.png', '0ac0f0a66.png', '0ac327873.png', '0b44c3a6c.png', '0bcf29af7.png', '0bdee2052.png', '0bec204c7.png', '0dbfac958.png', '0f557bb1a.png', '10a18e8d1.png', '11760cf9f.png', '11c5eb5b6.png', '124f732d8.png', '136d5af0b.png', '1526846f7.png', '153f94019.png', '15917308c.png', '15f41649c.png', '16e0482dd.png', '184e9eb16.png', '1896061bc.png', '198653e67.png', '1a4fe0d36.png', '1af15c939.png', '1b28a0668.png', '1bc5bea6c.png', '1c43f8251.png', '1c801fa69.png', '1d0b4527d.png', '1e0caafd3.png', '1e33a3dce.png', '1e5041183.png', '1e510607e.png', '1ef8ef4af.png', '1ffcc6d2c.png', '20964b9b7.png', '2261906cf.png', '2297085a0.png', '252585ad8.png', '2559137f2.png', '265a7f826.png', '294d28c60.png', '299190b08.png', '2a1d10e06.png', '2baa68b6e.png', '2c5c4d127.png', '2e47c7233.png', '2e547d792.png', '2e97487c4.png', '2f38351b7.png', '30418535b.png', '3232000bf.png', '323f03521.png', '33c1f167f.png', '33d0d3358.png', '34648ed0b.png', '34f210a03.png', '3516267fc.png', '360f883f6.png', '364a60044.png', '368707311.png', '36e0d8ca6.png', '37a3c8675.png', '398cc8af9.png', '3a4e50c40.png', '3c2e76718.png', '3ccb22924.png', '3d9ea1649.png', '3f5b465c6.png', '3fc47de35.png', '413a96d3d.png', '41da62977.png', '420f3654f.png', '42645d809.png', '4301f9c21.png', '44047de36.png', '4444af894.png', '4449f17c5.png', '44ef950c3.png', '4613b263e.png', '4620b59f7.png', '491286e9c.png', '491b8502a.png', '495602403.png', '4b9125e90.png', '4c7552a5c.png', '4e01a3eab.png', '500a7b5b3.png', '5010487f2.png', '502eee444.png', '5439f9f36.png', '5543b3415.png', '565a81e32.png', '5778852ed.png', '581c0ecb3.png', '58b68b1ea.png', '58be08e22.png', '591daf862.png', '595d40614.png', '5aaaf0ea0.png', '5abac7fbf.png', '5b5a7214a.png', '5d2b820a9.png', '609c74407.png', '61287f47a.png', '655d1ffdd.png', '666fa4f1a.png', '67afc84df.png', '6820df17f.png', '6895ae7c9.png', '68a24bc47.png', '68a3d6b27.png', '6a4ef17c2.png', '6acdb8e68.png', '6bcc0c252.png', '6c10be2a7.png', '6cd9902c0.png', '6cead585f.png', '6e0fa9bcc.png', '750c447e0.png', '75371625f.png', '77e4bee70.png', '78dde1704.png', '794b914bf.png', '796b61337.png', '7a9efaf6c.png', '7b257e388.png', '7b49d39c2.png', '7b9729321.png', '7cef265e7.png', '7da015f0a.png', '7da3bda82.png', '7e501d74c.png', '7e8212b65.png', '7e9b71110.png', '7f3369186.png', '7fa1a92ca.png', '8035a175e.png', '82a9322ea.png', '83abc465e.png', '853b1a32e.png', '857304342.png', '85b23f3e6.png', '863b1dbd4.png', '868da1d55.png', '871ec43cc.png', '88218400c.png', '899877fe1.png', '8a112bfb4.png', '8aa470d03.png', '8baf67453.png', '8c0e41a93.png', '8c26d810d.png', '8c73a6f46.png', '8cc66b39e.png', '8cf59e291.png', '8df9991b8.png', '8ee3f0b6f.png', '9214c2997.png', '944e50e37.png', '94f82e916.png', '94fa687c1.png', '952540220.png', '95a10dd51.png', '98937154f.png', '98ad03ef1.png', '99c858d54.png', '9b35827fa.png', '9b8ed8471.png', '9b941ac1b.png', '9c337ab7a.png', '9d763f383.png', '9e250b25f.png', '9e899d1ee.png', '9e966d9db.png', 'a06109e80.png', 'a07efb1e0.png', 'a20cd3ec2.png', 'a26d6a898.png', 'a3085c4c8.png', 'a3b9a33dd.png', 'a4cfc9036.png', 'a51e6f301.png', 'a562c2b14.png', 'a5b126385.png', 'a714fbc63.png', 'a96e704e7.png', 'a9b4417a7.png', 'aa2c378e7.png', 'abb763143.png', 'b022e53c3.png', 'b07aeb162.png', 'b0a1ac210.png', 'b15ca8e4a.png', 'b6220c08e.png', 'ba79cdbcb.png', 'bc66f9116.png', 'bd2fa36aa.png', 'bd4f2a692.png', 'bd6681c02.png', 'be41914d8.png', 'becdd9442.png', 'bf07fe75d.png', 'c0784c573.png', 'c0c1567ab.png', 'c30be2849.png', 'c336c8da6.png', 'c33c988c1.png', 'c3b79748e.png', 'c3f4b326a.png', 'c4a974463.png', 'c4dfaf0ee.png', 'c5f01dc34.png', 'c5f57467a.png', 'c6c56d45c.png', 'c7b4ce2e3.png', 'c806aa45d.png', 'c9576e39e.png', 'c977c4903.png', 'c9a021a1a.png', 'c9e078b54.png', 'cb3f058b9.png', 'cc2ffb750.png', 'cc8f45811.png', 'cd17d9cd6.png', 'cf285e97d.png', 'd17e2cfa1.png', 'd20d68489.png', 'd3a7492ff.png', 'd4552e3f6.png', 'd4803dca4.png', 'd55caa949.png', 'd81f07b0b.png', 'd8597aa6a.png', 'd8f23e930.png', 'd90adada5.png', 'd96c1e585.png', 'd9739baa6.png', 'd99ddf94b.png', 'da38229c7.png', 'db4d4f5a7.png', 'db735ff97.png', 'dbb42229b.png', 'df341f2d4.png', 'e2d1c8a71.png', 'e39dd6305.png', 'e63ef7169.png', 'e8398d543.png', 'e923f523a.png', 'e96ebe7f6.png', 'ea343a58f.png', 'ead01d4a3.png', 'eb2b0d2f6.png', 'ebe7c4208.png', 'ed3e7e5a7.png', 'ee1cd35fa.png', 'ee5cc2c19.png', 'eed8f31b8.png', 'ef4a36963.png', 'f1810d3fa.png', 'f185a1d75.png', 'f2d50dae3.png', 'f4248cc7f.png', 'f5608b615.png', 'f5a58ab42.png', 'f607ea0bf.png', 'f60e82a03.png', 'f9f3c4595.png', 'fab297bc9.png', 'fc26df0cf.png', 'fd2400d5f.png', 'fd2683ed1.png', 'fd5074d77.png', 'feecf1be6.png']\n",
      "The file data: ['00b6eee9f.png', '00ba5f88a.png', '00d33935c.png', '0118f1f70.png', '017a3000a.png', '019c3bbea.png', '01eef6041.png', '024b144e3.png', '02ad544a4.png', '02beb950e.png', '0331a0d41.png', '0366e36eb.png', '036eca712.png', '037295da4.png', '04526c399.png', '04b597a3f.png', '04baa9ae6.png', '054a3e47e.png', '05675900a.png', '0573b0ff7.png', '0593874ae.png', '05a56fcc4.png', '062f0fec6.png', '06c42cf3f.png', '06e9bbeba.png', '0704bc02b.png', '072fc34f1.png', '07e651912.png', '085df38fb.png', '08cdaa9ed.png', '0907487ed.png', '09202a9a6.png', '0965e0741.png', '096eb593d.png', '09a6108ae.png', '09d0908b0.png', '09f58b32a.png', '0a1c68ef9.png', '0a26afdf8.png', '0a2d20538.png', '0a8227413.png', '0b91b1f50.png', '0bc00be9f.png', '0c07d7246.png', '0c25871d9.png', '0c7fc717a.png', '0cc84e7b2.png', '0e261908b.png', '0f390ed98.png', '0f44cf2af.png', '0f872f09e.png', '0ff3c628c.png', '0ffbcb790.png', '1007fd84f.png', '108dfd224.png', '10a42d01f.png', '10c956c81.png', '1120761ef.png', '125c2316a.png', '1265c4a42.png', '128d62bc2.png', '137dad5ef.png', '142c503e1.png', '14486549c.png', '145b9d73c.png', '146feb316.png', '149f0527e.png', '14b7eab5d.png', '151a67732.png', '1599e5ec9.png', '15cbad146.png', '15f6bed07.png', '15ff4b029.png', '16033c75c.png', '1640f4ae3.png', '168b7d0ec.png', '168fed6c3.png', '169afb6aa.png', '16b1530ce.png', '16c5adff0.png', '16f17c7d1.png', '17bd14c74.png', '186660f3e.png', '18757e215.png', '18b1f733a.png', '19a44418c.png', '19f62aae6.png', '1a459e1de.png', '1a4f7a1e1.png', '1a5c28e0a.png', '1a81a6532.png', '1b32b40d8.png', '1b76d1681.png', '1bb666d37.png', '1c05c26a1.png', '1c1cce1e6.png', '1d00f7fab.png', '1df8e3b62.png', '1e21aff50.png', '1efb03a94.png', '2071d617e.png', '20a04ea79.png', '20d3a67d3.png', '2133c16c5.png', '21535707f.png', '21689ecb6.png', '21ace47d3.png', '2241265bb.png', '22e7c17b2.png', '22f1fd645.png', '23316b4b0.png', '23686333f.png', '2424bfd5a.png', '24a0d8df6.png', '2625375c8.png', '264e8b9b5.png', '27a78683b.png', '27d08b6f9.png', '27f0e13ae.png', '28285eb94.png', '289e929b2.png', '29c8ca750.png', '29cc438e4.png', '29d790068.png', '2a6305dc1.png', '2aa88416e.png', '2b7768772.png', '2bf2f5ff0.png', '2caa226b8.png', '2d131b7e6.png', '2d4a05fa0.png', '2d4fc5fe9.png', '2de5e6eaf.png', '2e025ece6.png', '2e4aad6ec.png', '2e5123448.png', '2e795ccf1.png', '2f60156c7.png', '2f963cc5b.png', '301114e3e.png', '303835197.png', '306e7dbd9.png', '30a166665.png', '310656b36.png', '31b2aa8b5.png', '32077f532.png', '326192149.png', '34455bf75.png', '35e31b2b5.png', '35f374f74.png', '36a913120.png', '36f392b83.png', '3740d90d5.png', '3777e7b53.png', '378a40743.png', '37b291dab.png', '37c20876e.png', '37cea3ddd.png', '3847a86c2.png', '387ad12e8.png', '38fb092f0.png', '39c7819ff.png', '3a2a3ddb9.png', '3a8202693.png', '3ab7ac054.png', '3cc8e571f.png', '3cf9ae5a3.png', '3e85b8e5c.png', '3ea21cf79.png', '3ee3ef6a3.png', '3f018d6bd.png', '3f5dfb308.png', '3f84b7aae.png', '40274f484.png', '40c5757c0.png', '410876711.png', '41140fa6a.png', '41e3d1276.png', '422cf9f7d.png', '4284d5831.png', '430ef0660.png', '436ac575f.png', '43e643775.png', '440d51444.png', '4426efc94.png', '45204fe38.png', '46b9f0a87.png', '47b316d8f.png', '4825503ed.png', '4861b377f.png', '486885e8d.png', '48bc50005.png', '495d1a520.png', '4a1121f7d.png', '4adc3cf32.png', '4b33a6880.png', '4c4b75233.png', '4c7ef6d25.png', '4cc8e1334.png', '4d6cbfb1e.png', '4d7682775.png', '4d8c841b3.png', '4d9ece5a7.png', '4dad46a5a.png', '4db7bbfbf.png', '4e1e4b61e.png', '4e334d9c0.png', '4e34f35c1.png', '4e65c6702.png', '4e726de0b.png', '4f3fb3fa7.png', '4f89e332f.png', '4f9359d80.png', '50659ebe2.png', '50b0d5abf.png', '51122ffd7.png', '5139b104e.png', '517dd299e.png', '518787d0b.png', '520224ad0.png', '532228e34.png', '5324a9ab2.png', '533a926b2.png', '53585f37d.png', '54a3a899b.png', '5629b467c.png', '5687df8c6.png', '56a3e134b.png', '56f69db16.png', '5713630ed.png', '57664aa6b.png', '57731eb29.png', '5790e7b05.png', '57c3c7b86.png', '57eaf2687.png', '58aeb692f.png', '58b405634.png', '58f366d30.png', '593e2f0e9.png', '5a044c06b.png', '5ace4b78d.png', '5b4414b1e.png', '5b4b5f5ca.png', '5ba9f6698.png', '5c62f507e.png', '5c82a988b.png', '5cd0ccfc1.png', '5dcac8cb4.png', '5e0f7d75d.png', '5ea01515a.png', '5ef4bcfa9.png', '5f128ee9b.png', '5f2d126eb.png', '5f39564f3.png', '5fc9fac58.png', '5fe2a641d.png', '604fddba7.png', '60fc956cf.png', '611fc426b.png', '61a3a0f94.png', '61cb94bb2.png', '61e613144.png', '6232a5fcb.png', '62351b320.png', '6283e8862.png', '63625a31d.png', '63ac8cb8b.png', '63bb36f63.png', '63bbfb907.png', '63e5b3269.png', '646556430.png', '64923f954.png', '6504263bb.png', '654021d0e.png', '654f701ad.png', '66c7f42fb.png', '66f599454.png', '672982f1f.png', '672d71ed0.png', '67ea1b535.png', '687fdd0f0.png', '68d61152a.png', '6a7ea6097.png', '6ab3f3bf8.png', '6abbe7528.png', '6afe50f7c.png', '6b392ca91.png', '6b6df19b2.png', '6c2a49621.png', '6cc932059.png', '6d993edb1.png', '6dcb4a699.png', '6e64646e7.png', '6f6c3d6aa.png', '70031d587.png', '70083d11f.png', '709ff44b4.png', '70d2d710d.png', '7175e9d7d.png', '7178d1aa1.png', '75742ed25.png', '763b0b8cd.png', '76deb2f76.png', '7723b22fe.png', '774bf7020.png', '77990844c.png', '77b53a29c.png', '78604fc59.png', '786df0a52.png', '78836bb95.png', '793d8f855.png', '7a2d25120.png', '7a597f825.png', '7a7c2d6f8.png', '7acfcf6cf.png', '7b0586012.png', '7b1018f5f.png', '7b177457d.png', '7b4e40d34.png', '7b5ff3a68.png', '7c867adb0.png', '7c933aa92.png', '7cb13f366.png', '7d7675873.png', '7da7bd2e3.png', '7dd728ef8.png', '7e2d89904.png', '7e3aa91d2.png', '7e6037c88.png', '7ec5a6226.png', '7efcaa68a.png', '8060d0736.png', '808d8b604.png', '82525f45c.png', '82561432a.png', '8349ffb69.png', '8384040ba.png', '838c25c16.png', '839fad8be.png', '841b56a7c.png', '8422af10c.png', '846dfcd48.png', '852fd9b8a.png', '8530528b4.png', '8575a6820.png', '85942cd42.png', '8594bb8c9.png', '879f9bc26.png', '880cabce7.png', '88314d63e.png', '88823573a.png', '88e1e3d2b.png', '891a5fdca.png', '892382b05.png', '89fe8aa9d.png', '8a22b4f1f.png', '8a2539acf.png', '8a66600c0.png', '8b5f42788.png', '8b9cc2752.png', '8d1805187.png', '8d2429f5b.png', '8d6288d95.png', '8d7b4ca96.png', '8e5447e81.png', '8ebf898d1.png', '9011a592f.png', '91d294b43.png', '9204a01d8.png', '9253be20b.png', '92bd3b2b7.png', '92e13ce8b.png', '930ebfb48.png', '937319dc7.png', '9435b2c58.png', '94613db53.png', '965f8a9c2.png', '974108721.png', '97ab5baf0.png', '983aed879.png', '985eb4e09.png', '98b18ed7a.png', '98f407d78.png', '9902103a5.png', '990f7310e.png', '993fcfaa4.png', '99c59a981.png', '9ad3aa199.png', '9b09003fa.png', '9b3f2f7a1.png', '9c383ae53.png', '9c721a7dc.png', '9ca2edaab.png', '9ca3fd969.png', '9d1b4794a.png', '9ea59b076.png', '9fb44806e.png', 'a04f38d7e.png', 'a0c39c1dd.png', 'a194c0dd6.png', 'a23bbb5c9.png', 'a2478ca57.png', 'a38aa2204.png', 'a3e3b178c.png', 'a42ddba4f.png', 'a47105ef4.png', 'a5b9d84a3.png', 'a669c101f.png', 'a6c251d63.png', 'a6d54c45c.png', 'a8045aea3.png', 'a855cbc06.png', 'a85a62939.png', 'a88bd5aef.png', 'a8968f15a.png', 'a96438dae.png', 'a98a9b092.png', 'a9e03b3a1.png', 'a9e3465f8.png', 'aa28f442c.png', 'aa83de6bb.png', 'aa8778e2d.png', 'aac309dc5.png', 'ab3d174fc.png', 'ab6338bd1.png', 'ab9a60c53.png', 'aba570b21.png', 'ac0b860c4.png', 'ac85f848f.png', 'acca2b10d.png', 'ad2df5fa3.png', 'ad5906a2f.png', 'adf3032af.png', 'ae7415e25.png', 'af005febb.png', 'af98e2c11.png', 'afeabc763.png', 'b0b543038.png', 'b116fabdd.png', 'b176751f4.png', 'b25c85290.png', 'b2b8055ad.png', 'b35eaa0a1.png', 'b40d58c8e.png', 'b48e67073.png', 'b4bf76e9f.png', 'b4e188202.png', 'b53c5ac08.png', 'b61695466.png', 'b8e6c7b66.png', 'b953bb136.png', 'b962fdcfc.png', 'b9c8f7046.png', 'b9f4cec11.png', 'bb52da32b.png', 'bb7ac7386.png', 'bb824511b.png', 'bbfa8d1c9.png', 'bc8889926.png', 'bc92f8149.png', 'bcf088ff7.png', 'bd4304980.png', 'bd4565df5.png', 'bddde0312.png', 'be325b3b9.png', 'beda08ba5.png', 'bf0667924.png', 'bf351fa53.png', 'bf77ce974.png', 'bf9f74bd3.png', 'bfa5d2e2f.png', 'bfb59c16f.png', 'c0b85294c.png', 'c0fd4e4aa.png', 'c16801386.png', 'c23f79208.png', 'c27253052.png', 'c2ab91ad2.png', 'c2b5f56d8.png', 'c2c1a8787.png', 'c2e069515.png', 'c2f4c85d1.png', 'c41644ed6.png', 'c5535e3b8.png', 'c5ddfa4a2.png', 'c67da9c32.png', 'c6cf113bc.png', 'c6f9ba1cd.png', 'c7d7cbd73.png', 'c7e585163.png', 'c88a5b482.png', 'c908a478e.png', 'c9aea5d7b.png', 'c9d5d691e.png', 'caae3c376.png', 'cae00a248.png', 'cae5588d0.png', 'cb199a0d6.png', 'cb5e1b823.png', 'cb64ce021.png', 'cba7f2307.png', 'cbd1cffdb.png', 'cc2a8c766.png', 'ce0fb7c25.png', 'ce19a867c.png', 'cf6e5d506.png', 'cfda6ed03.png', 'cffd34ae2.png', 'd018c5d19.png', 'd021a9611.png', 'd07b7062b.png', 'd07da6faf.png', 'd0bd8f934.png', 'd13abd726.png', 'd14306ba9.png', 'd194fd113.png', 'd1dd866ee.png', 'd22156fb3.png', 'd397d1c9c.png', 'd4a084033.png', 'd643fc811.png', 'd690ebc8b.png', 'd6f625574.png', 'd7c27119a.png', 'd7cf2db87.png', 'd88a609d1.png', 'd920f1441.png', 'd958d346f.png', 'd974f1537.png', 'd9d1602c7.png', 'db4775157.png', 'dc18969ae.png', 'dc467ebaa.png', 'dd3f63ce0.png', 'dd575058e.png', 'dd76f845f.png', 'ddbd81175.png', 'dfa83c1d5.png', 'dfc7cb278.png', 'e00df1f35.png', 'e18f7124b.png', 'e1b642054.png', 'e1c89faa5.png', 'e1f62327d.png', 'e231ad747.png', 'e2e49c76e.png', 'e32fdd03a.png', 'e33673091.png', 'e3f88fcde.png', 'e44eed3d0.png', 'e64ffaebb.png', 'e686b7cb2.png', 'e768d348e.png', 'e7792c058.png', 'e7aca715c.png', 'e8cef28fa.png', 'e977a6aa7.png', 'e9ba4c313.png', 'ea395710d.png', 'ea3e13899.png', 'ea5034835.png', 'eac94830d.png', 'eaeb6ab45.png', 'eb47d3894.png', 'eb6b7fe4c.png', 'ebce04afd.png', 'ed0299f6d.png', 'eddaf3d47.png', 'ee1935fb6.png', 'ee30999d4.png', 'eebe14887.png', 'ef255fde9.png', 'ef9e034f0.png', 'efd04a634.png', 'f1258d04a.png', 'f1530c3e3.png', 'f17e5a3c3.png', 'f18f2ca04.png', 'f1d313b52.png', 'f1ed58cdb.png', 'f1f82a44c.png', 'f1f8a7190.png', 'f2806a6a2.png', 'f3521cf79.png', 'f394b73f6.png', 'f3e74582f.png', 'f41055895.png', 'f47065e0a.png', 'f50c8181a.png', 'f63b0be0d.png', 'f69475d12.png', 'f71a0f489.png', 'f7b86986a.png', 'f84bd627e.png', 'f956911a6.png', 'f9b43d3c6.png', 'fa468d955.png', 'fb78383ae.png', 'fcceab9ee.png', 'fcfb8df3d.png', 'fd08aae02.png', 'fe03224a0.png', 'fe1092cd5.png', 'fe7373785.png', 'fe801c9c0.png', 'feafa22cc.png', 'feb7699d0.png', 'fefaeec6d.png', 'ff934fcc7.png', 'ffc02550b.png', 'ffdddcf4e.png']\n",
      "The file data: ['012db0f43.png', '01a2ae45e.png', '0382d0faf.png', '04468fad4.png', '060e8f499.png', '096ec46ec.png', '0975602f4.png', '0a4a26651.png', '0df5ee8a2.png', '0ec23ca76.png', '0ff464e3e.png', '106bfb13a.png', '108bf8703.png', '11b88da7c.png', '126c8b947.png', '12e0ffb23.png', '136134853.png', '138581771.png', '143774101.png', '1478bcfcd.png', '14d8b012c.png', '158e0e65d.png', '166de2ae2.png', '17c9616c8.png', '188bdc00d.png', '18fe42109.png', '1a5243aa7.png', '1a6add1b0.png', '1a9a859c9.png', '1d80baed6.png', '1e3f2459f.png', '200457edd.png', '2163a30d4.png', '21f36bdf0.png', '22893299b.png', '22ad759f1.png', '23c21923f.png', '297e193dc.png', '2c4412af8.png', '2c4813e68.png', '2d59da822.png', '2e7881f74.png', '2eb324e28.png', '2f45d4b13.png', '30c632d2a.png', '33870e597.png', '3620378ef.png', '373a8d06b.png', '39f8f1c54.png', '3a40ee68b.png', '3bb7f71ae.png', '3bd84db2c.png', '3dc5876a5.png', '3e23bc37c.png', '4003af513.png', '42098546c.png', '42646d53e.png', '427c3fabc.png', '43795dcec.png', '44c6a7f4c.png', '470263795.png', '4836fe8a1.png', '48d7b23ca.png', '4929747f1.png', '4954fcb0d.png', '4a56f32c6.png', '4a65b156c.png', '4fddf78f3.png', '4fe8caddb.png', '5089de64b.png', '528ef22fe.png', '5386db683.png', '554ec08a6.png', '5689a8503.png', '585041992.png', '5926abc69.png', '597d0557e.png', '5a8ba1976.png', '5bc3608c2.png', '602b2a010.png', '60f3aa0df.png', '62368871d.png', '628294daf.png', '629176d9d.png', '6327092cc.png', '64761ee87.png', '6646c37a8.png', '68c176337.png', '6abbc4d24.png', '6cb186ea3.png', '6cea44433.png', '6d428b06d.png', '6dfb9a152.png', '6e070b7cd.png', '6e083d6ff.png', '71c7dd2a2.png', '725b54918.png', '72cccd8cc.png', '73eaf7247.png', '75d126b6e.png', '77292d8e9.png', '77e9ac562.png', '78e98a1ea.png', '792c9887d.png', '79f70b2d7.png', '7afa50d94.png', '7d6424a0c.png', '7d87648c2.png', '7d9f34d96.png', '80a57b11f.png', '8211489bf.png', '828b49c19.png', '835da3f0f.png', '854146480.png', '861e7b81e.png', '872174e0f.png', '898f2827c.png', '8b6ab9181.png', '8d2bb104d.png', '8d664b2b6.png', '9026da493.png', '91f32c678.png', '926be1c1b.png', '93b577009.png', '94cb20fd9.png', '94cf3c22d.png', '9509c1ad7.png', '96183ee02.png', '975d39600.png', '98756045d.png', '990636602.png', '9933db289.png', '9b3ec2b81.png', '9bcfd14d6.png', '9c8cf72ed.png', '9d99ab3f3.png', '9dde1db08.png', '9eb9a2afa.png', '9efa077b7.png', 'a04fbc0cd.png', 'a1c72af26.png', 'a1f2c5550.png', 'a25f5ccb5.png', 'a300eb8b2.png', 'a40bd448a.png', 'a413c7490.png', 'a53419433.png', 'a5c14c01a.png', 'a65244218.png', 'a6d21535a.png', 'a6d688d93.png', 'a8409b0a0.png', 'a86689d83.png', 'a9bda6650.png', 'aa7edaf4c.png', 'aabd29f32.png', 'ab414e606.png', 'ab8a5145f.png', 'ac564c384.png', 'ac8a31903.png', 'aea5d6bb9.png', 'b032c75ba.png', 'b2dbd97fe.png', 'b2f6f2618.png', 'b3166a9b3.png', 'b3817bd71.png', 'b398cfd9b.png', 'b6454a013.png', 'b8525b55d.png', 'bad392832.png', 'be161df32.png', 'c01e07e65.png', 'c48b788a4.png', 'c48e223f7.png', 'c643a424f.png', 'c6a4e9525.png', 'c7b35625d.png', 'c8af8bb05.png', 'c9115289b.png', 'c9562464a.png', 'c97e74bd0.png', 'ca5707e7b.png', 'ca6c95ade.png', 'cac003231.png', 'caf1f8700.png', 'cb0bc5c02.png', 'ccc61dee9.png', 'cf0197941.png', 'd0237f972.png', 'd068da45d.png', 'd14f74215.png', 'd174ffbad.png', 'd1e4fc2b4.png', 'd21231f1d.png', 'd42042a90.png', 'd95c8b624.png', 'd9e0c6708.png', 'd9e6014ea.png', 'dd79d08bb.png', 'df389ab82.png', 'df584ca28.png', 'e244e2544.png', 'e475abfde.png', 'e73947cd6.png', 'eb08e6794.png', 'ebdd5e41a.png', 'ec0d252e7.png', 'ed7f60848.png', 'ee3810dd9.png', 'eed3033a3.png', 'f08107bad.png', 'f28fbdf77.png', 'f3743e142.png', 'f48b02a74.png', 'f77095d24.png', 'f83183d25.png', 'fc03ee09b.png', 'fc387c3ba.png', 'fc95f5ed2.png', 'fd0e54fc5.png', 'fe8affe51.png']\n",
      "The file data: ['00268e97d.png', '008f1b92d.png', '009004da3.png', '01396e759.png', '01437202b.png', '0157c4199.png', '020ac5b06.png', '02a67d111.png', '03100eb7e.png', '038850f48.png', '0486762e1.png', '066395555.png', '075cb6666.png', '07636139b.png', '077190c7a.png', '07d939b1e.png', '08fe5538d.png', '0a1480ed8.png', '0a4ab470e.png', '0c03386a9.png', '0c5368b03.png', '0d5ece722.png', '0dfbbc7fe.png', '0e4df9f15.png', '0eeb0c7c1.png', '0f335c7a7.png', '100ef76fb.png', '1012b652c.png', '10553b4e8.png', '109e25d2a.png', '10a61c74f.png', '11e284489.png', '11e40532a.png', '1266ac5cb.png', '134db7c0e.png', '13d56e652.png', '143e09ce6.png', '149dbba5f.png', '14f7687d1.png', '158ac618f.png', '160dacec0.png', '165407507.png', '1688c9a5f.png', '1797f5460.png', '180f41d53.png', '184f64b26.png', '190b948d5.png', '193f4c946.png', '19bd579f5.png', '19c84bc7c.png', '19fc23481.png', '1a5354a5b.png', '1bcdf1f95.png', '1bdf63082.png', '1c4f59d14.png', '1d9743b35.png', '1df9e7301.png', '1e9c7a82f.png', '1eb0d7c5f.png', '1fb586773.png', '207d4e9ce.png', '211c3f24f.png', '214f2dbcb.png', '2160ec61c.png', '216b1daa0.png', '22cd06b64.png', '22d4656ff.png', '23525c578.png', '23a4cbe43.png', '2412cb19b.png', '2509e5bc5.png', '25ff4825d.png', '26220c5b7.png', '268e72cee.png', '2719ff172.png', '2760cb984.png', '27d310b2a.png', '28fad5a34.png', '2918206b5.png', '295ddd0b8.png', '2a56e7fec.png', '2b16fb022.png', '2b17dc2ba.png', '2c25bee0b.png', '2cab73c25.png', '2d34a64af.png', '2d6ffd537.png', '2dea1d8a6.png', '2df7f8513.png', '2eb6d7f8e.png', '2f1633635.png', '2f80532a2.png', '302a3a8ba.png', '302f8959d.png', '326c83b87.png', '33c6627d2.png', '34cec646b.png', '34eb21afb.png', '35083f3c2.png', '35655c594.png', '3572c1951.png', '35ae5f914.png', '370af1cdd.png', '370b70617.png', '38cc62ed1.png', '3ac434ccd.png', '3ae60f149.png', '3b244dc9d.png', '3b6a97588.png', '3c18b504d.png', '3c2e5c7ad.png', '3c51bc884.png', '3c5e42c9a.png', '3cafef989.png', '3d07c273b.png', '3d2f3ad0f.png', '3dbdd9fe7.png', '3fe21a3d4.png', '3ffc2f66d.png', '40321aa58.png', '4058dd2cd.png', '40721b002.png', '420e17575.png', '427bbd2fb.png', '42912adf2.png', '43633755b.png', '4374a9eef.png', '44db98326.png', '4570becfb.png', '45c197012.png', '46fa84dad.png', '496ca82ae.png', '4979cba5a.png', '4a320f8be.png', '4a44a00eb.png', '4b5f2e2a0.png', '4c832853a.png', '4c835827d.png', '4d2efbb45.png', '4d7fd4020.png', '4e2f543a2.png', '4f0092891.png', '4f1566bb4.png', '4f2f35ea4.png', '510f3ba19.png', '524942b65.png', '5281f6020.png', '5298e390e.png', '52bcf3283.png', '52c144a42.png', '52e6df585.png', '52e82d773.png', '5357849ba.png', '53c6c6221.png', '55fef4910.png', '565d13821.png', '56d88c09d.png', '56ee7f90f.png', '57914613f.png', '58028a2fb.png', '59b1f956d.png', '5a1183fff.png', '5a4dfea94.png', '5aa1ee0b1.png', '5aae43c81.png', '5bdfa3a44.png', '5c2f52e61.png', '5c3a4a6ed.png', '5ca463797.png', '5cc2862dc.png', '5d9dd8926.png', '5dc10869f.png', '5e2cfbee3.png', '5e72c6e8f.png', '5f1fd3c70.png', '5f24e1079.png', '5f2ad45c4.png', '5f5015641.png', '5f6634fa4.png', '5f6ad629d.png', '60f67d18f.png', '614b0792a.png', '61d4251ca.png', '61f732692.png', '61fd68900.png', '629185134.png', '62f3abbd1.png', '64034603a.png', '64f46676b.png', '655471b48.png', '65d2f9cc0.png', '661a6866f.png', '6644e24c8.png', '67659c7df.png', '67d48e1b4.png', '67e5eeea7.png', '685091401.png', '6ac7f6411.png', '6b175ade7.png', '6b6061001.png', '6cfecf7c5.png', '6d9dafb55.png', '6dc0cf03c.png', '6e54ab8b9.png', '6e6b9a20f.png', '6e735b605.png', '6f099ece0.png', '6f7c00476.png', '7026b68e9.png', '704b0fe2c.png', '7085a144b.png', '70f84707a.png', '7195021a5.png', '72103b235.png', '73600b4ed.png', '75739ff4d.png', '7637818c7.png', '765502bd2.png', '7678bf0c5.png', '77fcd0e5d.png', '786319e1b.png', '7894abcbb.png', '79933186c.png', '79cec7209.png', '7abe4427d.png', '7b0bd3d8d.png', '7bb3a73ca.png', '7ce630c2a.png', '7e4b6625f.png', '7e98e4aa6.png', '7f731311e.png', '803474779.png', '817eefb90.png', '81af6efb2.png', '81db6f8a2.png', '83be0f22d.png', '83f907552.png', '840018e57.png', '84097b0b7.png', '842f5555e.png', '854fdbe6a.png', '85a848757.png', '85e6fa66d.png', '8611e1c13.png', '86536f469.png', '8689b3765.png', '886db2427.png', '88e4077c5.png', '88ea1ed2a.png', '8a748cf8b.png', '8a8b1f0fd.png', '8b3943e1e.png', '8cb53bccc.png', '8e0c81139.png', '8eed146cd.png', '8f56f8b0e.png', '8f6b56be9.png', '9064640e8.png', '9168bde0c.png', '91a5d8724.png', '91bc7d91c.png', '91c33cc1c.png', '91e05c100.png', '9284ed9c9.png', '92954f77f.png', '9297b85f6.png', '946b48f62.png', '94ff7314b.png', '952f0a5fa.png', '95f035f39.png', '9708f9c0e.png', '9812f690c.png', '98cf53a24.png', '994001cab.png', '9961b2091.png', '997fc29b0.png', '9a8531ba0.png', '9d25b73be.png', '9d2684128.png', '9d4722e74.png', '9dc631eaa.png', '9e59fcd81.png', '9e8727146.png', '9f2435711.png', '9f4788348.png', 'a02a0c284.png', 'a140930c0.png', 'a1971cff3.png', 'a1a3e2515.png', 'a258e82f2.png', 'a309725cd.png', 'a3e1e7ffd.png', 'a4d7cddff.png', 'a57f8af28.png', 'a5aa3564a.png', 'a5c5b9386.png', 'a5ca3b845.png', 'a74864d83.png', 'a7547b978.png', 'a7d5da828.png', 'a7e5ce252.png', 'a7fef768d.png', 'a86b9c0cd.png', 'aa0f9c454.png', 'aa4c94174.png', 'aaf5833f8.png', 'ac502b28e.png', 'ac50d45a7.png', 'ac6625b0f.png', 'ac88a6662.png', 'ad58587fb.png', 'ad5ee2832.png', 'afac20b21.png', 'b0398be3d.png', 'b039fd244.png', 'b07391323.png', 'b2f74bf81.png', 'b3e1dda94.png', 'b43d0a350.png', 'b4e6ee3d2.png', 'b4e738f6b.png', 'b4fd78671.png', 'b59aec1e1.png', 'b88da8e21.png', 'b89d9f403.png', 'b8e176ae8.png', 'b8e3dd9ae.png', 'ba5c8f87f.png', 'ba9dc6742.png', 'bbcb520e8.png', 'bbcc5bbb2.png', 'bbee46239.png', 'bc10332f0.png', 'bcb9e211a.png', 'bcbbdd3bd.png', 'bd3b1cb2e.png', 'bd4003440.png', 'bd70765e4.png', 'bd8a05057.png', 'bdc98dfaf.png', 'bdf58ae69.png', 'be71f0cc0.png', 'beafe5bb1.png', 'beb11008f.png', 'bf17c8991.png', 'bf37d581c.png', 'bfaab608c.png', 'bfdeafadd.png', 'c068b9fb7.png', 'c1350e0ae.png', 'c17447438.png', 'c1d528ca2.png', 'c206f4602.png', 'c315f4c96.png', 'c354695d7.png', 'c386194a6.png', 'c3a35fbde.png', 'c3aa41593.png', 'c4152caea.png', 'c41bd998c.png', 'c44243e23.png', 'c4b7cf7f5.png', 'c5a0bd47e.png', 'c679a9396.png', 'c734bade3.png', 'c740aa55a.png', 'c75a48496.png', 'c8ce795f0.png', 'c8e77995b.png', 'c926ade1d.png', 'c96ca4b01.png', 'c99df077e.png', 'c9e6722d4.png', 'caca90aca.png', 'cb698f0ea.png', 'cbdb42238.png', 'cbf4c5ad2.png', 'cc40c32ed.png', 'cc590cddc.png', 'cca9e1864.png', 'ccb763490.png', 'ccc42874e.png', 'cd16fe7e4.png', 'ce0d8c3b2.png', 'ce49ecca3.png', 'cf149b185.png', 'd09f9b311.png', 'd0c3b7610.png', 'd10feb105.png', 'd199b75a6.png', 'd1d6c2904.png', 'd210b0125.png', 'd233d03bb.png', 'd2434e784.png', 'd2e16e332.png', 'd3e5f8c5e.png', 'd402cc5ca.png', 'd47349f62.png', 'd569925d7.png', 'd614cd719.png', 'd6576bc79.png', 'd674d9e99.png', 'd6a104d24.png', 'd870ecd2c.png', 'd87eb38df.png', 'd99fa0e0b.png', 'db673dc46.png', 'dbb008ffc.png', 'df17b3ba5.png', 'df62f1c7d.png', 'df9ce5e1f.png', 'dff210db9.png', 'e00ed0e9e.png', 'e0308226e.png', 'e0cab89f3.png', 'e1783ecc3.png', 'e2462573b.png', 'e27bb5522.png', 'e3279d465.png', 'e34aec452.png', 'e4541fd1c.png', 'e5e1416a2.png', 'e5e1f6d81.png', 'e6b756e98.png', 'e6befd0af.png', 'e74f35d5d.png', 'e777e1303.png', 'e7d278e0e.png', 'e7fbf693d.png', 'e805aa0a2.png', 'e8c85738d.png', 'e973ac6bc.png', 'e9f00ae2c.png', 'ea239a8cd.png', 'ea5ac32c1.png', 'ea6e91be6.png', 'ea775ab85.png', 'ea7e6ec7f.png', 'eace614b4.png', 'eb6811993.png', 'ec7cde707.png', 'ec81b8667.png', 'ed22ec740.png', 'ef1303b4a.png', 'ef1f257d9.png', 'efaab2370.png', 'f052e1db1.png', 'f0923dcd6.png', 'f09c51a67.png', 'f0dbc5e1e.png', 'f0e75e3bf.png', 'f180203df.png', 'f18419d0c.png', 'f1b52dd6f.png', 'f2b9bb477.png', 'f33cee49e.png', 'f348e35e9.png', 'f36b25868.png', 'f3f6559bf.png', 'f44059ad0.png', 'f4cdd6b9e.png', 'f59177ec7.png', 'f605d4fb8.png', 'f86c14eaf.png', 'fa57ed595.png', 'fbd8e91d3.png', 'fbd995178.png', 'fdc1eedc6.png', 'fdfb296da.png', 'fe23b8530.png', 'fe2ad3d8c.png', 'fea20eec7.png', 'fee90e281.png', 'ff202577d.png', 'ff9f29145.png']\n",
      "The file data: ['0012f11c4.png', '00442de98.png', '006eac3d9.png', '009d8d799.png', '0140dfc02.png', '01897adc9.png', '01ad79c2e.png', '02b15993e.png', '0367e0199.png', '04a16ff3b.png', '05067feb7.png', '054ed75f8.png', '065757bb0.png', '066868de0.png', '06bbb09fb.png', '07ca815ef.png', '080cea66f.png', '0822463cb.png', '0865fb4d3.png', '08fa31aa6.png', '0962f70a2.png', '09f47b868.png', '0a7723f3b.png', '0b1651517.png', '0bc960ef0.png', '0bcf22873.png', '0c27150b6.png', '0cc00364e.png', '0cf9eb4ab.png', '0d96cc35d.png', '0db2f82ee.png', '0e2983c97.png', '0f47f8a00.png', '0f96904f8.png', '0f9d5c657.png', '10250b3ac.png', '107afc1c0.png', '113b4a298.png', '1266e39c7.png', '13c51b503.png', '14469febc.png', '14a9e3564.png', '14bea63ea.png', '15b1ea490.png', '15b5a4c2c.png', '15fa7044b.png', '1656d2df4.png', '16ca17775.png', '17309f0c2.png', '176578292.png', '178b92275.png', '17b2de877.png', '17d3e7e2c.png', '1804ef033.png', '180a7bc07.png', '181fb1703.png', '19c867cbf.png', '1a6a98258.png', '1b4404d36.png', '1c0f5cdf6.png', '1caa729b0.png', '1d11a167c.png', '1db16c185.png', '1dc7d9cc4.png', '1eddf5d80.png', '1f154441a.png', '1f57bde3c.png', '1f5b705c0.png', '1f7a21bce.png', '1f8562553.png', '1fcfb8677.png', '209691da0.png', '20df07699.png', '20f5b6513.png', '217b3e661.png', '217c20421.png', '21f99c5c2.png', '2220076ca.png', '2240f47fd.png', '224274f93.png', '230282373.png', '230461e8b.png', '2399027ab.png', '240ad1daf.png', '2424d70aa.png', '25b804889.png', '25c3965e9.png', '25c91550e.png', '267ced076.png', '26ec4cf7d.png', '26f6c56c0.png', '273a79f87.png', '2773b77ab.png', '278d7ff5d.png', '27b301a16.png', '280af96c0.png', '281f52467.png', '298d541a6.png', '299fcd56d.png', '29b0930d2.png', '2a62cd782.png', '2aab840e1.png', '2b85ff393.png', '2e4ca7f12.png', '2e6952708.png', '2e69d1685.png', '30512e18a.png', '30df8fb8d.png', '30f633411.png', '322d8de2d.png', '323963103.png', '32c19240b.png', '330630db5.png', '333f36618.png', '33709e412.png', '3459d1d3f.png', '34634ddc3.png', '34b65beb4.png', '351a76eaf.png', '3599550ec.png', '36c96eb0f.png', '378507a71.png', '37b0e4e91.png', '38156c37f.png', '386f3eb28.png', '397583358.png', '39e081b5f.png', '3a39e5bc5.png', '3affdd752.png', '3b5cbd2cb.png', '3c46bd512.png', '3cac767c2.png', '3cc7097d1.png', '3d109d1b0.png', '3d9f8222d.png', '3dbdb27b4.png', '3dcfb94a9.png', '3dd3fc94d.png', '3e2609d6a.png', '3f130d295.png', '3f13f9bae.png', '3f8342a84.png', '3fb49152c.png', '3fd2b83fc.png', '3fe014d30.png', '4075e8be5.png', '40a8eb603.png', '413a7e4be.png', '41e86ec95.png', '4239dbbcd.png', '424cd33c0.png', '430dac673.png', '433e4a3ff.png', '43645a24d.png', '4387157f1.png', '43a753822.png', '4481bff7c.png', '44f0c7749.png', '452d301a7.png', '4609dd9e5.png', '463ec2b22.png', '465a268eb.png', '46ae3ab32.png', '46d1f9c49.png', '46db35467.png', '46ebc27d5.png', '4749f4ce1.png', '47f57446f.png', '481d8400d.png', '482a936fc.png', '48e5bd4e8.png', '48ed4a318.png', '49febdc76.png', '4a0df8be4.png', '4a660a07c.png', '4a82673d7.png', '4ad784313.png', '4b7940ed6.png', '4bbc1a820.png', '4bc5d1c38.png', '4bf7c65dd.png', '4c0447f59.png', '4c28a9000.png', '4c800c3db.png', '4d1241f40.png', '4d2719b52.png', '4d3517fc8.png', '4d6cf6289.png', '4da43b2ae.png', '4e4f34aeb.png', '4eb1a1b05.png', '4f5d80c92.png', '4fb56230e.png', '4fd64a851.png', '5012867e0.png', '501d5f235.png', '50792a0df.png', '5089f984e.png', '50badc5fe.png', '51cbc9929.png', '52949d529.png', '52f42c8a5.png', '53366d2eb.png', '5425cd169.png', '543887ef6.png', '549a41c42.png', '54f9d6792.png', '559dae100.png', '5684aa726.png', '56ac466ec.png', '57d19be1b.png', '57d839cf9.png', '57df08978.png', '581941d43.png', '58258e061.png', '58b8aa1f3.png', '58d70ef74.png', '58e87687a.png', '58f28c75f.png', '595d95e1f.png', '5a141b349.png', '5a60a6eb4.png', '5a9e89ee1.png', '5b45f1ab3.png', '5b5ad325a.png', '5b94989ce.png', '5bb2ae820.png', '5bd4637e1.png', '5c0097147.png', '5c44bf540.png', '5c6fb9849.png', '5ca0fcfba.png', '5cb45767e.png', '5d3b1db09.png', '5db7b4179.png', '5dbd18569.png', '5deb3574c.png', '5ded4ca05.png', '5e5d9f92f.png', '5f29a86e2.png', '5f3a942e4.png', '5f6ba8739.png', '5fa5b108a.png', '5fda67f10.png', '6033b17af.png', '60633ad65.png', '611680af6.png', '61a45cb4d.png', '6202edcfd.png', '620fdcc9b.png', '6210b8de1.png', '621c601f1.png', '623b479d5.png', '624288db1.png', '629d857bf.png', '6325fd82b.png', '6347090c6.png', '63d2782fc.png', '6483c1720.png', '64a4abfca.png', '650dd0e5a.png', '6530d3c24.png', '658956a0b.png', '65c207aa6.png', '6604aadc8.png', '667950000.png', '68085b562.png', '685074d33.png', '6850ccd12.png', '69505e138.png', '698877cd3.png', '698ce4468.png', '69a3ef92d.png', '6a6b4d0ad.png', '6aa8cc9d9.png', '6ad2ae242.png', '6af4dbc15.png', '6b006cb85.png', '6bbc3e3dd.png', '6bf6d3f24.png', '6c4d469c8.png', '6c9de038f.png', '6ca0979d0.png', '6d0ad6911.png', '6d2f11b51.png', '6d78ef24f.png', '6e04be655.png', '6ec8464dd.png', '6f112750f.png', '6f9567a5b.png', '70ea37ffc.png', '72579dc61.png', '72a81627f.png', '730b45269.png', '7324d3cc4.png', '73a56527d.png', '73a9fb9aa.png', '73f67dafe.png', '73fd71a9d.png', '74012c9fe.png', '74425d617.png', '746275a76.png', '75902535c.png', '759d40ddf.png', '7720c60d0.png', '77291b3ad.png', '77b0abed9.png', '77b27933d.png', '77dc3df93.png', '77ea88509.png', '780b7ab63.png', '7861c340d.png', '7890b9f6a.png', '79506c07d.png', '79860d6ef.png', '798eeca3b.png', '79cc28175.png', '7a237e6bb.png', '7a6ab6192.png', '7a8370ede.png', '7b4598d18.png', '7b48abef4.png', '7c1dbc5e1.png', '7c8202c53.png', '7d36fb3eb.png', '7d4cbdef9.png', '7d5f89994.png', '7dafa389c.png', '7ebd4f913.png', '80cf1232d.png', '80d615a4a.png', '80f4097f5.png', '811e2b508.png', '82bf95b2c.png', '82e4a193e.png', '830455097.png', '834903369.png', '843adc7e9.png', '8521a1b1a.png', '858541bfd.png', '863e7ae9b.png', '86516aeee.png', '86761b812.png', '86dfb25ea.png', '86f407dd7.png', '870cbbd42.png', '8742a85f0.png', '874893994.png', '8759db7d3.png', '875ef92d7.png', '87ab65336.png', '881498f15.png', '8844e8224.png', '88a48f427.png', '88aa00385.png', '8935e4b49.png', '897db9248.png', '89aa6c641.png', '8a53a8d6f.png', '8ab06ae81.png', '8bfc50c8e.png', '8c22f7d82.png', '8c796e67b.png', '8cf31d387.png', '8dcfdf361.png', '8e5f8c5e7.png', '8e8904d72.png', '8ee4c4f97.png', '8f12e398f.png', '8f1f0f8e6.png', '8f803c74c.png', '8fab11dfb.png', '8fb04526c.png', '9030f88a0.png', '9046f0356.png', '91c7359d1.png', '92835e424.png', '9289f58fd.png', '9306b0731.png', '93806ccdb.png', '93d283bce.png', '93d9858f0.png', '93f8327c5.png', '943edde10.png', '9495b8cda.png', '95273b4a1.png', '953a9aefd.png', '9589aea99.png', '95b1c779f.png', '96345de76.png', '96504ba69.png', '96def553d.png', '970834d96.png', '972c2c8f7.png', '973d6c568.png', '9774bec4b.png', '978ca7607.png', '97e8ebbbe.png', '980937153.png', '98fe7c3ae.png', '997ffd9ae.png', '9a2b47af1.png', '9aac949ec.png', '9b7799b3c.png', '9bf1450b6.png', '9bfa9d719.png', '9c05edbce.png', '9c46a8faf.png', '9cf880bda.png', '9d1161173.png', '9dc674d5d.png', '9dee801a8.png', '9e2523c37.png', '9f1e7cc01.png', 'a1210bea8.png', 'a17554c02.png', 'a20b31b68.png', 'a2bdb69e0.png', 'a34a04820.png', 'a3fe95411.png', 'a4204df25.png', 'a43014876.png', 'a49930f40.png', 'a4dcf7616.png', 'a5429dac9.png', 'a5bb0ae6a.png', 'a5e621f3f.png', 'a60d26781.png', 'a6c5cd3b8.png', 'a719f6d93.png', 'a7467a0ae.png', 'a8085a6fc.png', 'a89d6d72f.png', 'a905c1080.png', 'a954a2f55.png', 'a9600a185.png', 'a96276a20.png', 'aa7620ab1.png', 'ab47c78db.png', 'ab66b14f0.png', 'abe1fdd5c.png', 'ac6377773.png', 'ac8027304.png', 'accab3c58.png', 'ad648af69.png', 'ae0dc5708.png', 'ae1c97a42.png', 'af2465f9e.png', 'af355776d.png', 'af36b12f3.png', 'af48352aa.png', 'b01d0bbea.png', 'b0aee48c3.png', 'b0b2c3bdd.png', 'b0cebe0d0.png', 'b204c0ea0.png', 'b2b62db50.png', 'b2f98cf38.png', 'b3184549e.png', 'b32f49c26.png', 'b396ce363.png', 'b39cf3ed0.png', 'b3b03d5b6.png', 'b3f997421.png', 'b40d772a4.png', 'b468e967c.png', 'b49c19b6a.png', 'b4aeeab74.png', 'b5585594a.png', 'b5f074be0.png', 'b6466cc30.png', 'b67fe9b5f.png', 'b6c2e77db.png', 'b6c7bb164.png', 'b735abe17.png', 'b7c642fb5.png', 'b7e5943b5.png', 'b81690ccf.png', 'b8301c724.png', 'b83843fd5.png', 'b983cb52d.png', 'b9c2cd1c5.png', 'bb63894a1.png', 'bc20079b6.png', 'bc3fc4221.png', 'bc72693f3.png', 'bcc2bbc1d.png', 'bcf82b0f4.png', 'bd7ea42d4.png', 'bdd598dec.png', 'be4702751.png', 'bee138256.png', 'c05473022.png', 'c09b10389.png', 'c0f87cf17.png', 'c14ba6a17.png', 'c167ddff0.png', 'c18683c6b.png', 'c1af927f2.png', 'c1d37bdb2.png', 'c21fd1c63.png', 'c30c4c58e.png', 'c334c6791.png', 'c35d5c3c3.png', 'c3b34e88c.png', 'c421f4454.png', 'c4b6392d0.png', 'c513114b7.png', 'c5688e1f8.png', 'c5b5a2f6f.png', 'c5bb1b336.png', 'c611dbbd0.png', 'c629a95e2.png', 'c646f63c7.png', 'c6cf972b8.png', 'c6f54e816.png', 'c88c61e2b.png', 'c932d467d.png', 'ca34fdafb.png', 'ca57fa675.png', 'cb8ebfa74.png', 'cc3f7e692.png', 'cc4f96146.png', 'cc5e3a6b0.png', 'cc6eb9e5e.png', 'cd74f8747.png', 'cdc38fb13.png', 'ce70bc8a7.png', 'cffbd81fb.png', 'd0228efc3.png', 'd09db3735.png', 'd106fca01.png', 'd160d5d69.png', 'd1653b4c3.png', 'd1a8e6b41.png', 'd1d87fa3e.png', 'd211c4f89.png', 'd22fac46d.png', 'd25c7447d.png', 'd260a6bc4.png', 'd30fdc9aa.png', 'd31724b7f.png', 'd36c7675c.png', 'd37099c79.png', 'd3bc96906.png', 'd41f0cd9c.png', 'd4715e76f.png', 'd4bda0d92.png', 'd4d65f637.png', 'd4e30eb20.png', 'd5f5108df.png', 'd62f8f844.png', 'd64d0d197.png', 'd681d1b9b.png', 'd6c2bcfe8.png', 'd6e1e93a8.png', 'd734ed06a.png', 'd766d9692.png', 'd7954bb16.png', 'd7fe62bae.png', 'd89fa34ab.png', 'd9061cf70.png', 'd94aa2cfc.png', 'da007048a.png', 'da09ecea8.png', 'db5a0970c.png', 'db5bc3276.png', 'dbcc62b36.png', 'dbe5c4ab1.png', 'dc623538a.png', 'dcdd20842.png', 'dd4251469.png', 'ddf6295e6.png', 'de82f96f1.png', 'de8b3b16b.png', 'dee2a5307.png', 'df27638ee.png', 'df28839c9.png', 'df615189b.png', 'dfbdda5d7.png', 'e0c207a01.png', 'e0f5afd45.png', 'e1063a052.png', 'e26600777.png', 'e311f2112.png', 'e31c8a1c7.png', 'e4e781114.png', 'e513efb9a.png', 'e5140f585.png', 'e51811621.png', 'e55c8ded3.png', 'e5fef8fc7.png', 'e60e41d92.png', 'e616fd2f3.png', 'e70f5f158.png', 'e7d948ade.png', 'e8258bf4a.png', 'e89b48837.png', 'e913e5ca6.png', 'e984f580b.png', 'e9c9b0bac.png', 'e9e0e6feb.png', 'e9ef76a8d.png', 'ea5f902eb.png', 'eaebb4472.png', 'eafe89ea6.png', 'eca81d5e8.png', 'ed443bd4c.png', 'eda07616f.png', 'ee23cb68c.png', 'ee4a45967.png', 'ee72ab40b.png', 'eeddd27da.png', 'efd3b6718.png', 'f099e9a3c.png', 'f1a620ad7.png', 'f25b51762.png', 'f284e84bc.png', 'f2a87f91f.png', 'f2b027c00.png', 'f3166a830.png', 'f3d10b887.png', 'f40d45ecd.png', 'f4a2acf34.png', 'f5602e151.png', 'f5c98860a.png', 'f6439330f.png', 'f6a02772a.png', 'f6a86d328.png', 'f6ab6c208.png', 'f75f5a9d1.png', 'f76dc25a9.png', 'f770f10e4.png', 'f83bb45eb.png', 'f89f44126.png', 'f992263d7.png', 'f9a8a0e39.png', 'f9aca9f1f.png', 'f9d597956.png', 'fa99ad032.png', 'fbe2de7e7.png', 'fc2b27fff.png', 'fced10d82.png', 'fd0430c6e.png', 'fdb42d1ce.png', 'fdf2e6159.png', 'fe2016da9.png', 'fe23251ed.png', 'fe621cd95.png', 'fe944dee4.png', 'ff1f224a5.png', 'ff771d06e.png', 'ffbc907bc.png', 'ffccdc58a.png']\n",
      "The file data: ['006196e1c.png', '0086c28b2.png', '00a18f05e.png', '0150b5b7e.png', '01642cae8.png', '0184ec53f.png', '030e7f9ef.png', '0419f5bbc.png', '051ea51d0.png', '06e1ee6e1.png', '084d21b80.png', '0bdaf1d8f.png', '0cd0d9b8c.png', '0f16cf10a.png', '107bd7230.png', '11323514a.png', '115808876.png', '11dc03905.png', '12025fcc1.png', '16511dd22.png', '16e38d4af.png', '1898398b8.png', '18a235096.png', '18b6755a1.png', '194d34152.png', '19f880311.png', '1b1ab91eb.png', '1d21b25f9.png', '1d8e6686f.png', '2187ec5fa.png', '21acedc9b.png', '23775190c.png', '23a60f63f.png', '25c87a3cc.png', '266211c3c.png', '269a34bb9.png', '270e121c0.png', '27a1dbcdc.png', '280c7b4d2.png', '2b7549816.png', '2b968a9e0.png', '2bc5905e2.png', '2d8376136.png', '2d9adb800.png', '2e08d8597.png', '30d126c24.png', '30f76315b.png', '31d92d77d.png', '3213aec10.png', '34c035273.png', '362eee504.png', '365ff4533.png', '37156c661.png', '388317d6c.png', '3a6d4d007.png', '3ac5a3def.png', '3ad5d809c.png', '3b6bc2e4c.png', '3cb4f2c65.png', '3cf92e356.png', '3ef465952.png', '44a9a599d.png', '44d562432.png', '489da47a5.png', '49e58b605.png', '4a1929689.png', '4ae8bc1c6.png', '4b5aa18ad.png', '4b825327e.png', '4ba437481.png', '4e04b01b7.png', '4ef677ce4.png', '4f6b0dc39.png', '50c80a5e4.png', '5112e0b90.png', '5150527da.png', '5251d7bbf.png', '5363a9f84.png', '5453bff0b.png', '55083690a.png', '5622305e8.png', '5675e608c.png', '5885bb41b.png', '59f972ef4.png', '5a7d10c3d.png', '5b94fab70.png', '5c7abc049.png', '5c826024a.png', '5d641d627.png', '5d6e3b183.png', '5dfa39111.png', '5fdb1dccf.png', '606d5c83f.png', '61c7d55b0.png', '6219b36db.png', '62a1614a2.png', '642e055ee.png', '648ddc558.png', '6495c3f49.png', '649b7af36.png', '64a6f6f65.png', '65b4ebc41.png', '65ba0f497.png', '665b921f2.png', '66a87d834.png', '66e90b455.png', '67c3663a8.png', '69f06fcbc.png', '6d54412c3.png', '6e9ff31e7.png', '70b85477d.png', '7389aea72.png', '7446f241c.png', '749646c56.png', '7736aedff.png', '77a5a4b51.png', '798852825.png', '7f23a2f31.png', '80fa83273.png', '814e74c21.png', '822d1163b.png', '8439a7dad.png', '84ba8107f.png', '85ae913c3.png', '85c25b5a2.png', '87a3254c9.png', '87bbc41eb.png', '8a257f6f6.png', '8bfe6860d.png', '8c6fba454.png', '8c70f6c91.png', '8c71f9b84.png', '8caddf555.png', '8cd93b279.png', '8d2004e7a.png', '905f9f385.png', '907817b91.png', '919e154c2.png', '91a9d5b9d.png', '92c06eaca.png', '96d476790.png', '97da6a579.png', '982130e94.png', '988113525.png', '9977e50bc.png', '9d1e59e00.png', '9d3514473.png', '9d588ace5.png', '9fc63a912.png', 'a1d7080b1.png', 'a30702538.png', 'a353bdbd9.png', 'a37e7b7db.png', 'a47bdd663.png', 'a4e71c6c3.png', 'a53a61390.png', 'a5c2eec2d.png', 'a6e44df4f.png', 'a76555ad2.png', 'abadd72ab.png', 'ac3de5925.png', 'af014d45e.png', 'b0df48778.png', 'b273efc22.png', 'b496ed692.png', 'b62a6a471.png', 'b72a19852.png', 'b8b2658d9.png', 'b9ffd31a7.png', 'bb9f796ce.png', 'bede27c87.png', 'bf22827fb.png', 'c05a8d7e1.png', 'c08835318.png', 'c5bcc4cb3.png', 'c621da984.png', 'c6dc512e9.png', 'c6fabfb59.png', 'c9b1820d0.png', 'cc3674663.png', 'cccbcc365.png', 'cd2b68ba2.png', 'cdcb0f735.png', 'ce76cb1e5.png', 'cf7b09a39.png', 'd3963a326.png', 'd3cf21397.png', 'd8ae9a82b.png', 'd99129a77.png', 'dc7a7bdeb.png', 'e17f5daf0.png', 'e30accd2f.png', 'e364ace75.png', 'e43323e28.png', 'e45f92ca7.png', 'e66d87ad7.png', 'e6d8ba41c.png', 'eba973942.png', 'edd80f8a8.png', 'eefba9376.png', 'f135a739f.png', 'f2c22a1bf.png', 'f30971a76.png', 'f34429b11.png', 'f3b0496dd.png', 'f4dd93492.png', 'f5231714b.png', 'f5e10e5ec.png', 'f60369038.png', 'f98add892.png', 'f9ceba607.png', 'fb6328acb.png', 'fb6bcaf52.png', 'fbd09f3a5.png', 'fbed08a0e.png', 'fc02b8466.png', 'fc68c0525.png', 'fd1ef540c.png', 'fdde1498f.png', 'fdebe4158.png', 'ff4b55219.png']\n",
      "The file data: ['Include', 'Lib', 'pyvenv.cfg']\n",
      "The file data: ['01358344b.png', '015215883.png', '01e90ef62.png', '025155400.png', '0258481da.png', '02ae4e8a3.png', '0372b48e1.png', '03906fdd7.png', '03a92ad22.png', '03ee6340f.png', '0438cc647.png', '04dff1857.png', '04f89976a.png', '05ceff7d1.png', '05f76f20c.png', '060f69cd9.png', '061592f02.png', '06efbd2bf.png', '078d42d74.png', '07bed57ea.png', '083a8c7d2.png', '086894274.png', '0919cf5f1.png', '09653e8fa.png', '0a2bcaf43.png', '0ae9acf83.png', '0b4517fcf.png', '0bccfe309.png', '0cbef3166.png', '0d58d5433.png', '0d5b79c3c.png', '0dc27b35d.png', '0dd73ae6a.png', '0e2b8c097.png', '0e4c95d3a.png', '0e6d5af38.png', '0e978005a.png', '0eaa11631.png', '0efb0719f.png', '0f9e58b1a.png', '10c34a660.png', '10c61689b.png', '10fc19a04.png', '11256441a.png', '1247e28dc.png', '126d55392.png', '12752c388.png', '1300c3cd9.png', '133553324.png', '137f5ea2f.png', '140c4d852.png', '152cc15e0.png', '15a668fa4.png', '163de1bde.png', '163ffa4d7.png', '1750dd2c8.png', '17bf55e51.png', '18387e60f.png', '18dbd6d8c.png', '192bf26cb.png', '195397e91.png', '1968974c8.png', '198f88ef2.png', '1a570b7db.png', '1ab17251b.png', '1ae3fa200.png', '1c0322399.png', '1c5665dde.png', '1c6e51b29.png', '1c9b1eb8b.png', '1ea513913.png', '1ea60c734.png', '1ea84cfc7.png', '1ed148332.png', '1f29d1c75.png', '1fb56ac4d.png', '1ffabce72.png', '202651138.png', '20f9f0a0c.png', '21fcc7b8b.png', '22b53d9e5.png', '22e662983.png', '237bcb5cb.png', '24e93bc82.png', '271f14517.png', '273dc0a1c.png', '275152b11.png', '278256e68.png', '28e427bed.png', '299bd761f.png', '29b4e98c4.png', '2a17238d0.png', '2a3777469.png', '2a5938731.png', '2a6edb04e.png', '2ab910bdf.png', '2b5ec01e6.png', '2bb431697.png', '2bdd11146.png', '2befc73e1.png', '2c28f05a9.png', '2c2da55ca.png', '2c6d58f91.png', '2cbb15881.png', '2de4ec934.png', '2e25a0433.png', '2e2bb8089.png', '2e4ae28f4.png', '2f2e95f3a.png', '2f7452cdd.png', '2f998af91.png', '2fe02f029.png', '2fe0fea3e.png', '303b50030.png', '304fb9580.png', '3059893a2.png', '313242291.png', '319667b0f.png', '31bfdd75e.png', '32bcfcf02.png', '32dd5e36d.png', '3362b3eae.png', '3418f9acf.png', '3456b7270.png', '356088e4b.png', '3585db717.png', '35ebfa716.png', '3655d2892.png', '368fb9035.png', '371ab36bf.png', '37573d77c.png', '379781ae4.png', '388071819.png', '38ddbde70.png', '395ff5971.png', '3a4f03cad.png', '3a64d0130.png', '3ab04bdf0.png', '3adc567c4.png', '3b87c72b8.png', '3bf4f0c04.png', '3c69e3279.png', '3d44bca16.png', '3e7f883f3.png', '3f6ec61f6.png', '3f7434daa.png', '3fb764193.png', '3fe4205e0.png', '406f54018.png', '4076ae5ce.png', '40eea04f4.png', '41c73ed49.png', '4205830a0.png', '425efb679.png', '4277f2371.png', '43442896c.png', '4358bc332.png', '4408bae35.png', '447b46d12.png', '4487c184f.png', '44e7a9365.png', '45d74776a.png', '4646a4ae6.png', '478505edb.png', '47ca1a63c.png', '493210bcc.png', '493815dcf.png', '49a407787.png', '4ae592695.png', '4ae939d7d.png', '4b910467f.png', '4d2960a00.png', '50549436d.png', '517c2f5ab.png', '5186c72ca.png', '51a00928f.png', '51adc8b21.png', '51e71ddde.png', '523edb175.png', '525f70f91.png', '534691880.png', '5423cd5b5.png', '549c186a8.png', '54f414890.png', '553e69068.png', '5542d13dd.png', '557340b87.png', '576951fce.png', '577c79af0.png', '5822cf4d1.png', '586524a24.png', '5906bcd76.png', '599f49480.png', '59cb79559.png', '5add1370e.png', '5b3fe64c3.png', '5b7eb7b82.png', '5c0a9c9c2.png', '5c79ed488.png', '5c9defa0f.png', '5e58beff8.png', '5e6b8c2a1.png', '5fa64f7ab.png', '5ff65344b.png', '607bb6891.png', '6132624ad.png', '61730c6aa.png', '618922851.png', '61974ff26.png', '61a79f4a1.png', '620457a5f.png', '6256740a1.png', '628b08c82.png', '62d1b63f3.png', '6334e8b6d.png', '6398c3458.png', '63bbcaafe.png', '64176476e.png', '64fb55b43.png', '65148b580.png', '6540c684a.png', '65532d3bd.png', '657eccef3.png', '66b33c098.png', '66d94aa80.png', '66f70d982.png', '67cd81694.png', '689c2b218.png', '68f032e5b.png', '6901b24e7.png', '690595798.png', '6908c743e.png', '6956b6e58.png', '69af17ea5.png', '69da83055.png', '69ed658dd.png', '6a45a19ec.png', '6ae097017.png', '6af99dc3d.png', '6c2cef408.png', '6c404cca3.png', '6cb03c2ec.png', '6d0662339.png', '6d119dc1b.png', '6d80eac2a.png', '6df9e4b85.png', '6f6b0c523.png', '6f9829b56.png', '712b2a926.png', '724363df7.png', '726c2bcb1.png', '727fe56ac.png', '72824c328.png', '72d1abef3.png', '731cd4d26.png', '734fc97ac.png', '737fe1702.png', '75632b096.png', '763ce5af0.png', '767558fe0.png', '7790dac42.png', '77c4b1d27.png', '7863544c8.png', '7864499c6.png', '789f292b3.png', '78cbf0faf.png', '78d0fe480.png', '7917df3ec.png', '79eb0958f.png', '7ab5ba33e.png', '7b1d526d2.png', '7b95f2701.png', '7cde4ff67.png', '7d18ff4c6.png', '7d1f27d5c.png', '7d3b1def6.png', '7d69c71e1.png', '7dcb6bd4e.png', '7f3b7d37e.png', '7f9735492.png', '7fdcb7bcf.png', '7ff4c69a1.png', '809f6f322.png', '818952af9.png', '82a15579e.png', '8334bb575.png', '84d2e187d.png', '84e4410c2.png', '856ab3606.png', '866893cf2.png', '870b828ff.png', '872673b5f.png', '87c6cf4ed.png', '883119ddc.png', '8842741cb.png', '88b1699ea.png', '898a9fd7e.png', '89960b2fb.png', '8b227f1b2.png', '8bc379617.png', '8bf8cb21a.png', '8c1d546d9.png', '8c496e84a.png', '8c742310c.png', '8ccb53e12.png', '8d18b1983.png', '8d2e6cf31.png', '8d65bde6a.png', '8e69ea8a0.png', '8e6c73968.png', '8ea94061e.png', '8edb4ab22.png', '8f2534b22.png', '8f63f6073.png', '8fdd4fc59.png', '8fed2b599.png', '8ff65b054.png', '911a91de2.png', '9151d1f37.png', '92e4b5803.png', '936334172.png', '9469abe24.png', '948251df3.png', '94ba133c0.png', '9524b09c2.png', '9694fa686.png', '96c6d3af6.png', '97ea07cab.png', '98317755c.png', '991bc45af.png', '9985f08e7.png', '99ec6cf98.png', '99f32c27f.png', '9a9058dd6.png', '9ab3b61db.png', '9b32813c0.png', '9b40fd5b4.png', '9b5bc7b68.png', '9c6d64872.png', '9d63dc050.png', '9dc4c048e.png', '9e0ef139f.png', '9e6395cd2.png', '9f04c1af6.png', '9f76f53bd.png', 'a0044fa37.png', 'a029e78bb.png', 'a035386ae.png', 'a06111202.png', 'a0a13a1fe.png', 'a0dbc4a62.png', 'a1b632391.png', 'a1eced3b5.png', 'a29a89017.png', 'a3290e2dc.png', 'a390479c5.png', 'a4daf7050.png', 'a5545b963.png', 'a591343fd.png', 'a5976876c.png', 'a5b0c23ea.png', 'a5ccc5275.png', 'a5effc842.png', 'a5f531177.png', 'a62fc0648.png', 'a74ecf401.png', 'a74f659c5.png', 'a75b742cd.png', 'a7ee2d8a4.png', 'a80860b81.png', 'a82d370cd.png', 'a88a52491.png', 'a8d82b05a.png', 'a8f2c9322.png', 'aa4b8d708.png', 'ac997b063.png', 'acd879423.png', 'ad6b8c74c.png', 'ae64f6530.png', 'ae73ac763.png', 'aeff0bf8c.png', 'af5cd5756.png', 'afa4576dc.png', 'b05d99d59.png', 'b0885ca26.png', 'b0e6ba84f.png', 'b15980d50.png', 'b349deff8.png', 'b3ab2acea.png', 'b4383df28.png', 'b50e33f38.png', 'b5a8e95f3.png', 'b5ce957cf.png', 'b5e1f76d3.png', 'b62d20d32.png', 'b72f89405.png', 'b75110745.png', 'b75a19e14.png', 'b7b392448.png', 'b7b9ee150.png', 'b7f695669.png', 'b8664f705.png', 'b8c3b0f4b.png', 'b901006cb.png', 'b931ffcc2.png', 'b95608a3e.png', 'b9fb44d3e.png', 'ba1bc108d.png', 'ba28e9c09.png', 'ba30944b9.png', 'bb82cef14.png', 'bbd2ce539.png', 'bc656f071.png', 'bd745fff9.png', 'bf1ef2197.png', 'bf5217e5b.png', 'c013688a9.png', 'c0810829c.png', 'c13cfa6ca.png', 'c24269f00.png', 'c2c5708be.png', 'c4732c9bf.png', 'c4cfb9893.png', 'c53eb8d52.png', 'c609814b6.png', 'c6e95a334.png', 'c87695e0e.png', 'c895464a5.png', 'c8c89b850.png', 'cba4db693.png', 'ccda21dc0.png', 'cd9bc8c1f.png', 'ce3bee65a.png', 'd0af40a2d.png', 'd1e775b97.png', 'd1f4f2cd7.png', 'd30507567.png', 'd318c0f8d.png', 'd48058bb8.png', 'd512071bd.png', 'd53f66132.png', 'd554d9ad6.png', 'd5785bd03.png', 'd748c7307.png', 'd76c8b573.png', 'd898c90db.png', 'd8dd45bb1.png', 'd9a052c2a.png', 'd9a8c6ed5.png', 'd9ae7cf9d.png', 'da762a730.png', 'da97861ed.png', 'da9acbb63.png', 'dafec933b.png', 'dbd132843.png', 'dbe72b0cd.png', 'dd1e759c0.png', 'ddb46795d.png', 'ddf258405.png', 'de1097101.png', 'de67fb3e7.png', 'deb23c029.png', 'df62ac910.png', 'df6448756.png', 'e07e7b55b.png', 'e08d10fe1.png', 'e1d303581.png', 'e3b88c3c0.png', 'e4f5d3cf6.png', 'e5bb2e2cf.png', 'e5dd11bac.png', 'e61b6ff29.png', 'e63e4f653.png', 'e850905dd.png', 'e9935ccc7.png', 'e9dea2c74.png', 'eb48a3979.png', 'ec6e6cfdb.png', 'ece245e91.png', 'ed9a20b24.png', 'edd5b2b13.png', 'ee04c6528.png', 'eef749129.png', 'ef23c4d59.png', 'ef6841bdb.png', 'efdb1fd72.png', 'f0c068cc9.png', 'f0fcd1a29.png', 'f12c028d0.png', 'f20fced05.png', 'f2e756037.png', 'f3f60c384.png', 'f44371b31.png', 'f52937aa1.png', 'f616c6831.png', 'f7458fedd.png', 'f76772c24.png', 'f7bbaeed3.png', 'f83626ff7.png', 'f86cff347.png', 'f8abf5974.png', 'f8c96bd65.png', 'fa32e1e7f.png', 'fa440ea1b.png', 'fa51a663c.png', 'fa55f4be4.png', 'fa57f2070.png', 'fafcf1ece.png', 'fb1ba1eb6.png', 'fb95e0cfa.png', 'fbeecf2d0.png', 'fbfe32278.png', 'fc3c746c3.png', 'fd0ca2322.png', 'fdc37b24c.png', 'fdc682350.png']\n",
      "The file data: ['006a4d00d.png', '00dd0d16a.png', '01aef64d2.png', '02afc3d7a.png', '04e064c46.png', '04fafa0d3.png', '05ea7f987.png', '07f867aa5.png', '0ad0ef03e.png', '0b1df6f5a.png', '0bef4ae08.png', '0ca928305.png', '0ddeaa6e7.png', '0e93f4d05.png', '1022cc155.png', '132d3d6e7.png', '143203030.png', '14db20a90.png', '150ab985f.png', '15ca828c8.png', '179cedc9e.png', '18bec843e.png', '19fb8b2cc.png', '1a067ec6e.png', '1b547ac21.png', '1c6a48d4f.png', '1c95a2c57.png', '1cf4ed969.png', '1ea4479e9.png', '20533da92.png', '21cfeb62a.png', '270bc051c.png', '276fd5f88.png', '28a237418.png', '2926b17c0.png', '2a3704b9a.png', '2a5b49dc8.png', '2bf8eac60.png', '31abca20c.png', '33010c8cb.png', '33ea3207a.png', '354c39125.png', '3827a969f.png', '3a98ad207.png', '3d32f86f4.png', '3e0ccc451.png', '3e34f0e4d.png', '3f408c295.png', '3f6c41870.png', '3fd1a2e97.png', '416478ca2.png', '42556bc41.png', '42de1a9d5.png', '46028d2d1.png', '465fc11b5.png', '46c449cdf.png', '4e3c115a4.png', '4e74df4b6.png', '4eebeadb6.png', '4f1efce37.png', '500bc803a.png', '500bd1f17.png', '50ef0e765.png', '52e1bd10e.png', '52f0b365d.png', '53a5c74cd.png', '5512ca7ba.png', '557c7a2aa.png', '56cfc17ec.png', '57c4a1666.png', '57fe6d08a.png', '589fb760c.png', '5a3e2360a.png', '5ec0b1607.png', '5f125eee7.png', '5f731b96c.png', '5f87b1a93.png', '5fec8215c.png', '60ee96ab9.png', '631cac357.png', '6346a5813.png', '63555c98b.png', '638b6a858.png', '63b3aba11.png', '65241684b.png', '657606617.png', '65ab41503.png', '670b97558.png', '682d79dee.png', '688da98a7.png', '6ce2cfd88.png', '6d92a3538.png', '6fe09ced5.png', '6fe76b379.png', '6fe86aa3b.png', '70aedd14d.png', '718cee59f.png', '72b292a3b.png', '72f3f9101.png', '7492af3d3.png', '74bb3f0c1.png', '74be44aef.png', '74fd5da5b.png', '759bf2b19.png', '75d522cd3.png', '77686f343.png', '7a1c3e5b8.png', '7a9a62dac.png', '7d5f8aab4.png', '7fe0c99d5.png', '8056c3590.png', '810110db6.png', '8159eeb82.png', '840fdb281.png', '846e1f63b.png', '847872e08.png', '85c77d977.png', '867bd5d63.png', '87d1a75df.png', '896a23ea3.png', '8a3902c95.png', '8bfd7bba7.png', '8d9512864.png', '8e1efae9e.png', '8e3462539.png', '8f72e841a.png', '905aee3f2.png', '9123349c5.png', '917af97ab.png', '9308e84bc.png', '93d6a65a2.png', '9451dd4d2.png', '94adb2c3b.png', '950c3e930.png', '953ced7c6.png', '95e89ddd3.png', '9617b5025.png', '97bfbdcf0.png', '98431cfc6.png', '995a8bd85.png', '9ac112817.png', '9db0aa841.png', 'a0ec33869.png', 'a13743637.png', 'a27721a9b.png', 'a2f172e0a.png', 'a4ae6ec8b.png', 'a538401ce.png', 'a59d03b99.png', 'a73168ffd.png', 'aad81b27b.png', 'ab3a8d4d6.png', 'adb2d81e7.png', 'aee19a2d1.png', 'afb08d410.png', 'b085af335.png', 'b30a50916.png', 'b3e5c949e.png', 'b41bee0f3.png', 'b54f52362.png', 'b5bc245d4.png', 'b886d79e6.png', 'ba3795245.png', 'ba4b5df66.png', 'bb8144729.png', 'bbb2fe0b4.png', 'bbeb86100.png', 'bcaf2f2dc.png', 'bd1e1acdd.png', 'be99eac09.png', 'bea1ec909.png', 'bfedca16c.png', 'c16206dca.png', 'c43abfa03.png', 'c7a718917.png', 'c819c3429.png', 'c9457398b.png', 'cc25cd1ad.png', 'cc2c012f7.png', 'cd3e9d61c.png', 'cd616827b.png', 'cf5ec9251.png', 'd26e5c8fc.png', 'd308ef21b.png', 'd30a460b4.png', 'd33d10a18.png', 'd4f0adef4.png', 'd62879538.png', 'd9f0623e1.png', 'da6621ac8.png', 'dbb602af5.png', 'dca1ac479.png', 'de0e770b2.png', 'de457c61d.png', 'de81a9d77.png', 'debcefa3f.png', 'df362ae68.png', 'df376f5c7.png', 'e0bc6c676.png', 'e19023937.png', 'e3d414b44.png', 'e41f1b997.png', 'e53eefec4.png', 'e724165c5.png', 'e9b5f28cd.png', 'e9eb110ce.png', 'eae41be4f.png', 'eb9bd2f4a.png', 'ecca0b65c.png', 'ed2fe7bb9.png', 'ee4100782.png', 'f00311fd8.png', 'f0127f70d.png', 'f19c334fe.png', 'f2fb09190.png', 'f35608a5c.png', 'f38565506.png', 'f428f843f.png', 'f4dc7d0ad.png', 'f900b7684.png', 'f90b0ca05.png', 'f927e469b.png', 'f981da6df.png', 'fbc21a114.png', 'fd0d400b6.png', 'fdd0a59e3.png', 'fe0f1b30d.png', 'fe2bf1883.png', 'fe3bcb925.png', 'ff46c64b4.png', 'ffb54800c.png']\n",
      "The file data: ['003402ea0.png', '00cc58829.png', '00d030ea0.png', '00e049fe8.png', '018c28574.png', '01e18fd1a.png', '0268ecbe2.png', '027f505f5.png', '028329f45.png', '04559c69c.png', '055922489.png', '05598e057.png', '05e5b5cb6.png', '06a64ac47.png', '071907a13.png', '076b550b6.png', '085debc4e.png', '0958bdb64.png', '09be59300.png', '09d34fe5b.png', '0a2ff1911.png', '0b26e2d09.png', '0cae486ac.png', '0d85a4e16.png', '0dc692377.png', '0df57701f.png', '0e7f05ec0.png', '0f2dbf503.png', '0ff5ac7e1.png', '10496e1d7.png', '108976349.png', '1188ef167.png', '12ba9357a.png', '137126847.png', '13729b12c.png', '13b87795c.png', '143596072.png', '1476d787e.png', '149f18d8c.png', '167cf0978.png', '16ecc632f.png', '17c80c4fd.png', '1816ac2d6.png', '188dcbe7b.png', '18a460203.png', '19ae90c5c.png', '19f14f508.png', '1a2132c16.png', '1a73adfd9.png', '1b7110883.png', '1b71148aa.png', '1b89f07b8.png', '1c41c5fd4.png', '1da91c4c6.png', '1de219f93.png', '1ea090972.png', '1f14ed265.png', '1f916d537.png', '21cb65ed2.png', '21f0b515d.png', '21f880735.png', '22429fb19.png', '23125a26e.png', '24df8bcfe.png', '25a9d7da2.png', '26c48a815.png', '273fdc7f5.png', '276bb8993.png', '27d658aea.png', '27d971fd0.png', '28277f807.png', '28da4b5c3.png', '28f8c7f43.png', '29926ea63.png', '29acf70e6.png', '29c3df915.png', '29ed37400.png', '2a1966ff8.png', '2ab0c21fb.png', '2acee6217.png', '2b03e0abc.png', '2bf465881.png', '2bfbed251.png', '2d2397456.png', '2d70e8f87.png', '2db36f1a0.png', '2e03bc81d.png', '2e1dc6e23.png', '2ed7d6a89.png', '2ed82c948.png', '2f83f3ebd.png', '2fa64903c.png', '2fa8935f8.png', '3008533bc.png', '301edf06a.png', '30e7d6783.png', '317c8d232.png', '32c2487ad.png', '33253201f.png', '33c5d5c61.png', '33fa4d48a.png', '3431fcef9.png', '344329c57.png', '34a7bd232.png', '34cdf6c71.png', '35e257ee6.png', '3670df417.png', '375e964fd.png', '38080b297.png', '3810c2e11.png', '39070241e.png', '3993a9c5c.png', '39f6f70e2.png', '3ad4ad205.png', '3aebd50f0.png', '3b0100994.png', '3b27d30a3.png', '3b3ace0ee.png', '3c6f4fe90.png', '3cdca6a6c.png', '3ce10885f.png', '3d04b2a31.png', '3e2d7bdea.png', '3f9dd7d18.png', '3fb70e8c5.png', '400479897.png', '420457fe9.png', '42d2369a7.png', '42db489c6.png', '436e5809f.png', '43ffe7711.png', '4430933ca.png', '4501821c3.png', '4507d5e15.png', '460ac5645.png', '464dc6968.png', '464e4863b.png', '4656b881d.png', '465bff6eb.png', '46b54b502.png', '46c4aeda2.png', '4731cb066.png', '475f43d71.png', '47aa8024a.png', '47c9b5639.png', '487599b7f.png', '498878207.png', '499180403.png', '49aa0022d.png', '4a2f80f95.png', '4a786b0d4.png', '4a99a5aac.png', '4aace5bc4.png', '4b62b3e51.png', '4bc35381d.png', '4be536f13.png', '4c21d89be.png', '4c8af2ed3.png', '4daedff7d.png', '4ef7552f4.png', '4f0970770.png', '50a132243.png', '5178de55d.png', '517aa9aec.png', '51846ad2b.png', '51b943178.png', '523dae399.png', '524b4014b.png', '525ba66d4.png', '532679a1a.png', '55c8528fe.png', '55f1cad85.png', '5861480ff.png', '58e22d25a.png', '5a2274460.png', '5a4584b98.png', '5b0a87abf.png', '5b7582e22.png', '5d1f49b75.png', '5da2c0d45.png', '5dbc8a7d9.png', '5e5e9be4e.png', '5e977067e.png', '5fa533084.png', '605478787.png', '6118042fe.png', '611b0a0ef.png', '6226031d8.png', '62e0225ab.png', '635dc514d.png', '63e8b0fad.png', '63ede4ce5.png', '643b99d1d.png', '64787c7cb.png', '65311995c.png', '655b9fa57.png', '65d04573e.png', '663848c02.png', '665a286fb.png', '66689513f.png', '66a4be0df.png', '6749e8eec.png', '6751cef57.png', '6793f76c0.png', '688b5551d.png', '68ac98ab6.png', '691b35920.png', '6af7caae2.png', '6b666de44.png', '6b950f5f0.png', '6c03f3f02.png', '6c7043cc5.png', '6c713c23b.png', '6c7938a6c.png', '6c7e1ebc2.png', '6d1b9bb16.png', '6d7fa83ff.png', '6e37cdeef.png', '6efe11b4b.png', '6f0082a09.png', '6f29a7ddb.png', '70aa9e547.png', '7129784a9.png', '72243ee0c.png', '726ae59a2.png', '73e994e5e.png', '7405aee1b.png', '741dc05da.png', '749f91a6f.png', '74d9ab3c6.png', '75107b8b4.png', '758271672.png', '75ac0573e.png', '75ae1bb94.png', '762fc13b0.png', '76b2d6bf8.png', '76e00aac1.png', '77add63eb.png', '782fcd40d.png', '78730a816.png', '78757ce29.png', '789711110.png', '79158945e.png', '79cc6a8e8.png', '79cc9641b.png', '7a07efc0c.png', '7adff29ac.png', '7be34ad47.png', '7c3ca61ff.png', '7d4bd6fe6.png', '7d89d7a87.png', '7e8c89d30.png', '801c3e668.png', '8023cf2e2.png', '8032a7f05.png', '81550ffb9.png', '816965c05.png', '81bc7934b.png', '81d8fc031.png', '82e3f3c74.png', '840ca8a36.png', '845a0ec2c.png', '847ca1669.png', '84b27cfd6.png', '84cf76362.png', '84e69eaf0.png', '858547ab8.png', '85f1d46e7.png', '85f33fcee.png', '8668f7d12.png', '8674eacd1.png', '8692526d1.png', '869c32954.png', '86a747d04.png', '87429079a.png', '876391c4f.png', '8788bc3cb.png', '87cafd4dc.png', '87e65b6d9.png', '882227162.png', '88e24e307.png', '89825ecdc.png', '89d260299.png', '8d3505642.png', '8d4967856.png', '8dc954c08.png', '8e0da1b17.png', '8e1a744c8.png', '8e9cdb545.png', '8ee5d6835.png', '8f463eb5c.png', '8fd09f9a8.png', '90246ebf3.png', '9096d82dc.png', '909da3410.png', '90e1ab9bd.png', '914aa19ae.png', '91611749b.png', '91cd35be2.png', '91fa6a4e8.png', '922f5f1d1.png', '92888379a.png', '931fb856a.png', '939d7da03.png', '967163f07.png', '968f9d619.png', '96bdc048d.png', '97aee87ec.png', '982e2f7be.png', '98371ada7.png', '984f52a86.png', '985e72cfb.png', '9ab1673ae.png', '9b569f4c2.png', '9bd832240.png', '9ca3c5573.png', '9dd370e79.png', '9e6f71239.png', '9ecd81c53.png', '9eed2c8f4.png', '9f4b3c440.png', '9f87371b2.png', '9fb65eb5d.png', '9fe156262.png', 'a06803452.png', 'a092428cd.png', 'a0b1ab201.png', 'a11144563.png', 'a134e87e9.png', 'a17451743.png', 'a1ab74926.png', 'a1db4ec9e.png', 'a1f60fe38.png', 'a2ce7fbfe.png', 'a38a45d9e.png', 'a3d92fb5a.png', 'a40e87bcf.png', 'a4f26b005.png', 'a6358bb36.png', 'a666b103c.png', 'a6c5ada78.png', 'a7864d8f3.png', 'a95fe2665.png', 'aa080431d.png', 'aa6bc0612.png', 'abf3ee5df.png', 'ac4df2b40.png', 'acbd8f766.png', 'acbf61855.png', 'ad8b28544.png', 'ae69bd33e.png', 'ae9b5d027.png', 'aeacc554f.png', 'af181cd9c.png', 'af8a6280c.png', 'afee78134.png', 'b0de6838e.png', 'b13a3aa91.png', 'b14b1357f.png', 'b168dd77c.png', 'b1878d0bc.png', 'b1d3ecd6c.png', 'b20d166dc.png', 'b48d3c6cd.png', 'b4b94663f.png', 'b4cf2660d.png', 'b53a00a5a.png', 'b53ebbdc8.png', 'b5454be5c.png', 'b5785cf1a.png', 'b7a85bf77.png', 'b8ac37dcd.png', 'b8b6da469.png', 'b94448246.png', 'b95a6d369.png', 'b9a3e820f.png', 'b9d09d85e.png', 'ba08ca84c.png', 'baff578af.png', 'bc924a3ff.png', 'bd1e9e013.png', 'bf60251b5.png', 'bfd134e4e.png', 'c046b4f90.png', 'c203f8b60.png', 'c2143cbb6.png', 'c2922dd4b.png', 'c2f642125.png', 'c3510d0cc.png', 'c38a4c31e.png', 'c3eb8fe23.png', 'c423a70c3.png', 'c5eba9d04.png', 'c629f1db5.png', 'c6ffe3328.png', 'c7344c2e3.png', 'c74732b65.png', 'c77195c15.png', 'c97427ee2.png', 'c9fa2e553.png', 'ca507e99a.png', 'cae4dac21.png', 'cae73f57f.png', 'cb15fb345.png', 'cb65d8e94.png', 'cb6988242.png', 'cbd4362a2.png', 'cbe03c877.png', 'ccf00806f.png', 'cd47ff628.png', 'cd4bcc457.png', 'ceaf23106.png', 'cf60b7687.png', 'cf9ef8c5e.png', 'd0300ef58.png', 'd03c0b230.png', 'd1476bc9f.png', 'd1edb5e45.png', 'd21bfbaa7.png', 'd394d353a.png', 'd3e90a2e9.png', 'd4887c996.png', 'd492da1ba.png', 'd50e5c7e4.png', 'd52d13ac9.png', 'd6515ed79.png', 'd6e8dd4ac.png', 'd7314844c.png', 'd7ecdaabe.png', 'd8e9efd02.png', 'd9f79c9ce.png', 'd9ff280f1.png', 'da462b870.png', 'db0262690.png', 'db3085018.png', 'db360e6d2.png', 'db3847e4e.png', 'dc7dd83eb.png', 'de59a590a.png', 'de6fa0b6c.png', 'e02e72548.png', 'e0a816c0b.png', 'e0ed50f3a.png', 'e11916073.png', 'e19c8b666.png', 'e1be6ab61.png', 'e29577320.png', 'e4fd7e115.png', 'e50666c1f.png', 'e54767587.png', 'e5c038840.png', 'e682d2f54.png', 'e70d986b6.png', 'e787fda09.png', 'e82c4271a.png', 'e8a99d459.png', 'e909c5348.png', 'e910500a6.png', 'ea257f436.png', 'ea39d1bf1.png', 'eb8f098fa.png', 'ebbadc4c2.png', 'ec4ad48f5.png', 'ec87dcbbf.png', 'ece5a62ad.png', 'ecf58ad3a.png', 'eea92edcc.png', 'ef72fb02b.png', 'efbf3750d.png', 'f012e8350.png', 'f1196e55f.png', 'f12648089.png', 'f253f407d.png', 'f263c0f9f.png', 'f2d762192.png', 'f2f975384.png', 'f43489876.png', 'f467bd532.png', 'f46902555.png', 'f57d6d212.png', 'f60a53bf4.png', 'f67796f86.png', 'f6fa5e429.png', 'f71a65a08.png', 'f8d9d8885.png', 'fad7f81b7.png', 'fae94cdba.png', 'fb4522b41.png', 'fb60fbf1a.png', 'fb73e5716.png', 'fb894c60f.png', 'fbecbb3b7.png', 'fc0a3eeb0.png', 'fe623537a.png', 'feea57708.png', 'ff07b2015.png']\n",
      "The file data: ['0026b7a30.png', '00626e3be.png', '008753052.png', '00acffa82.png', '019e2ca3b.png', '01f145914.png', '02460681c.png', '04c979351.png', '05f87cff9.png', '06a859dfd.png', '071c8beda.png', '0838d0a77.png', '089859249.png', '095ba8b9d.png', '0ad9c629b.png', '0af59d58a.png', '0b992e297.png', '0cc0786cc.png', '0dfc2684f.png', '0f07c34e6.png', '0f17ed2f7.png', '0f1ac7c29.png', '0f30a59c2.png', '0f8a1f158.png', '100622e89.png', '102be9d35.png', '108770d27.png', '10f06d712.png', '11d370bcc.png', '1290426f8.png', '12c104178.png', '1347ac5ac.png', '134d1d001.png', '136bbcecf.png', '13726d79d.png', '138aec2c1.png', '13e1f2dfd.png', '17bcc04ba.png', '1835ba646.png', '18b3747da.png', '18c0f6b8f.png', '1abf3660d.png', '1bdfd2206.png', '1cd8ef887.png', '1d314afce.png', '1dd4326a8.png', '1e44da887.png', '1ec9ab1b8.png', '1f12ab6b7.png', '1fae880b5.png', '201cdcf53.png', '21114a782.png', '218f3938f.png', '222d5c406.png', '22d2590d3.png', '25d60e020.png', '26eff1e2a.png', '28acd4b0b.png', '292e00e4d.png', '2933913e4.png', '2982d5c21.png', '29a0e6bf9.png', '29bbab238.png', '29d56fd75.png', '29f0864b1.png', '2b51be287.png', '2c2a8d5a4.png', '2cb41be46.png', '2d0c2c01e.png', '2e4cafdc8.png', '2ed22fddd.png', '2efa8dc31.png', '302d3c176.png', '303f718cc.png', '3041d1470.png', '30ff35160.png', '3109caad6.png', '3112fb5d7.png', '31e905346.png', '3217c1887.png', '33ddbf2cc.png', '341823a91.png', '344371cbf.png', '34651cf34.png', '35bccf6c9.png', '3767ec44e.png', '3905347ff.png', '399e9c2a3.png', '39d5d935a.png', '3b3c71f04.png', '3b5b81454.png', '3e9d61115.png', '3f6425004.png', '3fc131cb9.png', '3fde34b6c.png', '4204cd689.png', '42df035bc.png', '436368fcf.png', '449dff6f3.png', '4729baa43.png', '48011ba03.png', '4839e4577.png', '494e9a680.png', '4b8daeba3.png', '4c443aaf8.png', '4c81ff749.png', '4c9ea912c.png', '4d7f9c850.png', '4dcd59e5b.png', '4dfe0db2c.png', '4e8f9790e.png', '4e96e4f63.png', '4eb03def0.png', '4f1a211d3.png', '4f63858d7.png', '4fd1fe7ac.png', '5121d936d.png', '5255463b3.png', '5374f4b77.png', '54f1ef55a.png', '5582aca59.png', '564132c99.png', '56426cc09.png', '568d1a95b.png', '56a7b34cf.png', '5780239a1.png', '57ebf5927.png', '586f43dd2.png', '58debe1da.png', '594c4d5b0.png', '59ca13fa5.png', '5bb9cb07b.png', '5be7ccae6.png', '5de141dee.png', '5df190ffb.png', '5e10b3707.png', '5f69d5659.png', '5ffc8607e.png', '603618ce8.png', '6085e20a5.png', '60884bb5f.png', '6090033e9.png', '60bdea399.png', '620a4a35a.png', '64e9d6654.png', '657ba211d.png', '657feb24d.png', '65e78e25b.png', '66bd9c1bf.png', '67054ec9d.png', '6724b064e.png', '6835112e5.png', '6a97c84ac.png', '6ae5f4197.png', '6bb2545d9.png', '6cd16cd21.png', '6d18daabd.png', '6d579671c.png', '6d623072a.png', '6d63eb98f.png', '6d99bec4e.png', '6ed387106.png', '6f0536b55.png', '6fe5df5b7.png', '700889031.png', '702261484.png', '7162a91f1.png', '71b1b6718.png', '71d15af49.png', '7278694d0.png', '728642410.png', '73d86199e.png', '748fd9df6.png', '754cc58bf.png', '759e4b4eb.png', '77df9b3f4.png', '7801b889c.png', '78654e936.png', '7b04759cc.png', '7b4682569.png', '7ba30d202.png', '7c05c4f0e.png', '7c46a4746.png', '7c572a30a.png', '7d72cc9ea.png', '7dcdd0825.png', '80ca6a2d4.png', '8129d97cd.png', '815cd19f5.png', '817abcd36.png', '819c6ac1d.png', '823b197a3.png', '82b9d0a49.png', '8479c6a25.png', '84d42e202.png', '85f8f5ae1.png', '86054cfe8.png', '866130efe.png', '86a304fad.png', '8723bd1e8.png', '8738994fa.png', '8761bb6e1.png', '8784b654a.png', '87c521db5.png', '87f4dcfe7.png', '87fce36af.png', '88036eac5.png', '88bd2a757.png', '899e696a1.png', '89c1a501a.png', '89dd2e861.png', '8a63b4a57.png', '8a977c224.png', '8b4c2df1f.png', '8c1f10989.png', '8c215ce50.png', '8d59fc1da.png', '8ded4af95.png', '8f099d914.png', '8fafd3b98.png', '9031994fc.png', '9040bcb5b.png', '904f0f781.png', '905ce5eb9.png', '915689d7d.png', '92038f3df.png', '922f7543d.png', '924a65aef.png', '92b1a10ee.png', '92be2b26d.png', '92eac7565.png', '9360888bb.png', '94063c53d.png', '96a82a2a2.png', '96dfb46de.png', '978de5160.png', '979a39f22.png', '98e87074b.png', '99926b786.png', '999f75899.png', '99a9b1567.png', '9a8bb2fff.png', '9af73f331.png', '9bdf9ba7d.png', '9d13632b9.png', '9ee5dbda4.png', '9f70ba1fb.png', 'a012863ce.png', 'a06757f32.png', 'a59405ba8.png', 'a63ac9b84.png', 'a6805e809.png', 'a77646b15.png', 'a8ff2c49e.png', 'a9b7af892.png', 'a9daba74c.png', 'aa2ab6ee7.png', 'ab3b58928.png', 'ab90aee48.png', 'abd486e7b.png', 'acf5eabef.png', 'ad5397f8a.png', 'ad8a3280e.png', 'afe1cdd50.png', 'b0264558c.png', 'b0d647301.png', 'b2b9468af.png', 'b3bac1203.png', 'b41816608.png', 'b4190fe96.png', 'b44f9e223.png', 'b47d8d8f9.png', 'b8418755e.png', 'b8d4a8a59.png', 'b92458cf6.png', 'b94efd26f.png', 'b98d35523.png', 'ba820bf35.png', 'bb719464c.png', 'bbf48c655.png', 'bd5d6e03f.png', 'be337bf4d.png', 'c024ba394.png', 'c0341c93d.png', 'c06e70a77.png', 'c2c6d48e0.png', 'c3b9a611c.png', 'c3d57ab11.png', 'c405c0e38.png', 'c48b70c02.png', 'c4c87351c.png', 'c5687dbb2.png', 'c6818bcde.png', 'c69dc6f62.png', 'c6b426814.png', 'c80847076.png', 'c833940d5.png', 'cabb25dd8.png', 'cb5ff9c78.png', 'cbed7333d.png', 'cc285d141.png', 'cd8c55d21.png', 'cfb3565b9.png', 'd173b40c2.png', 'd1da687e9.png', 'd2b3e12d7.png', 'd2c9f9921.png', 'd415a63be.png', 'd41a8cb93.png', 'd41b1916c.png', 'd42bcf4bd.png', 'd4998deee.png', 'd4aec4bee.png', 'd4db82d2c.png', 'd558ea002.png', 'd585fe0c7.png', 'd5d014036.png', 'd5d909ed5.png', 'd62099b5b.png', 'd63de4d6b.png', 'd7b6e4654.png', 'd97272f23.png', 'd9f0ac9a7.png', 'd9f471b2d.png', 'da2912b2f.png', 'dc351dfa4.png', 'dc39e01ec.png', 'de1da036c.png', 'e0348224d.png', 'e053702bb.png', 'e0f7fb20b.png', 'e11ffb03d.png', 'e32175ef7.png', 'e49429c11.png', 'e4a149c23.png', 'e4a9bfee6.png', 'e54889b13.png', 'e61d10caf.png', 'e6217a0c4.png', 'e6c1a7bbc.png', 'e7bed72a5.png', 'e7c7bab19.png', 'e81a8dacb.png', 'e832be17c.png', 'e8870a1b1.png', 'e947502b4.png', 'e9492ed97.png', 'e9ed80cf3.png', 'ea224d23a.png', 'ea2b5a53e.png', 'ea6cc9c1b.png', 'ead3ac2e1.png', 'eadf78247.png', 'eb0418d36.png', 'eb2b13b27.png', 'ebcbefdad.png', 'ed71987ae.png', 'ee24d08ce.png', 'ee7e8f2d9.png', 'ee9ea960d.png', 'ef286fe28.png', 'f171da2ef.png', 'f1bb1de07.png', 'f22262822.png', 'f2eeeb0a2.png', 'f30abde8b.png', 'f40d6554c.png', 'f474da0ca.png', 'f506aa640.png', 'f5e7d66b9.png', 'f72176e1a.png', 'f78fcd305.png', 'f7ac77334.png', 'f861c27a9.png', 'f8bf223f3.png', 'f9a842f5f.png', 'faaac2544.png', 'fb57ce659.png', 'fbb26c002.png', 'fbec8cc1a.png', 'fc293eacb.png', 'fc441208c.png', 'fed9406b2.png', 'fef5e7066.png', 'ffa401155.png']\n"
     ]
    }
   ],
   "source": [
    "#picking only 20 image per category\n",
    "\n",
    "list_dir = \"C:/Users/Avinash/Desktop/Resume_Projects/multiple_object_detection/dataset\"\n",
    "file_names_list = os.listdir(list_dir) #for getting the list of files names\n",
    "label = 0 #initialized the label key word for counting the labels.\n",
    "plant_data = {} #for creating the dictionary \n",
    "list_of_files = [] #for storing the image path \n",
    "list_of_categories = [] #for storing the category names\n",
    "list_of_labels = [] #for storing the labels\n",
    "for filename in file_names_list:\n",
    "    # print(\"The file name is:\",filename) \n",
    "    label += 1\n",
    "    file_path = f\"C:/Users/Avinash/Desktop/Resume_Projects/multiple_object_detection/dataset/{filename}\"\n",
    "    filedata = os.listdir(file_path)\n",
    "    \n",
    "    print(\"The file data:\",filedata)\n",
    "    \n",
    "    length_of_data = len(filedata)\n",
    "    if length_of_data > 50:\n",
    "        \n",
    "        listdata = filedata[:50]\n",
    "        for data in listdata:\n",
    "            # print(\"The data:\",data)\n",
    "            image_path = f\"C:/Users/Avinash/Desktop/Resume_Projects/multiple_object_detection/dataset/{filename}/{data}\"\n",
    "            #print(\"The image path:\",image_path)\n",
    "            list_of_files.append(image_path)\n",
    "            list_of_categories.append(filename)\n",
    "            list_of_labels.append(label)\n",
    "\n",
    "data = {\"File_Path\":list_of_files,\n",
    "        \"Category_Names\":list_of_categories,\n",
    "        \"Labels\":list_of_labels ,\n",
    "        }\n",
    "df = pd.DataFrame(data)\n",
    "# print(\"The shape of the dataset:\",df.shape)"
   ]
  },
  {
   "cell_type": "code",
   "execution_count": 4,
   "metadata": {},
   "outputs": [],
   "source": [
    "# divide the dataset in to features and classess (label)\n",
    "x = df[\"File_Path\"]\n",
    "y = df[\"Category_Names\"]"
   ]
  },
  {
   "cell_type": "code",
   "execution_count": 65,
   "metadata": {},
   "outputs": [
    {
     "data": {
      "text/plain": [
       "(600, 3)"
      ]
     },
     "execution_count": 65,
     "metadata": {},
     "output_type": "execute_result"
    }
   ],
   "source": [
    "df.shape"
   ]
  },
  {
   "cell_type": "markdown",
   "metadata": {},
   "source": [
    "# Preprocesing the image "
   ]
  },
  {
   "cell_type": "code",
   "execution_count": 27,
   "metadata": {},
   "outputs": [],
   "source": [
    "#we are resizing the image to 70*70\n",
    "trainImg = []\n",
    "\n",
    "# Obtain images and resizing, obtain labels\n",
    "\n",
    "for file in df[\"File_Path\"].values:\n",
    "    trainImg.append(cv2.resize(cv2.imread(file), (70, 70)))   # Get image (with resizing)\n",
    "    \n",
    "trainImg = np.asarray(trainImg)  # Train images set converting them into arrays"
   ]
  },
  {
   "cell_type": "markdown",
   "metadata": {},
   "source": [
    "# Converting labels into categorical "
   ]
  },
  {
   "cell_type": "code",
   "execution_count": 6,
   "metadata": {},
   "outputs": [
    {
     "name": "stdout",
     "output_type": "stream",
     "text": [
      "Classes: ['Black-grass' 'Charlock' 'Cleavers' 'Common-Chickweed' 'Common-wheat'\n",
      " 'Fat-Hen' 'Loose-Silky-bent' 'Maize' 'Scentless-Mayweed'\n",
      " 'Shepherds-Purse' 'Small-flowered-Cranesbill' 'Sugar-beet']\n",
      "Number of classes: 12\n"
     ]
    }
   ],
   "source": [
    "# Encode labels and create classes\n",
    "from sklearn import preprocessing\n",
    "import matplotlib.pyplot as plt\n",
    "\n",
    "le = preprocessing.LabelEncoder()\n",
    "le.fit(y)\n",
    "print(\"Classes: \" + str(le.classes_))\n",
    "encodeTrainLabels = le.transform(y)\n",
    "\n",
    "# Make labels categorical\n",
    "clearTrainLabel = tf.keras.utils.to_categorical(encodeTrainLabels)\n",
    "num_clases = clearTrainLabel.shape[1]\n",
    "print(\"Number of classes: \" + str(num_clases))"
   ]
  },
  {
   "cell_type": "markdown",
   "metadata": {},
   "source": [
    "# Preprocessing the image\n",
    "# Resize the image (2)\n",
    "#"
   ]
  },
  {
   "cell_type": "code",
   "execution_count": 7,
   "metadata": {},
   "outputs": [],
   "source": [
    "# #preprocess the images in to 1 to 255 it is in RGB\n",
    "# trainImg = trainImg / 255"
   ]
  },
  {
   "cell_type": "code",
   "execution_count": 28,
   "metadata": {},
   "outputs": [],
   "source": [
    "# Get the clear image \n",
    "# step 1:- Reducing the Noise by applying the GaussianBlur on the image\n",
    "# step 2:- Applying HSV on the blur image; output a image color with HSV (Which helps to make the RGB colour )\n",
    "# step 3:- Creating mask based on the empirical range.\n",
    "# step 4:- Convert into boolean mask and apply it on the origin image.\n",
    "\n",
    "clearTrainImg = [] #list to save the cleared train image\n",
    "\n",
    "for img in trainImg:\n",
    "    \n",
    "    #converting the image frame to GaussianBlur \n",
    "    #ksize − A Size object representing the size of the kernel.\n",
    "    #sigmaX- A variable of the type double representing the Gaussian kernel standard deviation in X direction.\n",
    "    gaussblur = cv2.GaussianBlur(img,(5,5),0)\n",
    "    \n",
    "    #convert the gaussblur to hsv image\n",
    "    hsv_image = cv2.cvtColor(gaussblur,cv2.COLOR_BGR2HSV) \n",
    "    \n",
    "    #creating the mask for the hsv_image \n",
    "    lower_green = (25,40,50)\n",
    "    higher_green = (75,255,255) \n",
    "    mask = cv2.inRange(hsv_image,lower_green,higher_green) \n",
    "    kernel = cv2.getStructuringElement(cv2.MORPH_ELLIPSE,(11,11)) \n",
    "    mask = cv2.morphologyEx(mask,cv2.MORPH_CLOSE,kernel)  \n",
    "    \n",
    "    #create bool mask \n",
    "    bMask = mask > 0  \n",
    "    \n",
    "    #apply the mask to the image\n",
    "    clear = np.zeros_like(img,np.uint8) #return with the same image shape \n",
    "    clear[bMask] = img[bMask]  # Apply boolean mask to the origin image\n",
    "    \n",
    "    clearTrainImg.append(clear)  # Append image without background\n",
    "    \n",
    "    \n",
    "clearTrainImg = np.array(clearTrainImg)  \n",
    "    \n",
    "    "
   ]
  },
  {
   "cell_type": "code",
   "execution_count": 29,
   "metadata": {},
   "outputs": [],
   "source": [
    "#spliting the data set in to train test\n",
    "from sklearn.model_selection import train_test_split\n",
    "\n",
    "x_train,x_test,y_train,y_test = train_test_split(clearTrainImg,clearTrainLabel,test_size=0.2,random_state=42)"
   ]
  },
  {
   "cell_type": "code",
   "execution_count": 30,
   "metadata": {},
   "outputs": [],
   "source": [
    "from tensorflow.keras.layers import BatchNormalization #normalizing the input data.\n",
    "from tensorflow.keras.models import Sequential #for making the modeles.\n",
    "from tensorflow.keras.layers import Dense,Flatten,MaxPooling2D,Conv2D,Dropout #Using the build the CNN network."
   ]
  },
  {
   "cell_type": "code",
   "execution_count": 31,
   "metadata": {},
   "outputs": [
    {
     "name": "stderr",
     "output_type": "stream",
     "text": [
      "c:\\Users\\Avinash\\Desktop\\Resume_Projects\\multiple_object_detection\\cropenv\\Lib\\site-packages\\keras\\src\\layers\\convolutional\\base_conv.py:107: UserWarning: Do not pass an `input_shape`/`input_dim` argument to a layer. When using Sequential models, prefer using an `Input(shape)` object as the first layer in the model instead.\n",
      "  super().__init__(activity_regularizer=activity_regularizer, **kwargs)\n"
     ]
    },
    {
     "data": {
      "text/html": [
       "<pre style=\"white-space:pre;overflow-x:auto;line-height:normal;font-family:Menlo,'DejaVu Sans Mono',consolas,'Courier New',monospace\"><span style=\"font-weight: bold\">Model: \"sequential_1\"</span>\n",
       "</pre>\n"
      ],
      "text/plain": [
       "\u001b[1mModel: \"sequential_1\"\u001b[0m\n"
      ]
     },
     "metadata": {},
     "output_type": "display_data"
    },
    {
     "data": {
      "text/html": [
       "<pre style=\"white-space:pre;overflow-x:auto;line-height:normal;font-family:Menlo,'DejaVu Sans Mono',consolas,'Courier New',monospace\">┏━━━━━━━━━━━━━━━━━━━━━━━━━━━━━━━━━┳━━━━━━━━━━━━━━━━━━━━━━━━┳━━━━━━━━━━━━━━━┓\n",
       "┃<span style=\"font-weight: bold\"> Layer (type)                    </span>┃<span style=\"font-weight: bold\"> Output Shape           </span>┃<span style=\"font-weight: bold\">       Param # </span>┃\n",
       "┡━━━━━━━━━━━━━━━━━━━━━━━━━━━━━━━━━╇━━━━━━━━━━━━━━━━━━━━━━━━╇━━━━━━━━━━━━━━━┩\n",
       "│ conv2d_6 (<span style=\"color: #0087ff; text-decoration-color: #0087ff\">Conv2D</span>)               │ (<span style=\"color: #00d7ff; text-decoration-color: #00d7ff\">None</span>, <span style=\"color: #00af00; text-decoration-color: #00af00\">66</span>, <span style=\"color: #00af00; text-decoration-color: #00af00\">66</span>, <span style=\"color: #00af00; text-decoration-color: #00af00\">64</span>)     │         <span style=\"color: #00af00; text-decoration-color: #00af00\">4,864</span> │\n",
       "├─────────────────────────────────┼────────────────────────┼───────────────┤\n",
       "│ batch_normalization_8           │ (<span style=\"color: #00d7ff; text-decoration-color: #00d7ff\">None</span>, <span style=\"color: #00af00; text-decoration-color: #00af00\">66</span>, <span style=\"color: #00af00; text-decoration-color: #00af00\">66</span>, <span style=\"color: #00af00; text-decoration-color: #00af00\">64</span>)     │           <span style=\"color: #00af00; text-decoration-color: #00af00\">256</span> │\n",
       "│ (<span style=\"color: #0087ff; text-decoration-color: #0087ff\">BatchNormalization</span>)            │                        │               │\n",
       "├─────────────────────────────────┼────────────────────────┼───────────────┤\n",
       "│ conv2d_7 (<span style=\"color: #0087ff; text-decoration-color: #0087ff\">Conv2D</span>)               │ (<span style=\"color: #00d7ff; text-decoration-color: #00d7ff\">None</span>, <span style=\"color: #00af00; text-decoration-color: #00af00\">62</span>, <span style=\"color: #00af00; text-decoration-color: #00af00\">62</span>, <span style=\"color: #00af00; text-decoration-color: #00af00\">64</span>)     │       <span style=\"color: #00af00; text-decoration-color: #00af00\">102,464</span> │\n",
       "├─────────────────────────────────┼────────────────────────┼───────────────┤\n",
       "│ max_pooling2d_3 (<span style=\"color: #0087ff; text-decoration-color: #0087ff\">MaxPooling2D</span>)  │ (<span style=\"color: #00d7ff; text-decoration-color: #00d7ff\">None</span>, <span style=\"color: #00af00; text-decoration-color: #00af00\">31</span>, <span style=\"color: #00af00; text-decoration-color: #00af00\">31</span>, <span style=\"color: #00af00; text-decoration-color: #00af00\">64</span>)     │             <span style=\"color: #00af00; text-decoration-color: #00af00\">0</span> │\n",
       "├─────────────────────────────────┼────────────────────────┼───────────────┤\n",
       "│ batch_normalization_9           │ (<span style=\"color: #00d7ff; text-decoration-color: #00d7ff\">None</span>, <span style=\"color: #00af00; text-decoration-color: #00af00\">31</span>, <span style=\"color: #00af00; text-decoration-color: #00af00\">31</span>, <span style=\"color: #00af00; text-decoration-color: #00af00\">64</span>)     │           <span style=\"color: #00af00; text-decoration-color: #00af00\">256</span> │\n",
       "│ (<span style=\"color: #0087ff; text-decoration-color: #0087ff\">BatchNormalization</span>)            │                        │               │\n",
       "├─────────────────────────────────┼────────────────────────┼───────────────┤\n",
       "│ dropout_5 (<span style=\"color: #0087ff; text-decoration-color: #0087ff\">Dropout</span>)             │ (<span style=\"color: #00d7ff; text-decoration-color: #00d7ff\">None</span>, <span style=\"color: #00af00; text-decoration-color: #00af00\">31</span>, <span style=\"color: #00af00; text-decoration-color: #00af00\">31</span>, <span style=\"color: #00af00; text-decoration-color: #00af00\">64</span>)     │             <span style=\"color: #00af00; text-decoration-color: #00af00\">0</span> │\n",
       "├─────────────────────────────────┼────────────────────────┼───────────────┤\n",
       "│ conv2d_8 (<span style=\"color: #0087ff; text-decoration-color: #0087ff\">Conv2D</span>)               │ (<span style=\"color: #00d7ff; text-decoration-color: #00d7ff\">None</span>, <span style=\"color: #00af00; text-decoration-color: #00af00\">27</span>, <span style=\"color: #00af00; text-decoration-color: #00af00\">27</span>, <span style=\"color: #00af00; text-decoration-color: #00af00\">128</span>)    │       <span style=\"color: #00af00; text-decoration-color: #00af00\">204,928</span> │\n",
       "├─────────────────────────────────┼────────────────────────┼───────────────┤\n",
       "│ batch_normalization_10          │ (<span style=\"color: #00d7ff; text-decoration-color: #00d7ff\">None</span>, <span style=\"color: #00af00; text-decoration-color: #00af00\">27</span>, <span style=\"color: #00af00; text-decoration-color: #00af00\">27</span>, <span style=\"color: #00af00; text-decoration-color: #00af00\">128</span>)    │           <span style=\"color: #00af00; text-decoration-color: #00af00\">512</span> │\n",
       "│ (<span style=\"color: #0087ff; text-decoration-color: #0087ff\">BatchNormalization</span>)            │                        │               │\n",
       "├─────────────────────────────────┼────────────────────────┼───────────────┤\n",
       "│ conv2d_9 (<span style=\"color: #0087ff; text-decoration-color: #0087ff\">Conv2D</span>)               │ (<span style=\"color: #00d7ff; text-decoration-color: #00d7ff\">None</span>, <span style=\"color: #00af00; text-decoration-color: #00af00\">23</span>, <span style=\"color: #00af00; text-decoration-color: #00af00\">23</span>, <span style=\"color: #00af00; text-decoration-color: #00af00\">128</span>)    │       <span style=\"color: #00af00; text-decoration-color: #00af00\">409,728</span> │\n",
       "├─────────────────────────────────┼────────────────────────┼───────────────┤\n",
       "│ max_pooling2d_4 (<span style=\"color: #0087ff; text-decoration-color: #0087ff\">MaxPooling2D</span>)  │ (<span style=\"color: #00d7ff; text-decoration-color: #00d7ff\">None</span>, <span style=\"color: #00af00; text-decoration-color: #00af00\">11</span>, <span style=\"color: #00af00; text-decoration-color: #00af00\">11</span>, <span style=\"color: #00af00; text-decoration-color: #00af00\">128</span>)    │             <span style=\"color: #00af00; text-decoration-color: #00af00\">0</span> │\n",
       "├─────────────────────────────────┼────────────────────────┼───────────────┤\n",
       "│ batch_normalization_11          │ (<span style=\"color: #00d7ff; text-decoration-color: #00d7ff\">None</span>, <span style=\"color: #00af00; text-decoration-color: #00af00\">11</span>, <span style=\"color: #00af00; text-decoration-color: #00af00\">11</span>, <span style=\"color: #00af00; text-decoration-color: #00af00\">128</span>)    │           <span style=\"color: #00af00; text-decoration-color: #00af00\">512</span> │\n",
       "│ (<span style=\"color: #0087ff; text-decoration-color: #0087ff\">BatchNormalization</span>)            │                        │               │\n",
       "├─────────────────────────────────┼────────────────────────┼───────────────┤\n",
       "│ dropout_6 (<span style=\"color: #0087ff; text-decoration-color: #0087ff\">Dropout</span>)             │ (<span style=\"color: #00d7ff; text-decoration-color: #00d7ff\">None</span>, <span style=\"color: #00af00; text-decoration-color: #00af00\">11</span>, <span style=\"color: #00af00; text-decoration-color: #00af00\">11</span>, <span style=\"color: #00af00; text-decoration-color: #00af00\">128</span>)    │             <span style=\"color: #00af00; text-decoration-color: #00af00\">0</span> │\n",
       "├─────────────────────────────────┼────────────────────────┼───────────────┤\n",
       "│ conv2d_10 (<span style=\"color: #0087ff; text-decoration-color: #0087ff\">Conv2D</span>)              │ (<span style=\"color: #00d7ff; text-decoration-color: #00d7ff\">None</span>, <span style=\"color: #00af00; text-decoration-color: #00af00\">7</span>, <span style=\"color: #00af00; text-decoration-color: #00af00\">7</span>, <span style=\"color: #00af00; text-decoration-color: #00af00\">256</span>)      │       <span style=\"color: #00af00; text-decoration-color: #00af00\">819,456</span> │\n",
       "├─────────────────────────────────┼────────────────────────┼───────────────┤\n",
       "│ batch_normalization_12          │ (<span style=\"color: #00d7ff; text-decoration-color: #00d7ff\">None</span>, <span style=\"color: #00af00; text-decoration-color: #00af00\">7</span>, <span style=\"color: #00af00; text-decoration-color: #00af00\">7</span>, <span style=\"color: #00af00; text-decoration-color: #00af00\">256</span>)      │         <span style=\"color: #00af00; text-decoration-color: #00af00\">1,024</span> │\n",
       "│ (<span style=\"color: #0087ff; text-decoration-color: #0087ff\">BatchNormalization</span>)            │                        │               │\n",
       "├─────────────────────────────────┼────────────────────────┼───────────────┤\n",
       "│ conv2d_11 (<span style=\"color: #0087ff; text-decoration-color: #0087ff\">Conv2D</span>)              │ (<span style=\"color: #00d7ff; text-decoration-color: #00d7ff\">None</span>, <span style=\"color: #00af00; text-decoration-color: #00af00\">3</span>, <span style=\"color: #00af00; text-decoration-color: #00af00\">3</span>, <span style=\"color: #00af00; text-decoration-color: #00af00\">256</span>)      │     <span style=\"color: #00af00; text-decoration-color: #00af00\">1,638,656</span> │\n",
       "├─────────────────────────────────┼────────────────────────┼───────────────┤\n",
       "│ max_pooling2d_5 (<span style=\"color: #0087ff; text-decoration-color: #0087ff\">MaxPooling2D</span>)  │ (<span style=\"color: #00d7ff; text-decoration-color: #00d7ff\">None</span>, <span style=\"color: #00af00; text-decoration-color: #00af00\">1</span>, <span style=\"color: #00af00; text-decoration-color: #00af00\">1</span>, <span style=\"color: #00af00; text-decoration-color: #00af00\">256</span>)      │             <span style=\"color: #00af00; text-decoration-color: #00af00\">0</span> │\n",
       "├─────────────────────────────────┼────────────────────────┼───────────────┤\n",
       "│ batch_normalization_13          │ (<span style=\"color: #00d7ff; text-decoration-color: #00d7ff\">None</span>, <span style=\"color: #00af00; text-decoration-color: #00af00\">1</span>, <span style=\"color: #00af00; text-decoration-color: #00af00\">1</span>, <span style=\"color: #00af00; text-decoration-color: #00af00\">256</span>)      │         <span style=\"color: #00af00; text-decoration-color: #00af00\">1,024</span> │\n",
       "│ (<span style=\"color: #0087ff; text-decoration-color: #0087ff\">BatchNormalization</span>)            │                        │               │\n",
       "├─────────────────────────────────┼────────────────────────┼───────────────┤\n",
       "│ dropout_7 (<span style=\"color: #0087ff; text-decoration-color: #0087ff\">Dropout</span>)             │ (<span style=\"color: #00d7ff; text-decoration-color: #00d7ff\">None</span>, <span style=\"color: #00af00; text-decoration-color: #00af00\">1</span>, <span style=\"color: #00af00; text-decoration-color: #00af00\">1</span>, <span style=\"color: #00af00; text-decoration-color: #00af00\">256</span>)      │             <span style=\"color: #00af00; text-decoration-color: #00af00\">0</span> │\n",
       "├─────────────────────────────────┼────────────────────────┼───────────────┤\n",
       "│ flatten_1 (<span style=\"color: #0087ff; text-decoration-color: #0087ff\">Flatten</span>)             │ (<span style=\"color: #00d7ff; text-decoration-color: #00d7ff\">None</span>, <span style=\"color: #00af00; text-decoration-color: #00af00\">256</span>)            │             <span style=\"color: #00af00; text-decoration-color: #00af00\">0</span> │\n",
       "├─────────────────────────────────┼────────────────────────┼───────────────┤\n",
       "│ dense_3 (<span style=\"color: #0087ff; text-decoration-color: #0087ff\">Dense</span>)                 │ (<span style=\"color: #00d7ff; text-decoration-color: #00d7ff\">None</span>, <span style=\"color: #00af00; text-decoration-color: #00af00\">256</span>)            │        <span style=\"color: #00af00; text-decoration-color: #00af00\">65,792</span> │\n",
       "├─────────────────────────────────┼────────────────────────┼───────────────┤\n",
       "│ batch_normalization_14          │ (<span style=\"color: #00d7ff; text-decoration-color: #00d7ff\">None</span>, <span style=\"color: #00af00; text-decoration-color: #00af00\">256</span>)            │         <span style=\"color: #00af00; text-decoration-color: #00af00\">1,024</span> │\n",
       "│ (<span style=\"color: #0087ff; text-decoration-color: #0087ff\">BatchNormalization</span>)            │                        │               │\n",
       "├─────────────────────────────────┼────────────────────────┼───────────────┤\n",
       "│ dropout_8 (<span style=\"color: #0087ff; text-decoration-color: #0087ff\">Dropout</span>)             │ (<span style=\"color: #00d7ff; text-decoration-color: #00d7ff\">None</span>, <span style=\"color: #00af00; text-decoration-color: #00af00\">256</span>)            │             <span style=\"color: #00af00; text-decoration-color: #00af00\">0</span> │\n",
       "├─────────────────────────────────┼────────────────────────┼───────────────┤\n",
       "│ dense_4 (<span style=\"color: #0087ff; text-decoration-color: #0087ff\">Dense</span>)                 │ (<span style=\"color: #00d7ff; text-decoration-color: #00d7ff\">None</span>, <span style=\"color: #00af00; text-decoration-color: #00af00\">256</span>)            │        <span style=\"color: #00af00; text-decoration-color: #00af00\">65,792</span> │\n",
       "├─────────────────────────────────┼────────────────────────┼───────────────┤\n",
       "│ batch_normalization_15          │ (<span style=\"color: #00d7ff; text-decoration-color: #00d7ff\">None</span>, <span style=\"color: #00af00; text-decoration-color: #00af00\">256</span>)            │         <span style=\"color: #00af00; text-decoration-color: #00af00\">1,024</span> │\n",
       "│ (<span style=\"color: #0087ff; text-decoration-color: #0087ff\">BatchNormalization</span>)            │                        │               │\n",
       "├─────────────────────────────────┼────────────────────────┼───────────────┤\n",
       "│ dropout_9 (<span style=\"color: #0087ff; text-decoration-color: #0087ff\">Dropout</span>)             │ (<span style=\"color: #00d7ff; text-decoration-color: #00d7ff\">None</span>, <span style=\"color: #00af00; text-decoration-color: #00af00\">256</span>)            │             <span style=\"color: #00af00; text-decoration-color: #00af00\">0</span> │\n",
       "├─────────────────────────────────┼────────────────────────┼───────────────┤\n",
       "│ dense_5 (<span style=\"color: #0087ff; text-decoration-color: #0087ff\">Dense</span>)                 │ (<span style=\"color: #00d7ff; text-decoration-color: #00d7ff\">None</span>, <span style=\"color: #00af00; text-decoration-color: #00af00\">12</span>)             │         <span style=\"color: #00af00; text-decoration-color: #00af00\">3,084</span> │\n",
       "└─────────────────────────────────┴────────────────────────┴───────────────┘\n",
       "</pre>\n"
      ],
      "text/plain": [
       "┏━━━━━━━━━━━━━━━━━━━━━━━━━━━━━━━━━┳━━━━━━━━━━━━━━━━━━━━━━━━┳━━━━━━━━━━━━━━━┓\n",
       "┃\u001b[1m \u001b[0m\u001b[1mLayer (type)                   \u001b[0m\u001b[1m \u001b[0m┃\u001b[1m \u001b[0m\u001b[1mOutput Shape          \u001b[0m\u001b[1m \u001b[0m┃\u001b[1m \u001b[0m\u001b[1m      Param #\u001b[0m\u001b[1m \u001b[0m┃\n",
       "┡━━━━━━━━━━━━━━━━━━━━━━━━━━━━━━━━━╇━━━━━━━━━━━━━━━━━━━━━━━━╇━━━━━━━━━━━━━━━┩\n",
       "│ conv2d_6 (\u001b[38;5;33mConv2D\u001b[0m)               │ (\u001b[38;5;45mNone\u001b[0m, \u001b[38;5;34m66\u001b[0m, \u001b[38;5;34m66\u001b[0m, \u001b[38;5;34m64\u001b[0m)     │         \u001b[38;5;34m4,864\u001b[0m │\n",
       "├─────────────────────────────────┼────────────────────────┼───────────────┤\n",
       "│ batch_normalization_8           │ (\u001b[38;5;45mNone\u001b[0m, \u001b[38;5;34m66\u001b[0m, \u001b[38;5;34m66\u001b[0m, \u001b[38;5;34m64\u001b[0m)     │           \u001b[38;5;34m256\u001b[0m │\n",
       "│ (\u001b[38;5;33mBatchNormalization\u001b[0m)            │                        │               │\n",
       "├─────────────────────────────────┼────────────────────────┼───────────────┤\n",
       "│ conv2d_7 (\u001b[38;5;33mConv2D\u001b[0m)               │ (\u001b[38;5;45mNone\u001b[0m, \u001b[38;5;34m62\u001b[0m, \u001b[38;5;34m62\u001b[0m, \u001b[38;5;34m64\u001b[0m)     │       \u001b[38;5;34m102,464\u001b[0m │\n",
       "├─────────────────────────────────┼────────────────────────┼───────────────┤\n",
       "│ max_pooling2d_3 (\u001b[38;5;33mMaxPooling2D\u001b[0m)  │ (\u001b[38;5;45mNone\u001b[0m, \u001b[38;5;34m31\u001b[0m, \u001b[38;5;34m31\u001b[0m, \u001b[38;5;34m64\u001b[0m)     │             \u001b[38;5;34m0\u001b[0m │\n",
       "├─────────────────────────────────┼────────────────────────┼───────────────┤\n",
       "│ batch_normalization_9           │ (\u001b[38;5;45mNone\u001b[0m, \u001b[38;5;34m31\u001b[0m, \u001b[38;5;34m31\u001b[0m, \u001b[38;5;34m64\u001b[0m)     │           \u001b[38;5;34m256\u001b[0m │\n",
       "│ (\u001b[38;5;33mBatchNormalization\u001b[0m)            │                        │               │\n",
       "├─────────────────────────────────┼────────────────────────┼───────────────┤\n",
       "│ dropout_5 (\u001b[38;5;33mDropout\u001b[0m)             │ (\u001b[38;5;45mNone\u001b[0m, \u001b[38;5;34m31\u001b[0m, \u001b[38;5;34m31\u001b[0m, \u001b[38;5;34m64\u001b[0m)     │             \u001b[38;5;34m0\u001b[0m │\n",
       "├─────────────────────────────────┼────────────────────────┼───────────────┤\n",
       "│ conv2d_8 (\u001b[38;5;33mConv2D\u001b[0m)               │ (\u001b[38;5;45mNone\u001b[0m, \u001b[38;5;34m27\u001b[0m, \u001b[38;5;34m27\u001b[0m, \u001b[38;5;34m128\u001b[0m)    │       \u001b[38;5;34m204,928\u001b[0m │\n",
       "├─────────────────────────────────┼────────────────────────┼───────────────┤\n",
       "│ batch_normalization_10          │ (\u001b[38;5;45mNone\u001b[0m, \u001b[38;5;34m27\u001b[0m, \u001b[38;5;34m27\u001b[0m, \u001b[38;5;34m128\u001b[0m)    │           \u001b[38;5;34m512\u001b[0m │\n",
       "│ (\u001b[38;5;33mBatchNormalization\u001b[0m)            │                        │               │\n",
       "├─────────────────────────────────┼────────────────────────┼───────────────┤\n",
       "│ conv2d_9 (\u001b[38;5;33mConv2D\u001b[0m)               │ (\u001b[38;5;45mNone\u001b[0m, \u001b[38;5;34m23\u001b[0m, \u001b[38;5;34m23\u001b[0m, \u001b[38;5;34m128\u001b[0m)    │       \u001b[38;5;34m409,728\u001b[0m │\n",
       "├─────────────────────────────────┼────────────────────────┼───────────────┤\n",
       "│ max_pooling2d_4 (\u001b[38;5;33mMaxPooling2D\u001b[0m)  │ (\u001b[38;5;45mNone\u001b[0m, \u001b[38;5;34m11\u001b[0m, \u001b[38;5;34m11\u001b[0m, \u001b[38;5;34m128\u001b[0m)    │             \u001b[38;5;34m0\u001b[0m │\n",
       "├─────────────────────────────────┼────────────────────────┼───────────────┤\n",
       "│ batch_normalization_11          │ (\u001b[38;5;45mNone\u001b[0m, \u001b[38;5;34m11\u001b[0m, \u001b[38;5;34m11\u001b[0m, \u001b[38;5;34m128\u001b[0m)    │           \u001b[38;5;34m512\u001b[0m │\n",
       "│ (\u001b[38;5;33mBatchNormalization\u001b[0m)            │                        │               │\n",
       "├─────────────────────────────────┼────────────────────────┼───────────────┤\n",
       "│ dropout_6 (\u001b[38;5;33mDropout\u001b[0m)             │ (\u001b[38;5;45mNone\u001b[0m, \u001b[38;5;34m11\u001b[0m, \u001b[38;5;34m11\u001b[0m, \u001b[38;5;34m128\u001b[0m)    │             \u001b[38;5;34m0\u001b[0m │\n",
       "├─────────────────────────────────┼────────────────────────┼───────────────┤\n",
       "│ conv2d_10 (\u001b[38;5;33mConv2D\u001b[0m)              │ (\u001b[38;5;45mNone\u001b[0m, \u001b[38;5;34m7\u001b[0m, \u001b[38;5;34m7\u001b[0m, \u001b[38;5;34m256\u001b[0m)      │       \u001b[38;5;34m819,456\u001b[0m │\n",
       "├─────────────────────────────────┼────────────────────────┼───────────────┤\n",
       "│ batch_normalization_12          │ (\u001b[38;5;45mNone\u001b[0m, \u001b[38;5;34m7\u001b[0m, \u001b[38;5;34m7\u001b[0m, \u001b[38;5;34m256\u001b[0m)      │         \u001b[38;5;34m1,024\u001b[0m │\n",
       "│ (\u001b[38;5;33mBatchNormalization\u001b[0m)            │                        │               │\n",
       "├─────────────────────────────────┼────────────────────────┼───────────────┤\n",
       "│ conv2d_11 (\u001b[38;5;33mConv2D\u001b[0m)              │ (\u001b[38;5;45mNone\u001b[0m, \u001b[38;5;34m3\u001b[0m, \u001b[38;5;34m3\u001b[0m, \u001b[38;5;34m256\u001b[0m)      │     \u001b[38;5;34m1,638,656\u001b[0m │\n",
       "├─────────────────────────────────┼────────────────────────┼───────────────┤\n",
       "│ max_pooling2d_5 (\u001b[38;5;33mMaxPooling2D\u001b[0m)  │ (\u001b[38;5;45mNone\u001b[0m, \u001b[38;5;34m1\u001b[0m, \u001b[38;5;34m1\u001b[0m, \u001b[38;5;34m256\u001b[0m)      │             \u001b[38;5;34m0\u001b[0m │\n",
       "├─────────────────────────────────┼────────────────────────┼───────────────┤\n",
       "│ batch_normalization_13          │ (\u001b[38;5;45mNone\u001b[0m, \u001b[38;5;34m1\u001b[0m, \u001b[38;5;34m1\u001b[0m, \u001b[38;5;34m256\u001b[0m)      │         \u001b[38;5;34m1,024\u001b[0m │\n",
       "│ (\u001b[38;5;33mBatchNormalization\u001b[0m)            │                        │               │\n",
       "├─────────────────────────────────┼────────────────────────┼───────────────┤\n",
       "│ dropout_7 (\u001b[38;5;33mDropout\u001b[0m)             │ (\u001b[38;5;45mNone\u001b[0m, \u001b[38;5;34m1\u001b[0m, \u001b[38;5;34m1\u001b[0m, \u001b[38;5;34m256\u001b[0m)      │             \u001b[38;5;34m0\u001b[0m │\n",
       "├─────────────────────────────────┼────────────────────────┼───────────────┤\n",
       "│ flatten_1 (\u001b[38;5;33mFlatten\u001b[0m)             │ (\u001b[38;5;45mNone\u001b[0m, \u001b[38;5;34m256\u001b[0m)            │             \u001b[38;5;34m0\u001b[0m │\n",
       "├─────────────────────────────────┼────────────────────────┼───────────────┤\n",
       "│ dense_3 (\u001b[38;5;33mDense\u001b[0m)                 │ (\u001b[38;5;45mNone\u001b[0m, \u001b[38;5;34m256\u001b[0m)            │        \u001b[38;5;34m65,792\u001b[0m │\n",
       "├─────────────────────────────────┼────────────────────────┼───────────────┤\n",
       "│ batch_normalization_14          │ (\u001b[38;5;45mNone\u001b[0m, \u001b[38;5;34m256\u001b[0m)            │         \u001b[38;5;34m1,024\u001b[0m │\n",
       "│ (\u001b[38;5;33mBatchNormalization\u001b[0m)            │                        │               │\n",
       "├─────────────────────────────────┼────────────────────────┼───────────────┤\n",
       "│ dropout_8 (\u001b[38;5;33mDropout\u001b[0m)             │ (\u001b[38;5;45mNone\u001b[0m, \u001b[38;5;34m256\u001b[0m)            │             \u001b[38;5;34m0\u001b[0m │\n",
       "├─────────────────────────────────┼────────────────────────┼───────────────┤\n",
       "│ dense_4 (\u001b[38;5;33mDense\u001b[0m)                 │ (\u001b[38;5;45mNone\u001b[0m, \u001b[38;5;34m256\u001b[0m)            │        \u001b[38;5;34m65,792\u001b[0m │\n",
       "├─────────────────────────────────┼────────────────────────┼───────────────┤\n",
       "│ batch_normalization_15          │ (\u001b[38;5;45mNone\u001b[0m, \u001b[38;5;34m256\u001b[0m)            │         \u001b[38;5;34m1,024\u001b[0m │\n",
       "│ (\u001b[38;5;33mBatchNormalization\u001b[0m)            │                        │               │\n",
       "├─────────────────────────────────┼────────────────────────┼───────────────┤\n",
       "│ dropout_9 (\u001b[38;5;33mDropout\u001b[0m)             │ (\u001b[38;5;45mNone\u001b[0m, \u001b[38;5;34m256\u001b[0m)            │             \u001b[38;5;34m0\u001b[0m │\n",
       "├─────────────────────────────────┼────────────────────────┼───────────────┤\n",
       "│ dense_5 (\u001b[38;5;33mDense\u001b[0m)                 │ (\u001b[38;5;45mNone\u001b[0m, \u001b[38;5;34m12\u001b[0m)             │         \u001b[38;5;34m3,084\u001b[0m │\n",
       "└─────────────────────────────────┴────────────────────────┴───────────────┘\n"
      ]
     },
     "metadata": {},
     "output_type": "display_data"
    },
    {
     "data": {
      "text/html": [
       "<pre style=\"white-space:pre;overflow-x:auto;line-height:normal;font-family:Menlo,'DejaVu Sans Mono',consolas,'Courier New',monospace\"><span style=\"font-weight: bold\"> Total params: </span><span style=\"color: #00af00; text-decoration-color: #00af00\">3,320,396</span> (12.67 MB)\n",
       "</pre>\n"
      ],
      "text/plain": [
       "\u001b[1m Total params: \u001b[0m\u001b[38;5;34m3,320,396\u001b[0m (12.67 MB)\n"
      ]
     },
     "metadata": {},
     "output_type": "display_data"
    },
    {
     "data": {
      "text/html": [
       "<pre style=\"white-space:pre;overflow-x:auto;line-height:normal;font-family:Menlo,'DejaVu Sans Mono',consolas,'Courier New',monospace\"><span style=\"font-weight: bold\"> Trainable params: </span><span style=\"color: #00af00; text-decoration-color: #00af00\">3,317,580</span> (12.66 MB)\n",
       "</pre>\n"
      ],
      "text/plain": [
       "\u001b[1m Trainable params: \u001b[0m\u001b[38;5;34m3,317,580\u001b[0m (12.66 MB)\n"
      ]
     },
     "metadata": {},
     "output_type": "display_data"
    },
    {
     "data": {
      "text/html": [
       "<pre style=\"white-space:pre;overflow-x:auto;line-height:normal;font-family:Menlo,'DejaVu Sans Mono',consolas,'Courier New',monospace\"><span style=\"font-weight: bold\"> Non-trainable params: </span><span style=\"color: #00af00; text-decoration-color: #00af00\">2,816</span> (11.00 KB)\n",
       "</pre>\n"
      ],
      "text/plain": [
       "\u001b[1m Non-trainable params: \u001b[0m\u001b[38;5;34m2,816\u001b[0m (11.00 KB)\n"
      ]
     },
     "metadata": {},
     "output_type": "display_data"
    }
   ],
   "source": [
    "ScaleTo = 70\n",
    "nb_classes = 12\n",
    "# #create a graph\n",
    "# model = Sequential()\n",
    "# model.add(tf.keras.layers.Conv2D(filters=64,kernel_size = (3,3),input_shape=(ScaleTo,ScaleTo,3),activation=\"relu\")) #for the kernel size 3*3 we get the information\n",
    "# ''' \n",
    "# BatchNormalization normalize the inputs of a neural network layer. \n",
    "# This helps stabilize the learning process and reduces the number of training epochs required to train deep networks.\n",
    "# '''\n",
    "# model.add(tf.keras.layers.BatchNormalization(axis=3)) #normalizing the input image data features\n",
    "# model.add(tf.keras.layers.Conv2D(filters=32,kernel_size = (3,3),activation=\"relu\")) #for the kerel 3*3\n",
    "# model.add(tf.keras.layers.MaxPool2D(pool_size=(3,3))) #Getting the maximum out of that kernel size\n",
    "# model.add(tf.keras.layers.BatchNormalization(axis=3)) #BatchNormaling the input data\n",
    "# model.add(tf.keras.layers.Dropout(0.1))\n",
    "\n",
    "\n",
    "# model.add(tf.keras.layers.Conv2D(32,kernel_size = (3,3),activation=\"relu\"))\n",
    "# model.add(tf.keras.layers.MaxPool2D(pool_size=(3,3)))\n",
    "# model.add(tf.keras.layers.BatchNormalization(axis=3)) #axis=3: This parameter specifies the axis that should be normalized.\n",
    "# model.add(tf.keras.layers.Dropout(0.1))\n",
    "\n",
    "# model.add(tf.keras.layers.Conv2D(32,kernel_size = (3,3),activation=\"relu\"))\n",
    "# model.add(tf.keras.layers.MaxPool2D(pool_size=(3,3)))\n",
    "# model.add(tf.keras.layers.BatchNormalization(axis=3))\n",
    "# model.add(tf.keras.layers.Dropout(0.1))\n",
    "\n",
    "\n",
    "# model.add(tf.keras.layers.Flatten())\n",
    "# model.add(tf.keras.layers.Dense(64,activation=\"relu\"))\n",
    "# model.add(tf.keras.layers.Dense(126,activation=\"relu\"))\n",
    "# model.add(tf.keras.layers.Dropout(0.15))\n",
    "# model.add(tf.keras.layers.Dense(13,activation=\"softmax\"))\n",
    "\n",
    "# model.compile(optimizer=\"adam\",loss=\"categorical_crossentropy\",metrics=[\"accuracy\"])\n",
    "# callbacks = tf.keras.callbacks.EarlyStopping(monitor=\"loss\",mode=\"min\",patience=2)\n",
    "\n",
    "model = Sequential()\n",
    "model.add(Conv2D(filters=64,kernel_size=(5,5),input_shape=(ScaleTo,ScaleTo,3),activation='relu'))\n",
    "model.add(BatchNormalization(axis=3))\n",
    "model.add(Conv2D(filters=64,kernel_size=(5,5),activation='relu'))\n",
    "model.add(MaxPooling2D(pool_size=(2,2)))\n",
    "model.add(BatchNormalization(axis=(3)))\n",
    "model.add(Dropout(0.1))\n",
    "\n",
    "model.add(Conv2D(filters=128,kernel_size=(5,5),activation='relu'))\n",
    "model.add(BatchNormalization(axis=3))\n",
    "model.add(Conv2D(filters=128,kernel_size=(5,5),activation='relu'))\n",
    "model.add(MaxPooling2D((2,2)))\n",
    "model.add(BatchNormalization(axis=3))\n",
    "model.add(Dropout(0.1))\n",
    "\n",
    "model.add(Conv2D(filters=256,kernel_size=(5,5),activation='relu'))\n",
    "model.add(BatchNormalization(axis=3))\n",
    "model.add(Conv2D(filters=256,kernel_size=(5,5),activation='relu'))\n",
    "model.add(MaxPooling2D((2,2)))\n",
    "model.add(BatchNormalization(axis=3))\n",
    "model.add((Dropout(0.1)))\n",
    "\n",
    "model.add(Flatten())\n",
    "\n",
    "model.add(Dense(256,activation='relu'))\n",
    "model.add(BatchNormalization())\n",
    "model.add(Dropout(0.5))\n",
    "\n",
    "model.add(Dense(256,activation='relu'))\n",
    "model.add(BatchNormalization())\n",
    "model.add(Dropout(0.5))\n",
    "\n",
    "model.add(Dense(nb_classes,activation='softmax'))\n",
    "\n",
    "model.summary()"
   ]
  },
  {
   "cell_type": "code",
   "execution_count": 32,
   "metadata": {},
   "outputs": [],
   "source": [
    "model.compile(loss='categorical_crossentropy',metrics=['accuracy'],optimizer='adam')"
   ]
  },
  {
   "cell_type": "code",
   "execution_count": 33,
   "metadata": {},
   "outputs": [],
   "source": [
    "checkpoint = ModelCheckpoint(\"model_weights.keras\",monitor='val_accuracy',verbose=1,\n",
    "                             save_best_only=True,mode=\"max\")\n",
    "callbacks_list = [checkpoint]"
   ]
  },
  {
   "cell_type": "code",
   "execution_count": 34,
   "metadata": {},
   "outputs": [],
   "source": [
    "datagen = tf.keras.preprocessing.image.ImageDataGenerator(featurewise_center=True,\n",
    "    featurewise_std_normalization=True,\n",
    "    rotation_range=180,\n",
    "    width_shift_range=0.1,\n",
    "    height_shift_range=0.1,\n",
    "    horizontal_flip=True,\n",
    "    validation_split=0.2)"
   ]
  },
  {
   "cell_type": "code",
   "execution_count": 35,
   "metadata": {},
   "outputs": [],
   "source": [
    "#batch size represents the number of traning examples used in one iteration\n",
    "train_generator = datagen.flow(x_train,y_train,batch_size=32,shuffle=True,seed=42)\n",
    "Validation_generator = datagen.flow(x_test,y_test,batch_size=32,shuffle=True,seed=42)"
   ]
  },
  {
   "cell_type": "code",
   "execution_count": 45,
   "metadata": {},
   "outputs": [
    {
     "name": "stderr",
     "output_type": "stream",
     "text": [
      "c:\\Users\\Avinash\\Desktop\\Resume_Projects\\multiple_object_detection\\cropenv\\Lib\\site-packages\\keras\\src\\legacy\\preprocessing\\image.py:1263: UserWarning: This ImageDataGenerator specifies `featurewise_center`, but it hasn't been fit on any training data. Fit it first by calling `.fit(numpy_data)`.\n",
      "  warnings.warn(\n",
      "c:\\Users\\Avinash\\Desktop\\Resume_Projects\\multiple_object_detection\\cropenv\\Lib\\site-packages\\keras\\src\\legacy\\preprocessing\\image.py:1273: UserWarning: This ImageDataGenerator specifies `featurewise_std_normalization`, but it hasn't been fit on any training data. Fit it first by calling `.fit(numpy_data)`.\n",
      "  warnings.warn(\n"
     ]
    },
    {
     "name": "stdout",
     "output_type": "stream",
     "text": [
      "Epoch 1/40\n",
      "\u001b[1m15/15\u001b[0m \u001b[32m━━━━━━━━━━━━━━━━━━━━\u001b[0m\u001b[37m\u001b[0m \u001b[1m0s\u001b[0m 1s/step - accuracy: 0.4258 - loss: 1.6841\n",
      "Epoch 1: val_accuracy did not improve from 0.35000\n",
      "\u001b[1m15/15\u001b[0m \u001b[32m━━━━━━━━━━━━━━━━━━━━\u001b[0m\u001b[37m\u001b[0m \u001b[1m25s\u001b[0m 2s/step - accuracy: 0.4258 - loss: 1.6843 - val_accuracy: 0.2667 - val_loss: 4.3348\n",
      "Epoch 2/40\n",
      "\u001b[1m15/15\u001b[0m \u001b[32m━━━━━━━━━━━━━━━━━━━━\u001b[0m\u001b[37m\u001b[0m \u001b[1m0s\u001b[0m 2s/step - accuracy: 0.4717 - loss: 1.5510\n",
      "Epoch 2: val_accuracy improved from 0.35000 to 0.56667, saving model to model_weights.keras\n",
      "\u001b[1m15/15\u001b[0m \u001b[32m━━━━━━━━━━━━━━━━━━━━\u001b[0m\u001b[37m\u001b[0m \u001b[1m29s\u001b[0m 2s/step - accuracy: 0.4729 - loss: 1.5493 - val_accuracy: 0.5667 - val_loss: 1.4682\n",
      "Epoch 3/40\n",
      "\u001b[1m15/15\u001b[0m \u001b[32m━━━━━━━━━━━━━━━━━━━━\u001b[0m\u001b[37m\u001b[0m \u001b[1m0s\u001b[0m 2s/step - accuracy: 0.4317 - loss: 1.7918\n",
      "Epoch 3: val_accuracy did not improve from 0.56667\n",
      "\u001b[1m15/15\u001b[0m \u001b[32m━━━━━━━━━━━━━━━━━━━━\u001b[0m\u001b[37m\u001b[0m \u001b[1m26s\u001b[0m 2s/step - accuracy: 0.4318 - loss: 1.7871 - val_accuracy: 0.1083 - val_loss: 5.7616\n",
      "Epoch 4/40\n",
      "\u001b[1m15/15\u001b[0m \u001b[32m━━━━━━━━━━━━━━━━━━━━\u001b[0m\u001b[37m\u001b[0m \u001b[1m0s\u001b[0m 1s/step - accuracy: 0.4314 - loss: 1.6714\n",
      "Epoch 4: val_accuracy did not improve from 0.56667\n",
      "\u001b[1m15/15\u001b[0m \u001b[32m━━━━━━━━━━━━━━━━━━━━\u001b[0m\u001b[37m\u001b[0m \u001b[1m23s\u001b[0m 2s/step - accuracy: 0.4311 - loss: 1.6727 - val_accuracy: 0.3000 - val_loss: 2.7183\n",
      "Epoch 5/40\n",
      "\u001b[1m15/15\u001b[0m \u001b[32m━━━━━━━━━━━━━━━━━━━━\u001b[0m\u001b[37m\u001b[0m \u001b[1m0s\u001b[0m 1s/step - accuracy: 0.4736 - loss: 1.6563\n",
      "Epoch 5: val_accuracy did not improve from 0.56667\n",
      "\u001b[1m15/15\u001b[0m \u001b[32m━━━━━━━━━━━━━━━━━━━━\u001b[0m\u001b[37m\u001b[0m \u001b[1m22s\u001b[0m 1s/step - accuracy: 0.4729 - loss: 1.6572 - val_accuracy: 0.4333 - val_loss: 2.2507\n",
      "Epoch 6/40\n",
      "\u001b[1m15/15\u001b[0m \u001b[32m━━━━━━━━━━━━━━━━━━━━\u001b[0m\u001b[37m\u001b[0m \u001b[1m0s\u001b[0m 1s/step - accuracy: 0.4479 - loss: 1.5403\n",
      "Epoch 6: val_accuracy did not improve from 0.56667\n",
      "\u001b[1m15/15\u001b[0m \u001b[32m━━━━━━━━━━━━━━━━━━━━\u001b[0m\u001b[37m\u001b[0m \u001b[1m21s\u001b[0m 1s/step - accuracy: 0.4480 - loss: 1.5408 - val_accuracy: 0.4583 - val_loss: 1.7616\n",
      "Epoch 7/40\n",
      "\u001b[1m15/15\u001b[0m \u001b[32m━━━━━━━━━━━━━━━━━━━━\u001b[0m\u001b[37m\u001b[0m \u001b[1m0s\u001b[0m 1s/step - accuracy: 0.5078 - loss: 1.4901\n",
      "Epoch 7: val_accuracy did not improve from 0.56667\n",
      "\u001b[1m15/15\u001b[0m \u001b[32m━━━━━━━━━━━━━━━━━━━━\u001b[0m\u001b[37m\u001b[0m \u001b[1m21s\u001b[0m 1s/step - accuracy: 0.5076 - loss: 1.4888 - val_accuracy: 0.4583 - val_loss: 1.9171\n",
      "Epoch 8/40\n",
      "\u001b[1m15/15\u001b[0m \u001b[32m━━━━━━━━━━━━━━━━━━━━\u001b[0m\u001b[37m\u001b[0m \u001b[1m0s\u001b[0m 1s/step - accuracy: 0.4624 - loss: 1.5140\n",
      "Epoch 8: val_accuracy did not improve from 0.56667\n",
      "\u001b[1m15/15\u001b[0m \u001b[32m━━━━━━━━━━━━━━━━━━━━\u001b[0m\u001b[37m\u001b[0m \u001b[1m21s\u001b[0m 1s/step - accuracy: 0.4617 - loss: 1.5147 - val_accuracy: 0.3250 - val_loss: 3.6778\n",
      "Epoch 9/40\n",
      "\u001b[1m15/15\u001b[0m \u001b[32m━━━━━━━━━━━━━━━━━━━━\u001b[0m\u001b[37m\u001b[0m \u001b[1m0s\u001b[0m 1s/step - accuracy: 0.5208 - loss: 1.3667\n",
      "Epoch 9: val_accuracy did not improve from 0.56667\n",
      "\u001b[1m15/15\u001b[0m \u001b[32m━━━━━━━━━━━━━━━━━━━━\u001b[0m\u001b[37m\u001b[0m \u001b[1m22s\u001b[0m 1s/step - accuracy: 0.5190 - loss: 1.3746 - val_accuracy: 0.3667 - val_loss: 2.1605\n",
      "Epoch 10/40\n",
      "\u001b[1m15/15\u001b[0m \u001b[32m━━━━━━━━━━━━━━━━━━━━\u001b[0m\u001b[37m\u001b[0m \u001b[1m0s\u001b[0m 1s/step - accuracy: 0.4931 - loss: 1.4492\n",
      "Epoch 10: val_accuracy did not improve from 0.56667\n",
      "\u001b[1m15/15\u001b[0m \u001b[32m━━━━━━━━━━━━━━━━━━━━\u001b[0m\u001b[37m\u001b[0m \u001b[1m21s\u001b[0m 1s/step - accuracy: 0.4940 - loss: 1.4488 - val_accuracy: 0.3500 - val_loss: 2.5696\n",
      "Epoch 11/40\n",
      "\u001b[1m15/15\u001b[0m \u001b[32m━━━━━━━━━━━━━━━━━━━━\u001b[0m\u001b[37m\u001b[0m \u001b[1m0s\u001b[0m 1s/step - accuracy: 0.4629 - loss: 1.3837\n",
      "Epoch 11: val_accuracy did not improve from 0.56667\n",
      "\u001b[1m15/15\u001b[0m \u001b[32m━━━━━━━━━━━━━━━━━━━━\u001b[0m\u001b[37m\u001b[0m \u001b[1m24s\u001b[0m 2s/step - accuracy: 0.4639 - loss: 1.3824 - val_accuracy: 0.2083 - val_loss: 2.8943\n",
      "Epoch 12/40\n",
      "\u001b[1m15/15\u001b[0m \u001b[32m━━━━━━━━━━━━━━━━━━━━\u001b[0m\u001b[37m\u001b[0m \u001b[1m0s\u001b[0m 2s/step - accuracy: 0.5895 - loss: 1.2381\n",
      "Epoch 12: val_accuracy did not improve from 0.56667\n",
      "\u001b[1m15/15\u001b[0m \u001b[32m━━━━━━━━━━━━━━━━━━━━\u001b[0m\u001b[37m\u001b[0m \u001b[1m25s\u001b[0m 2s/step - accuracy: 0.5871 - loss: 1.2437 - val_accuracy: 0.3583 - val_loss: 2.1560\n",
      "Epoch 13/40\n",
      "\u001b[1m15/15\u001b[0m \u001b[32m━━━━━━━━━━━━━━━━━━━━\u001b[0m\u001b[37m\u001b[0m \u001b[1m0s\u001b[0m 2s/step - accuracy: 0.5489 - loss: 1.2462\n",
      "Epoch 13: val_accuracy did not improve from 0.56667\n",
      "\u001b[1m15/15\u001b[0m \u001b[32m━━━━━━━━━━━━━━━━━━━━\u001b[0m\u001b[37m\u001b[0m \u001b[1m28s\u001b[0m 2s/step - accuracy: 0.5482 - loss: 1.2518 - val_accuracy: 0.4917 - val_loss: 2.1017\n",
      "Epoch 14/40\n",
      "\u001b[1m15/15\u001b[0m \u001b[32m━━━━━━━━━━━━━━━━━━━━\u001b[0m\u001b[37m\u001b[0m \u001b[1m0s\u001b[0m 2s/step - accuracy: 0.4513 - loss: 1.4668\n",
      "Epoch 14: val_accuracy did not improve from 0.56667\n",
      "\u001b[1m15/15\u001b[0m \u001b[32m━━━━━━━━━━━━━━━━━━━━\u001b[0m\u001b[37m\u001b[0m \u001b[1m26s\u001b[0m 2s/step - accuracy: 0.4538 - loss: 1.4606 - val_accuracy: 0.4917 - val_loss: 1.5749\n",
      "Epoch 15/40\n",
      "\u001b[1m15/15\u001b[0m \u001b[32m━━━━━━━━━━━━━━━━━━━━\u001b[0m\u001b[37m\u001b[0m \u001b[1m0s\u001b[0m 1s/step - accuracy: 0.5739 - loss: 1.3055\n",
      "Epoch 15: val_accuracy did not improve from 0.56667\n",
      "\u001b[1m15/15\u001b[0m \u001b[32m━━━━━━━━━━━━━━━━━━━━\u001b[0m\u001b[37m\u001b[0m \u001b[1m24s\u001b[0m 2s/step - accuracy: 0.5732 - loss: 1.3025 - val_accuracy: 0.4750 - val_loss: 1.7410\n",
      "Epoch 16/40\n",
      "\u001b[1m15/15\u001b[0m \u001b[32m━━━━━━━━━━━━━━━━━━━━\u001b[0m\u001b[37m\u001b[0m \u001b[1m0s\u001b[0m 1s/step - accuracy: 0.5312 - loss: 1.2763\n",
      "Epoch 16: val_accuracy did not improve from 0.56667\n",
      "\u001b[1m15/15\u001b[0m \u001b[32m━━━━━━━━━━━━━━━━━━━━\u001b[0m\u001b[37m\u001b[0m \u001b[1m23s\u001b[0m 2s/step - accuracy: 0.5320 - loss: 1.2771 - val_accuracy: 0.4083 - val_loss: 1.8914\n",
      "Epoch 17/40\n",
      "\u001b[1m15/15\u001b[0m \u001b[32m━━━━━━━━━━━━━━━━━━━━\u001b[0m\u001b[37m\u001b[0m \u001b[1m0s\u001b[0m 1s/step - accuracy: 0.5343 - loss: 1.3693\n",
      "Epoch 17: val_accuracy did not improve from 0.56667\n",
      "\u001b[1m15/15\u001b[0m \u001b[32m━━━━━━━━━━━━━━━━━━━━\u001b[0m\u001b[37m\u001b[0m \u001b[1m21s\u001b[0m 1s/step - accuracy: 0.5345 - loss: 1.3659 - val_accuracy: 0.2917 - val_loss: 2.3834\n",
      "Epoch 18/40\n",
      "\u001b[1m15/15\u001b[0m \u001b[32m━━━━━━━━━━━━━━━━━━━━\u001b[0m\u001b[37m\u001b[0m \u001b[1m0s\u001b[0m 1s/step - accuracy: 0.5179 - loss: 1.3711\n",
      "Epoch 18: val_accuracy did not improve from 0.56667\n",
      "\u001b[1m15/15\u001b[0m \u001b[32m━━━━━━━━━━━━━━━━━━━━\u001b[0m\u001b[37m\u001b[0m \u001b[1m21s\u001b[0m 1s/step - accuracy: 0.5185 - loss: 1.3679 - val_accuracy: 0.4500 - val_loss: 2.0138\n",
      "Epoch 19/40\n",
      "\u001b[1m15/15\u001b[0m \u001b[32m━━━━━━━━━━━━━━━━━━━━\u001b[0m\u001b[37m\u001b[0m \u001b[1m0s\u001b[0m 1s/step - accuracy: 0.5502 - loss: 1.3360\n",
      "Epoch 19: val_accuracy did not improve from 0.56667\n",
      "\u001b[1m15/15\u001b[0m \u001b[32m━━━━━━━━━━━━━━━━━━━━\u001b[0m\u001b[37m\u001b[0m \u001b[1m21s\u001b[0m 1s/step - accuracy: 0.5484 - loss: 1.3381 - val_accuracy: 0.4833 - val_loss: 2.2780\n",
      "Epoch 20/40\n",
      "\u001b[1m15/15\u001b[0m \u001b[32m━━━━━━━━━━━━━━━━━━━━\u001b[0m\u001b[37m\u001b[0m \u001b[1m0s\u001b[0m 1s/step - accuracy: 0.5507 - loss: 1.2755\n",
      "Epoch 20: val_accuracy did not improve from 0.56667\n",
      "\u001b[1m15/15\u001b[0m \u001b[32m━━━━━━━━━━━━━━━━━━━━\u001b[0m\u001b[37m\u001b[0m \u001b[1m22s\u001b[0m 1s/step - accuracy: 0.5504 - loss: 1.2790 - val_accuracy: 0.5000 - val_loss: 2.0872\n",
      "Epoch 21/40\n",
      "\u001b[1m15/15\u001b[0m \u001b[32m━━━━━━━━━━━━━━━━━━━━\u001b[0m\u001b[37m\u001b[0m \u001b[1m0s\u001b[0m 1s/step - accuracy: 0.5360 - loss: 1.2943\n",
      "Epoch 21: val_accuracy did not improve from 0.56667\n",
      "\u001b[1m15/15\u001b[0m \u001b[32m━━━━━━━━━━━━━━━━━━━━\u001b[0m\u001b[37m\u001b[0m \u001b[1m21s\u001b[0m 1s/step - accuracy: 0.5394 - loss: 1.2865 - val_accuracy: 0.2250 - val_loss: 2.6453\n",
      "Epoch 22/40\n",
      "\u001b[1m15/15\u001b[0m \u001b[32m━━━━━━━━━━━━━━━━━━━━\u001b[0m\u001b[37m\u001b[0m \u001b[1m0s\u001b[0m 1s/step - accuracy: 0.5757 - loss: 1.0983\n",
      "Epoch 22: val_accuracy did not improve from 0.56667\n",
      "\u001b[1m15/15\u001b[0m \u001b[32m━━━━━━━━━━━━━━━━━━━━\u001b[0m\u001b[37m\u001b[0m \u001b[1m22s\u001b[0m 1s/step - accuracy: 0.5760 - loss: 1.1015 - val_accuracy: 0.5250 - val_loss: 1.5211\n",
      "Epoch 23/40\n",
      "\u001b[1m15/15\u001b[0m \u001b[32m━━━━━━━━━━━━━━━━━━━━\u001b[0m\u001b[37m\u001b[0m \u001b[1m0s\u001b[0m 1s/step - accuracy: 0.5520 - loss: 1.2293\n",
      "Epoch 23: val_accuracy improved from 0.56667 to 0.57500, saving model to model_weights.keras\n",
      "\u001b[1m15/15\u001b[0m \u001b[32m━━━━━━━━━━━━━━━━━━━━\u001b[0m\u001b[37m\u001b[0m \u001b[1m22s\u001b[0m 1s/step - accuracy: 0.5519 - loss: 1.2278 - val_accuracy: 0.5750 - val_loss: 1.2759\n",
      "Epoch 24/40\n",
      "\u001b[1m15/15\u001b[0m \u001b[32m━━━━━━━━━━━━━━━━━━━━\u001b[0m\u001b[37m\u001b[0m \u001b[1m0s\u001b[0m 1s/step - accuracy: 0.6500 - loss: 1.0934\n",
      "Epoch 24: val_accuracy did not improve from 0.57500\n",
      "\u001b[1m15/15\u001b[0m \u001b[32m━━━━━━━━━━━━━━━━━━━━\u001b[0m\u001b[37m\u001b[0m \u001b[1m22s\u001b[0m 1s/step - accuracy: 0.6484 - loss: 1.0956 - val_accuracy: 0.3583 - val_loss: 3.2898\n",
      "Epoch 25/40\n",
      "\u001b[1m15/15\u001b[0m \u001b[32m━━━━━━━━━━━━━━━━━━━━\u001b[0m\u001b[37m\u001b[0m \u001b[1m0s\u001b[0m 1s/step - accuracy: 0.5832 - loss: 1.1926\n",
      "Epoch 25: val_accuracy did not improve from 0.57500\n",
      "\u001b[1m15/15\u001b[0m \u001b[32m━━━━━━━━━━━━━━━━━━━━\u001b[0m\u001b[37m\u001b[0m \u001b[1m22s\u001b[0m 1s/step - accuracy: 0.5829 - loss: 1.1929 - val_accuracy: 0.2167 - val_loss: 3.3589\n",
      "Epoch 26/40\n",
      "\u001b[1m15/15\u001b[0m \u001b[32m━━━━━━━━━━━━━━━━━━━━\u001b[0m\u001b[37m\u001b[0m \u001b[1m0s\u001b[0m 1s/step - accuracy: 0.5754 - loss: 1.1671\n",
      "Epoch 26: val_accuracy improved from 0.57500 to 0.58333, saving model to model_weights.keras\n",
      "\u001b[1m15/15\u001b[0m \u001b[32m━━━━━━━━━━━━━━━━━━━━\u001b[0m\u001b[37m\u001b[0m \u001b[1m22s\u001b[0m 1s/step - accuracy: 0.5770 - loss: 1.1645 - val_accuracy: 0.5833 - val_loss: 1.1907\n",
      "Epoch 27/40\n",
      "\u001b[1m15/15\u001b[0m \u001b[32m━━━━━━━━━━━━━━━━━━━━\u001b[0m\u001b[37m\u001b[0m \u001b[1m0s\u001b[0m 1s/step - accuracy: 0.6237 - loss: 1.0183\n",
      "Epoch 27: val_accuracy did not improve from 0.58333\n",
      "\u001b[1m15/15\u001b[0m \u001b[32m━━━━━━━━━━━━━━━━━━━━\u001b[0m\u001b[37m\u001b[0m \u001b[1m22s\u001b[0m 1s/step - accuracy: 0.6246 - loss: 1.0174 - val_accuracy: 0.5583 - val_loss: 1.2489\n",
      "Epoch 28/40\n",
      "\u001b[1m15/15\u001b[0m \u001b[32m━━━━━━━━━━━━━━━━━━━━\u001b[0m\u001b[37m\u001b[0m \u001b[1m0s\u001b[0m 1s/step - accuracy: 0.6353 - loss: 1.0130\n",
      "Epoch 28: val_accuracy did not improve from 0.58333\n",
      "\u001b[1m15/15\u001b[0m \u001b[32m━━━━━━━━━━━━━━━━━━━━\u001b[0m\u001b[37m\u001b[0m \u001b[1m22s\u001b[0m 1s/step - accuracy: 0.6360 - loss: 1.0120 - val_accuracy: 0.4500 - val_loss: 2.1464\n",
      "Epoch 29/40\n",
      "\u001b[1m15/15\u001b[0m \u001b[32m━━━━━━━━━━━━━━━━━━━━\u001b[0m\u001b[37m\u001b[0m \u001b[1m0s\u001b[0m 1s/step - accuracy: 0.6270 - loss: 1.0794\n",
      "Epoch 29: val_accuracy did not improve from 0.58333\n",
      "\u001b[1m15/15\u001b[0m \u001b[32m━━━━━━━━━━━━━━━━━━━━\u001b[0m\u001b[37m\u001b[0m \u001b[1m21s\u001b[0m 1s/step - accuracy: 0.6266 - loss: 1.0794 - val_accuracy: 0.4917 - val_loss: 1.9754\n",
      "Epoch 30/40\n",
      "\u001b[1m15/15\u001b[0m \u001b[32m━━━━━━━━━━━━━━━━━━━━\u001b[0m\u001b[37m\u001b[0m \u001b[1m0s\u001b[0m 1s/step - accuracy: 0.6484 - loss: 1.0236\n",
      "Epoch 30: val_accuracy did not improve from 0.58333\n",
      "\u001b[1m15/15\u001b[0m \u001b[32m━━━━━━━━━━━━━━━━━━━━\u001b[0m\u001b[37m\u001b[0m \u001b[1m22s\u001b[0m 1s/step - accuracy: 0.6467 - loss: 1.0253 - val_accuracy: 0.3250 - val_loss: 2.3870\n",
      "Epoch 31/40\n",
      "\u001b[1m15/15\u001b[0m \u001b[32m━━━━━━━━━━━━━━━━━━━━\u001b[0m\u001b[37m\u001b[0m \u001b[1m0s\u001b[0m 1s/step - accuracy: 0.6564 - loss: 0.9367\n",
      "Epoch 31: val_accuracy did not improve from 0.58333\n",
      "\u001b[1m15/15\u001b[0m \u001b[32m━━━━━━━━━━━━━━━━━━━━\u001b[0m\u001b[37m\u001b[0m \u001b[1m22s\u001b[0m 1s/step - accuracy: 0.6556 - loss: 0.9415 - val_accuracy: 0.3333 - val_loss: 2.8516\n",
      "Epoch 32/40\n",
      "\u001b[1m15/15\u001b[0m \u001b[32m━━━━━━━━━━━━━━━━━━━━\u001b[0m\u001b[37m\u001b[0m \u001b[1m0s\u001b[0m 1s/step - accuracy: 0.6204 - loss: 1.0524\n",
      "Epoch 32: val_accuracy did not improve from 0.58333\n",
      "\u001b[1m15/15\u001b[0m \u001b[32m━━━━━━━━━━━━━━━━━━━━\u001b[0m\u001b[37m\u001b[0m \u001b[1m21s\u001b[0m 1s/step - accuracy: 0.6216 - loss: 1.0527 - val_accuracy: 0.3083 - val_loss: 2.3878\n",
      "Epoch 33/40\n",
      "\u001b[1m15/15\u001b[0m \u001b[32m━━━━━━━━━━━━━━━━━━━━\u001b[0m\u001b[37m\u001b[0m \u001b[1m0s\u001b[0m 1s/step - accuracy: 0.6642 - loss: 0.9138\n",
      "Epoch 33: val_accuracy did not improve from 0.58333\n",
      "\u001b[1m15/15\u001b[0m \u001b[32m━━━━━━━━━━━━━━━━━━━━\u001b[0m\u001b[37m\u001b[0m \u001b[1m21s\u001b[0m 1s/step - accuracy: 0.6636 - loss: 0.9195 - val_accuracy: 0.4333 - val_loss: 2.0069\n",
      "Epoch 34/40\n",
      "\u001b[1m15/15\u001b[0m \u001b[32m━━━━━━━━━━━━━━━━━━━━\u001b[0m\u001b[37m\u001b[0m \u001b[1m0s\u001b[0m 1s/step - accuracy: 0.6901 - loss: 0.9272\n",
      "Epoch 34: val_accuracy did not improve from 0.58333\n",
      "\u001b[1m15/15\u001b[0m \u001b[32m━━━━━━━━━━━━━━━━━━━━\u001b[0m\u001b[37m\u001b[0m \u001b[1m22s\u001b[0m 1s/step - accuracy: 0.6883 - loss: 0.9307 - val_accuracy: 0.5417 - val_loss: 1.7978\n",
      "Epoch 35/40\n",
      "\u001b[1m15/15\u001b[0m \u001b[32m━━━━━━━━━━━━━━━━━━━━\u001b[0m\u001b[37m\u001b[0m \u001b[1m0s\u001b[0m 1s/step - accuracy: 0.6560 - loss: 0.9415\n",
      "Epoch 35: val_accuracy did not improve from 0.58333\n",
      "\u001b[1m15/15\u001b[0m \u001b[32m━━━━━━━━━━━━━━━━━━━━\u001b[0m\u001b[37m\u001b[0m \u001b[1m22s\u001b[0m 1s/step - accuracy: 0.6567 - loss: 0.9395 - val_accuracy: 0.4500 - val_loss: 2.4039\n",
      "Epoch 36/40\n",
      "\u001b[1m15/15\u001b[0m \u001b[32m━━━━━━━━━━━━━━━━━━━━\u001b[0m\u001b[37m\u001b[0m \u001b[1m0s\u001b[0m 1s/step - accuracy: 0.6819 - loss: 0.9101\n",
      "Epoch 36: val_accuracy did not improve from 0.58333\n",
      "\u001b[1m15/15\u001b[0m \u001b[32m━━━━━━━━━━━━━━━━━━━━\u001b[0m\u001b[37m\u001b[0m \u001b[1m22s\u001b[0m 1s/step - accuracy: 0.6831 - loss: 0.9063 - val_accuracy: 0.4667 - val_loss: 1.8993\n",
      "Epoch 37/40\n",
      "\u001b[1m15/15\u001b[0m \u001b[32m━━━━━━━━━━━━━━━━━━━━\u001b[0m\u001b[37m\u001b[0m \u001b[1m0s\u001b[0m 1s/step - accuracy: 0.6817 - loss: 0.8875\n",
      "Epoch 37: val_accuracy improved from 0.58333 to 0.60833, saving model to model_weights.keras\n",
      "\u001b[1m15/15\u001b[0m \u001b[32m━━━━━━━━━━━━━━━━━━━━\u001b[0m\u001b[37m\u001b[0m \u001b[1m22s\u001b[0m 1s/step - accuracy: 0.6804 - loss: 0.8889 - val_accuracy: 0.6083 - val_loss: 1.2435\n",
      "Epoch 38/40\n",
      "\u001b[1m15/15\u001b[0m \u001b[32m━━━━━━━━━━━━━━━━━━━━\u001b[0m\u001b[37m\u001b[0m \u001b[1m0s\u001b[0m 1s/step - accuracy: 0.6894 - loss: 0.9022\n",
      "Epoch 38: val_accuracy improved from 0.60833 to 0.63333, saving model to model_weights.keras\n",
      "\u001b[1m15/15\u001b[0m \u001b[32m━━━━━━━━━━━━━━━━━━━━\u001b[0m\u001b[37m\u001b[0m \u001b[1m23s\u001b[0m 1s/step - accuracy: 0.6885 - loss: 0.9048 - val_accuracy: 0.6333 - val_loss: 1.3217\n",
      "Epoch 39/40\n",
      "\u001b[1m15/15\u001b[0m \u001b[32m━━━━━━━━━━━━━━━━━━━━\u001b[0m\u001b[37m\u001b[0m \u001b[1m0s\u001b[0m 1s/step - accuracy: 0.7109 - loss: 0.7843\n",
      "Epoch 39: val_accuracy did not improve from 0.63333\n",
      "\u001b[1m15/15\u001b[0m \u001b[32m━━━━━━━━━━━━━━━━━━━━\u001b[0m\u001b[37m\u001b[0m \u001b[1m21s\u001b[0m 1s/step - accuracy: 0.7093 - loss: 0.7919 - val_accuracy: 0.5667 - val_loss: 1.5929\n",
      "Epoch 40/40\n",
      "\u001b[1m15/15\u001b[0m \u001b[32m━━━━━━━━━━━━━━━━━━━━\u001b[0m\u001b[37m\u001b[0m \u001b[1m0s\u001b[0m 1s/step - accuracy: 0.6749 - loss: 0.9149\n",
      "Epoch 40: val_accuracy did not improve from 0.63333\n",
      "\u001b[1m15/15\u001b[0m \u001b[32m━━━━━━━━━━━━━━━━━━━━\u001b[0m\u001b[37m\u001b[0m \u001b[1m22s\u001b[0m 1s/step - accuracy: 0.6759 - loss: 0.9128 - val_accuracy: 0.5167 - val_loss: 2.9970\n"
     ]
    }
   ],
   "source": [
    "epochs = 40\n",
    "batch_size = 15\n",
    "history = model.fit(train_generator,\n",
    "                              epochs=epochs,\n",
    "                              validation_data=Validation_generator,\n",
    "                              callbacks=callbacks_list,\n",
    "                              verbose=1)"
   ]
  },
  {
   "cell_type": "code",
   "execution_count": 46,
   "metadata": {},
   "outputs": [
    {
     "name": "stdout",
     "output_type": "stream",
     "text": [
      "\u001b[1m4/4\u001b[0m \u001b[32m━━━━━━━━━━━━━━━━━━━━\u001b[0m\u001b[37m\u001b[0m \u001b[1m1s\u001b[0m 306ms/step - accuracy: 0.6019 - loss: 2.8596\n"
     ]
    },
    {
     "data": {
      "text/plain": [
       "[2.8696131706237793, 0.574999988079071]"
      ]
     },
     "execution_count": 46,
     "metadata": {},
     "output_type": "execute_result"
    }
   ],
   "source": [
    "model.evaluate(x_test,y_test)"
   ]
  },
  {
   "cell_type": "code",
   "execution_count": 47,
   "metadata": {},
   "outputs": [],
   "source": [
    "# printing the list of labels\n",
    "labels = ['Black-grass','Charlock','Cleavers','Common-Chickweed','Common-wheat'\n",
    ",'Fat-Hen','Loose-Silky-bent','Maize','Scentless-Mayweed'\n",
    ",'Shepherds-Purse','Small-flowered-Cranesbill','Sugar-beet'] "
   ]
  },
  {
   "cell_type": "code",
   "execution_count": 48,
   "metadata": {},
   "outputs": [],
   "source": [
    "def test_image(img):\n",
    "       #converting the image frame to GaussianBlur \n",
    "    #ksize − A Size object representing the size of the kernel.\n",
    "    #sigmaX- A variable of the type double representing the Gaussian kernel standard deviation in X direction.\n",
    "    gaussblur = cv2.GaussianBlur(img,(5,5),0)\n",
    "    \n",
    "    #convert the gaussblur to hsv image\n",
    "    hsv_image = cv2.cvtColor(gaussblur,cv2.COLOR_BGR2HSV) \n",
    "    \n",
    "    #creating the mask for the hsv_image \n",
    "    lower_green = (25,40,50)\n",
    "    higher_green = (75,255,255) \n",
    "    mask = cv2.inRange(hsv_image,lower_green,higher_green) \n",
    "    kernel = cv2.getStructuringElement(cv2.MORPH_ELLIPSE,(11,11)) \n",
    "    mask = cv2.morphologyEx(mask,cv2.MORPH_CLOSE,kernel)  \n",
    "    \n",
    "    #create bool mask \n",
    "    bMask = mask > 0  \n",
    "    \n",
    "    #apply the mask to the image\n",
    "    clear = np.zeros_like(img,np.uint8) #return with the same image shape \n",
    "    clear[bMask] = img[bMask]  # Apply boolean mask to the origin image\n",
    "    \n",
    "    return clear "
   ]
  },
  {
   "cell_type": "code",
   "execution_count": 62,
   "metadata": {},
   "outputs": [
    {
     "name": "stdout",
     "output_type": "stream",
     "text": [
      "The shape (51, 51, 3)\n",
      "\u001b[1m1/1\u001b[0m \u001b[32m━━━━━━━━━━━━━━━━━━━━\u001b[0m\u001b[37m\u001b[0m \u001b[1m0s\u001b[0m 109ms/step\n",
      "The result: [[0.00175954 0.0153666  0.03243015 0.00808701 0.00252126 0.00132753\n",
      "  0.00216868 0.03877214 0.8294917  0.05393597 0.00530075 0.00883884]]\n",
      "The index value is: 8\n",
      "The label: Scentless-Mayweed\n"
     ]
    },
    {
     "data": {
      "image/png": "[encoded data removed]",
      "text/plain": [
       "<Figure size 640x480 with 1 Axes>"
      ]
     },
     "metadata": {},
     "output_type": "display_data"
    }
   ],
   "source": [
    "#C:\\Users\\Avinash\\Desktop\\Resume_Projects\\multiple_object_detection\\dataset\\Sugar-beet\\f506aa640.png \n",
    "#C:\\Users\\Avinash\\Desktop\\Resume_Projects\\multiple_object_detection\\dataset\\Small-flowered-Cranesbill\\0b26e2d09.png\n",
    "\n",
    "#prediciting the image\n",
    "frame = cv2.imread(r\"C:\\Users\\Avinash\\Desktop\\Resume_Projects\\multiple_object_detection\\dataset\\Scentless-Mayweed\\0d58d5433.png\")\n",
    "# frame = mask_image(frame)\n",
    "frame = test_image(frame)\n",
    "# frame = x_test[0]\n",
    "print(\"The shape\",frame.shape)\n",
    "frame = cv2.resize(frame,(70, 70))\n",
    "#show the image\n",
    "plt.imshow(frame)\n",
    "frame = frame.reshape(1,70, 70, 3)\n",
    "result = model.predict(frame) #predicting the result\n",
    "print(\"The result:\",result)\n",
    "#Getting the index from the result\n",
    "index = result.argmax() #getting the max value index\n",
    "print(\"The index value is:\",index)\n",
    "#getting the label\n",
    "resulted_label = labels[index]\n",
    "\n",
    "#printing the label\n",
    "print(\"The label:\",resulted_label)"
   ]
  },
  {
   "cell_type": "code",
   "execution_count": 63,
   "metadata": {},
   "outputs": [
    {
     "name": "stdout",
     "output_type": "stream",
     "text": [
      "INFO:tensorflow:Assets written to: C:\\Users\\Avinash\\AppData\\Local\\Temp\\tmpbpf296vz\\assets\n"
     ]
    },
    {
     "name": "stderr",
     "output_type": "stream",
     "text": [
      "INFO:tensorflow:Assets written to: C:\\Users\\Avinash\\AppData\\Local\\Temp\\tmpbpf296vz\\assets\n"
     ]
    },
    {
     "name": "stdout",
     "output_type": "stream",
     "text": [
      "Saved artifact at 'C:\\Users\\Avinash\\AppData\\Local\\Temp\\tmpbpf296vz'. The following endpoints are available:\n",
      "\n",
      "* Endpoint 'serve'\n",
      "  args_0 (POSITIONAL_ONLY): TensorSpec(shape=(None, 70, 70, 3), dtype=tf.float32, name='keras_tensor_352')\n",
      "Output Type:\n",
      "  TensorSpec(shape=(None, 12), dtype=tf.float32, name=None)\n",
      "Captures:\n",
      "  2036277743632: TensorSpec(shape=(), dtype=tf.resource, name=None)\n",
      "  2036277744208: TensorSpec(shape=(), dtype=tf.resource, name=None)\n",
      "  2036277743248: TensorSpec(shape=(), dtype=tf.resource, name=None)\n",
      "  2036277743824: TensorSpec(shape=(), dtype=tf.resource, name=None)\n",
      "  2036277744400: TensorSpec(shape=(), dtype=tf.resource, name=None)\n",
      "  2036277744016: TensorSpec(shape=(), dtype=tf.resource, name=None)\n",
      "  2036277745936: TensorSpec(shape=(), dtype=tf.resource, name=None)\n",
      "  2036277746512: TensorSpec(shape=(), dtype=tf.resource, name=None)\n",
      "  2036277746320: TensorSpec(shape=(), dtype=tf.resource, name=None)\n",
      "  2036277744976: TensorSpec(shape=(), dtype=tf.resource, name=None)\n",
      "  2036277746704: TensorSpec(shape=(), dtype=tf.resource, name=None)\n",
      "  2036277746128: TensorSpec(shape=(), dtype=tf.resource, name=None)\n",
      "  2036277748048: TensorSpec(shape=(), dtype=tf.resource, name=None)\n",
      "  2036277749200: TensorSpec(shape=(), dtype=tf.resource, name=None)\n",
      "  2036277749008: TensorSpec(shape=(), dtype=tf.resource, name=None)\n",
      "  2036277741904: TensorSpec(shape=(), dtype=tf.resource, name=None)\n",
      "  2036277749392: TensorSpec(shape=(), dtype=tf.resource, name=None)\n",
      "  2036277748816: TensorSpec(shape=(), dtype=tf.resource, name=None)\n",
      "  2036277750736: TensorSpec(shape=(), dtype=tf.resource, name=None)\n",
      "  2036277751696: TensorSpec(shape=(), dtype=tf.resource, name=None)\n",
      "  2036277751504: TensorSpec(shape=(), dtype=tf.resource, name=None)\n",
      "  2036277750352: TensorSpec(shape=(), dtype=tf.resource, name=None)\n",
      "  2036277751888: TensorSpec(shape=(), dtype=tf.resource, name=None)\n",
      "  2036277751312: TensorSpec(shape=(), dtype=tf.resource, name=None)\n",
      "  2036277753232: TensorSpec(shape=(), dtype=tf.resource, name=None)\n",
      "  2036277754384: TensorSpec(shape=(), dtype=tf.resource, name=None)\n",
      "  2036277754192: TensorSpec(shape=(), dtype=tf.resource, name=None)\n",
      "  2036277755152: TensorSpec(shape=(), dtype=tf.resource, name=None)\n",
      "  2036277754576: TensorSpec(shape=(), dtype=tf.resource, name=None)\n",
      "  2036277754000: TensorSpec(shape=(), dtype=tf.resource, name=None)\n",
      "  2036277755536: TensorSpec(shape=(), dtype=tf.resource, name=None)\n",
      "  2036802339664: TensorSpec(shape=(), dtype=tf.resource, name=None)\n",
      "  2036802340816: TensorSpec(shape=(), dtype=tf.resource, name=None)\n",
      "  2036802340432: TensorSpec(shape=(), dtype=tf.resource, name=None)\n",
      "  2036802341008: TensorSpec(shape=(), dtype=tf.resource, name=None)\n",
      "  2036802340624: TensorSpec(shape=(), dtype=tf.resource, name=None)\n",
      "  2036153400784: TensorSpec(shape=(), dtype=tf.resource, name=None)\n",
      "  2036153397712: TensorSpec(shape=(), dtype=tf.resource, name=None)\n",
      "  2036056604112: TensorSpec(shape=(), dtype=tf.resource, name=None)\n",
      "  2036802343888: TensorSpec(shape=(), dtype=tf.resource, name=None)\n",
      "  2036153400976: TensorSpec(shape=(), dtype=tf.resource, name=None)\n",
      "  2036056601040: TensorSpec(shape=(), dtype=tf.resource, name=None)\n",
      "  2036802346768: TensorSpec(shape=(), dtype=tf.resource, name=None)\n",
      "  2036802348112: TensorSpec(shape=(), dtype=tf.resource, name=None)\n",
      "  2036802349264: TensorSpec(shape=(), dtype=tf.resource, name=None)\n",
      "  2036802348880: TensorSpec(shape=(), dtype=tf.resource, name=None)\n",
      "  2036802349456: TensorSpec(shape=(), dtype=tf.resource, name=None)\n",
      "  2036802349072: TensorSpec(shape=(), dtype=tf.resource, name=None)\n",
      "  2036802350992: TensorSpec(shape=(), dtype=tf.resource, name=None)\n",
      "  2036802352144: TensorSpec(shape=(), dtype=tf.resource, name=None)\n"
     ]
    }
   ],
   "source": [
    "# Convert the model\n",
    "converter = tf.lite.TFLiteConverter.from_keras_model(model)\n",
    "tflite_model = converter.convert()\n"
   ]
  },
  {
   "cell_type": "code",
   "execution_count": 64,
   "metadata": {},
   "outputs": [],
   "source": [
    "# Save the model.\n",
    "with open('model.pt', 'wb') as f:\n",
    "  f.write(tflite_model)"
   ]
  },
  {
   "cell_type": "code",
   "execution_count": null,
   "metadata": {},
   "outputs": [],
   "source": []
  }
 ],
 "metadata": {
  "kernelspec": {
   "display_name": "plantseed",
   "language": "python",
   "name": "python3"
  },
  "language_info": {
   "codemirror_mode": {
    "name": "ipython",
    "version": 3
   },
   "file_extension": ".py",
   "mimetype": "text/x-python",
   "name": "python",
   "nbconvert_exporter": "python",
   "pygments_lexer": "ipython3",
   "version": "3.12.2"
  }
 },
 "nbformat": 4,
 "nbformat_minor": 2
}
