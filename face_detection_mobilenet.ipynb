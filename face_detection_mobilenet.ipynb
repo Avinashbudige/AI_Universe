{
 "cells": [
  {
   "cell_type": "code",
   "execution_count": 25,
   "metadata": {},
   "outputs": [],
   "source": [
    "# %tensorflow_version 2.x\n",
    "import tensorflow\n",
    "tensorflow.__version__\n",
    "\n",
    "import random\n",
    "random.seed(0)\n",
    "\n",
    "# Ignore the warnings\n",
    "import warnings\n",
    "warnings.filterwarnings(\"ignore\")\n",
    "import os\n",
    "import numpy as np\n",
    "import pandas as pd\n",
    "import cv2\n",
    "from glob import glob\n",
    "import tensorflow as tf #for creating the layers\n",
    "import matplotlib.pyplot as plt #for showing the image\n",
    "from sklearn.model_selection import train_test_split #for spliting the data in to train test split\n",
    "\n",
    "\n",
    "# importing the layers from the keras\n",
    "from tensorflow.keras.layers import Conv2D, Activation, BatchNormalization #for creating the layers\n",
    "from tensorflow.keras.layers import UpSampling2D, Input, Concatenate\n",
    "from tensorflow.keras.models import Model\n",
    "from tensorflow.keras.applications import MobileNetV2 #Mobile net.\n",
    "from tensorflow.keras.callbacks import EarlyStopping, ReduceLROnPlateau #Early Stop \n",
    "from tensorflow.keras.metrics import Recall, Precision #Recall and precision scores.\n",
    "from tensorflow.keras import backend as K\n",
    "from PIL import Image \n",
    "from tensorflow.keras.applications.mobilenet import preprocess_input\n",
    "from numpy import asarray"
   ]
  },
  {
   "cell_type": "markdown",
   "metadata": {},
   "source": [
    "# To build a face detection system."
   ]
  },
  {
   "cell_type": "code",
   "execution_count": 19,
   "metadata": {},
   "outputs": [
    {
     "data": {
      "text/plain": [
       "(409, 2)"
      ]
     },
     "execution_count": 19,
     "metadata": {},
     "output_type": "execute_result"
    }
   ],
   "source": [
    "#importing the image.npy \n",
    "data = np.load(\"images.npy\",allow_pickle=True)\n",
    "data.shape"
   ]
  },
  {
   "cell_type": "code",
   "execution_count": 21,
   "metadata": {},
   "outputs": [
    {
     "data": {
      "text/plain": [
       "(333, 650, 3)"
      ]
     },
     "execution_count": 21,
     "metadata": {},
     "output_type": "execute_result"
    }
   ],
   "source": [
    "# Size of the image\n",
    "data[0][0].shape"
   ]
  },
  {
   "cell_type": "code",
   "execution_count": 22,
   "metadata": {},
   "outputs": [
    {
     "data": {
      "text/plain": [
       "[{'label': ['Face'],\n",
       "  'notes': '',\n",
       "  'points': [{'x': 0.08615384615384615, 'y': 0.3063063063063063},\n",
       "   {'x': 0.1723076923076923, 'y': 0.45345345345345345}],\n",
       "  'imageWidth': 650,\n",
       "  'imageHeight': 333},\n",
       " {'label': ['Face'],\n",
       "  'notes': '',\n",
       "  'points': [{'x': 0.583076923076923, 'y': 0.2912912912912913},\n",
       "   {'x': 0.6584615384615384, 'y': 0.46846846846846846}],\n",
       "  'imageWidth': 650,\n",
       "  'imageHeight': 333}]"
      ]
     },
     "execution_count": 22,
     "metadata": {},
     "output_type": "execute_result"
    }
   ],
   "source": [
    "# The coordinates of the images\n",
    "data[0][1]"
   ]
  },
  {
   "cell_type": "markdown",
   "metadata": {},
   "source": [
    "409 Images and 409 labels"
   ]
  },
  {
   "cell_type": "markdown",
   "metadata": {},
   "source": [
    "# Preprocessing the images"
   ]
  },
  {
   "cell_type": "code",
   "execution_count": 33,
   "metadata": {},
   "outputs": [
    {
     "name": "stdout",
     "output_type": "stream",
     "text": [
      "Exception 272 Grayscale image with shape (224, 224)\n",
      "### Shape of X is '(409, 224, 224, 3)' and the shape of mask is '(409, 224, 224)' \n"
     ]
    }
   ],
   "source": [
    "from tensorflow.keras.applications.mobilenet import preprocess_input\n",
    "\n",
    "IMAGE_HEIGHT = 224\n",
    "IMAGE_WIDTH = 224\n",
    "\n",
    "HEIGHT_CELLS = 28\n",
    "WIDTH_CELLS = 28\n",
    "\n",
    "IMAGE_SIZE = 224\n",
    "\n",
    "masks = np.zeros((int(data.shape[0]), IMAGE_HEIGHT, IMAGE_WIDTH))\n",
    "X = np.zeros((int(data.shape[0]),IMAGE_HEIGHT, IMAGE_WIDTH, 3))\n",
    "\n",
    "for index in range(data.shape[0]):\n",
    "  img = data[index][0]\n",
    "  img = cv2.resize(img, dsize=(IMAGE_HEIGHT, IMAGE_WIDTH), interpolation=cv2.INTER_CUBIC)\n",
    "  # assign all pixels in the first 3 channels only to the image, i.e., discard the alpha channel\n",
    "  try:\n",
    "    img = img[:,:,:3]\n",
    "  except:\n",
    "    print(f\"Exception {index} Grayscale image with shape {img.shape}\")\n",
    "    # convert the grayscale image to color so that the number of channels are standardized to 3\n",
    "    img = cv2.cvtColor(img, cv2.COLOR_GRAY2RGB)\n",
    "    continue\n",
    "  X[index] = preprocess_input(np.array(img, dtype=np.float32))\n",
    "  # Loop through the face co-ordinates and create mask out of it.\n",
    "  for i in data[index][1]:\n",
    "    x1 = int(i['points'][0]['x'] * IMAGE_WIDTH)\n",
    "    x2 = int(i['points'][1]['x'] * IMAGE_WIDTH)\n",
    "    y1 = int(i['points'][0]['y'] * IMAGE_HEIGHT)\n",
    "    y2 = int(i['points'][1]['y'] * IMAGE_HEIGHT)\n",
    "    # set all pixels within the mask co-ordinates to 1.\n",
    "    masks[index][y1:y2, x1:x2] = 1\n",
    "print(f\"### Shape of X is '{X.shape}' and the shape of mask is '{masks.shape}' \")"
   ]
  },
  {
   "cell_type": "markdown",
   "metadata": {},
   "source": [
    "# split the data into train test "
   ]
  },
  {
   "cell_type": "code",
   "execution_count": 51,
   "metadata": {},
   "outputs": [
    {
     "name": "stdout",
     "output_type": "stream",
     "text": [
      "Shape of X_train is '(327, 224, 224, 3)' and the shape of y_train is '(327, 224, 224)'\n",
      "Shape of X_val is '(65, 224, 224, 3)' and the shape of y_val is '(65, 224, 224)'\n",
      "Shape of X_test is '(17, 224, 224, 3)' and the shape of y_test is '(17, 224, 224)'\n"
     ]
    }
   ],
   "source": [
    "from sklearn.model_selection import train_test_split\n",
    "\n",
    "X_train, X_test, y_train, y_test = train_test_split(X, masks, test_size=0.2)\n",
    "X_val, X_test, y_val, y_test = train_test_split(X_test, y_test, test_size=0.2)\n",
    "\n",
    "print(f\"Shape of X_train is '{X_train.shape}' and the shape of y_train is '{y_train.shape}'\")\n",
    "print(f\"Shape of X_val is '{X_val.shape}' and the shape of y_val is '{y_val.shape}'\")\n",
    "print(f\"Shape of X_test is '{X_test.shape}' and the shape of y_test is '{y_test.shape}'\")"
   ]
  },
  {
   "cell_type": "markdown",
   "metadata": {},
   "source": [
    "# ploting the image"
   ]
  },
  {
   "cell_type": "code",
   "execution_count": 57,
   "metadata": {},
   "outputs": [
    {
     "name": "stderr",
     "output_type": "stream",
     "text": [
      "Clipping input data to the valid range for imshow with RGB data ([0..1] for floats or [0..255] for integers). Got range [-1.0..1.0].\n",
      "Clipping input data to the valid range for imshow with RGB data ([0..1] for floats or [0..255] for integers). Got range [-1.0..1.0].\n"
     ]
    },
    {
     "data": {
      "text/plain": [
       "<matplotlib.image.AxesImage at 0x2488d31cdf0>"
      ]
     },
     "execution_count": 57,
     "metadata": {},
     "output_type": "execute_result"
    },
    {
     "data": {
      "image/png": "[encoded data removed]",
      "text/plain": [
       "<Figure size 640x480 with 2 Axes>"
      ]
     },
     "metadata": {},
     "output_type": "display_data"
    }
   ],
   "source": [
    "plt.subplot(2,3,1)\n",
    "plt.imshow(X[0])\n",
    "plt.subplot(2,3,2)\n",
    "plt.imshow(masks[0])\n",
    "plt.subplot(2,3,1)\n",
    "plt.imshow(X[1])\n",
    "plt.subplot(2,3,2)\n",
    "plt.imshow(masks[1])"
   ]
  },
  {
   "cell_type": "code",
   "execution_count": null,
   "metadata": {},
   "outputs": [],
   "source": []
  }
 ],
 "metadata": {
  "kernelspec": {
   "display_name": "tfobjectdect",
   "language": "python",
   "name": "python3"
  },
  "language_info": {
   "codemirror_mode": {
    "name": "ipython",
    "version": 3
   },
   "file_extension": ".py",
   "mimetype": "text/x-python",
   "name": "python",
   "nbconvert_exporter": "python",
   "pygments_lexer": "ipython3",
   "version": "3.9.19"
  }
 },
 "nbformat": 4,
 "nbformat_minor": 2
}
